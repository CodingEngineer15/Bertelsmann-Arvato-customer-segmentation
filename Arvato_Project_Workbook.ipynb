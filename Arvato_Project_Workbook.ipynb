{
 "cells": [
  {
   "cell_type": "markdown",
   "metadata": {},
   "source": [
    "# Capstone Project: Create a Customer Segmentation Report for Arvato Financial Services\n",
    "\n",
    "In this project, you will analyze demographics data for customers of a mail-order sales company in Germany, comparing it against demographics information for the general population. You'll use unsupervised learning techniques to perform customer segmentation, identifying the parts of the population that best describe the core customer base of the company. Then, you'll apply what you've learned on a third dataset with demographics information for targets of a marketing campaign for the company, and use a model to predict which individuals are most likely to convert into becoming customers for the company. The data that you will use has been provided by our partners at Bertelsmann Arvato Analytics, and represents a real-life data science task.\n",
    "\n",
    "If you completed the first term of this program, you will be familiar with the first part of this project, from the unsupervised learning project. The versions of those two datasets used in this project will include many more features and has not been pre-cleaned. You are also free to choose whatever approach you'd like to analyzing the data rather than follow pre-determined steps. In your work on this project, make sure that you carefully document your steps and decisions, since your main deliverable for this project will be a blog post reporting your findings."
   ]
  },
  {
   "cell_type": "code",
   "execution_count": 21,
   "metadata": {},
   "outputs": [],
   "source": [
    "# import libraries here; add more as necessary\n",
    "from pprint import pprint \n",
    "\n",
    "import numpy as np\n",
    "import pandas as pd\n",
    "import matplotlib.pyplot as plt\n",
    "import seaborn as sns\n",
    "\n",
    "from sklearn.decomposition import PCA\n",
    "from sklearn.compose import ColumnTransformer\n",
    "from sklearn.pipeline import Pipeline, make_pipeline\n",
    "from sklearn.preprocessing import StandardScaler, OrdinalEncoder, MinMaxScaler\n",
    "from sklearn.impute import SimpleImputer\n",
    "from sklearn.model_selection import train_test_split\n",
    "from sklearn.metrics import roc_auc_score, f1_score, accuracy_score\n",
    "from sklearn.feature_selection import SelectKBest, chi2\n",
    "from sklearn.model_selection import GridSearchCV\n",
    "from sklearn.linear_model import LogisticRegression, LinearRegression\n",
    "from sklearn.naive_bayes import GaussianNB\n",
    "from sklearn.neighbors import KNeighborsClassifier\n",
    "from sklearn.inspection import permutation_importance\n",
    "from sklearn.ensemble import RandomForestClassifier\n",
    "from sklearn.tree import DecisionTreeClassifier\n",
    "\n",
    "from xgboost import XGBRFClassifier\n",
    "\n",
    "import warnings\n",
    "warnings.filterwarnings('ignore')\n",
    "pd.set_option('display.max_colwidth', None)\n",
    "# magic word for producing visualizations in notebook\n",
    "%matplotlib inline"
   ]
  },
  {
   "cell_type": "markdown",
   "metadata": {},
   "source": [
    "## Part 0: Get to Know the Data\n",
    "\n",
    "There are four data files associated with this project:\n",
    "\n",
    "- `Udacity_AZDIAS_052018.csv`: Demographics data for the general population of Germany; 891 211 persons (rows) x 366 features (columns).\n",
    "- `Udacity_CUSTOMERS_052018.csv`: Demographics data for customers of a mail-order company; 191 652 persons (rows) x 369 features (columns).\n",
    "- `Udacity_MAILOUT_052018_TRAIN.csv`: Demographics data for individuals who were targets of a marketing campaign; 42 982 persons (rows) x 367 (columns).\n",
    "- `Udacity_MAILOUT_052018_TEST.csv`: Demographics data for individuals who were targets of a marketing campaign; 42 833 persons (rows) x 366 (columns).\n",
    "\n",
    "Each row of the demographics files represents a single person, but also includes information outside of individuals, including information about their household, building, and neighborhood. Use the information from the first two files to figure out how customers (\"CUSTOMERS\") are similar to or differ from the general population at large (\"AZDIAS\"), then use your analysis to make predictions on the other two files (\"MAILOUT\"), predicting which recipients are most likely to become a customer for the mail-order company.\n",
    "\n",
    "The \"CUSTOMERS\" file contains three extra columns ('CUSTOMER_GROUP', 'ONLINE_PURCHASE', and 'PRODUCT_GROUP'), which provide broad information about the customers depicted in the file. The original \"MAILOUT\" file included one additional column, \"RESPONSE\", which indicated whether or not each recipient became a customer of the company. For the \"TRAIN\" subset, this column has been retained, but in the \"TEST\" subset it has been removed; it is against that withheld column that your final predictions will be assessed in the Kaggle competition.\n",
    "\n",
    "Otherwise, all of the remaining columns are the same between the three data files. For more information about the columns depicted in the files, you can refer to two Excel spreadsheets provided in the workspace. [One of them](./DIAS Information Levels - Attributes 2017.xlsx) is a top-level list of attributes and descriptions, organized by informational category. [The other](./DIAS Attributes - Values 2017.xlsx) is a detailed mapping of data values for each feature in alphabetical order.\n",
    "\n",
    "In the below cell, we've provided some initial code to load in the first two datasets. Note for all of the `.csv` data files in this project that they're semicolon (`;`) delimited, so an additional argument in the [`read_csv()`](https://pandas.pydata.org/pandas-docs/stable/generated/pandas.read_csv.html) call has been included to read in the data properly. Also, considering the size of the datasets, it may take some time for them to load completely.\n",
    "\n",
    "You'll notice when the data is loaded in that a warning message will immediately pop up. Before you really start digging into the modeling and analysis, you're going to need to perform some cleaning. Take some time to browse the structure of the data and look over the informational spreadsheets to understand the data values. Make some decisions on which features to keep, which features to drop, and if any revisions need to be made on data formats. It'll be a good idea to create a function with pre-processing steps, since you'll need to clean all of the datasets before you work with them."
   ]
  },
  {
   "cell_type": "markdown",
   "metadata": {},
   "source": [
    "# load in the data\n",
    "azdias = pd.read_csv('../../data/Term2/capstone/arvato_data/Udacity_AZDIAS_052018.csv', sep=';')\n",
    "customers = pd.read_csv('../../data/Term2/capstone/arvato_data/Udacity_CUSTOMERS_052018.csv', sep=';')"
   ]
  },
  {
   "cell_type": "code",
   "execution_count": 2,
   "metadata": {},
   "outputs": [],
   "source": [
    "azdias = pd.read_csv('Udacity_AZDIAS_052018.csv', low_memory=False)\n",
    "customers = pd.read_csv('Udacity_CUSTOMERS_052018.csv', low_memory=False)"
   ]
  },
  {
   "cell_type": "markdown",
   "metadata": {},
   "source": [
    "First lets check the general information about the `azdias` and `customer` dataframes"
   ]
  },
  {
   "cell_type": "code",
   "execution_count": 3,
   "metadata": {},
   "outputs": [
    {
     "name": "stdout",
     "output_type": "stream",
     "text": [
      "<class 'pandas.core.frame.DataFrame'>\n",
      "RangeIndex: 891221 entries, 0 to 891220\n",
      "Columns: 367 entries, Unnamed: 0 to ALTERSKATEGORIE_GROB\n",
      "dtypes: float64(267), int64(94), object(6)\n",
      "memory usage: 2.4+ GB\n"
     ]
    }
   ],
   "source": [
    "azdias.info()"
   ]
  },
  {
   "cell_type": "code",
   "execution_count": 4,
   "metadata": {},
   "outputs": [
    {
     "name": "stdout",
     "output_type": "stream",
     "text": [
      "<class 'pandas.core.frame.DataFrame'>\n",
      "RangeIndex: 191652 entries, 0 to 191651\n",
      "Columns: 370 entries, Unnamed: 0 to ALTERSKATEGORIE_GROB\n",
      "dtypes: float64(267), int64(95), object(8)\n",
      "memory usage: 541.0+ MB\n"
     ]
    }
   ],
   "source": [
    "customers.info()"
   ]
  },
  {
   "cell_type": "code",
   "execution_count": 5,
   "metadata": {},
   "outputs": [
    {
     "data": {
      "text/html": [
       "<div>\n",
       "<style scoped>\n",
       "    .dataframe tbody tr th:only-of-type {\n",
       "        vertical-align: middle;\n",
       "    }\n",
       "\n",
       "    .dataframe tbody tr th {\n",
       "        vertical-align: top;\n",
       "    }\n",
       "\n",
       "    .dataframe thead th {\n",
       "        text-align: right;\n",
       "    }\n",
       "</style>\n",
       "<table border=\"1\" class=\"dataframe\">\n",
       "  <thead>\n",
       "    <tr style=\"text-align: right;\">\n",
       "      <th></th>\n",
       "      <th>Unnamed: 0</th>\n",
       "      <th>LNR</th>\n",
       "      <th>AGER_TYP</th>\n",
       "      <th>AKT_DAT_KL</th>\n",
       "      <th>ALTER_HH</th>\n",
       "      <th>ALTER_KIND1</th>\n",
       "      <th>ALTER_KIND2</th>\n",
       "      <th>ALTER_KIND3</th>\n",
       "      <th>ALTER_KIND4</th>\n",
       "      <th>ALTERSKATEGORIE_FEIN</th>\n",
       "      <th>...</th>\n",
       "      <th>VK_ZG11</th>\n",
       "      <th>W_KEIT_KIND_HH</th>\n",
       "      <th>WOHNDAUER_2008</th>\n",
       "      <th>WOHNLAGE</th>\n",
       "      <th>ZABEOTYP</th>\n",
       "      <th>PRODUCT_GROUP</th>\n",
       "      <th>CUSTOMER_GROUP</th>\n",
       "      <th>ONLINE_PURCHASE</th>\n",
       "      <th>ANREDE_KZ</th>\n",
       "      <th>ALTERSKATEGORIE_GROB</th>\n",
       "    </tr>\n",
       "  </thead>\n",
       "  <tbody>\n",
       "    <tr>\n",
       "      <th>0</th>\n",
       "      <td>0</td>\n",
       "      <td>9626</td>\n",
       "      <td>2</td>\n",
       "      <td>1.0</td>\n",
       "      <td>10.0</td>\n",
       "      <td>NaN</td>\n",
       "      <td>NaN</td>\n",
       "      <td>NaN</td>\n",
       "      <td>NaN</td>\n",
       "      <td>10.0</td>\n",
       "      <td>...</td>\n",
       "      <td>2.0</td>\n",
       "      <td>6.0</td>\n",
       "      <td>9.0</td>\n",
       "      <td>7.0</td>\n",
       "      <td>3</td>\n",
       "      <td>COSMETIC_AND_FOOD</td>\n",
       "      <td>MULTI_BUYER</td>\n",
       "      <td>0</td>\n",
       "      <td>1</td>\n",
       "      <td>4</td>\n",
       "    </tr>\n",
       "    <tr>\n",
       "      <th>1</th>\n",
       "      <td>1</td>\n",
       "      <td>9628</td>\n",
       "      <td>-1</td>\n",
       "      <td>9.0</td>\n",
       "      <td>11.0</td>\n",
       "      <td>NaN</td>\n",
       "      <td>NaN</td>\n",
       "      <td>NaN</td>\n",
       "      <td>NaN</td>\n",
       "      <td>NaN</td>\n",
       "      <td>...</td>\n",
       "      <td>3.0</td>\n",
       "      <td>0.0</td>\n",
       "      <td>9.0</td>\n",
       "      <td>NaN</td>\n",
       "      <td>3</td>\n",
       "      <td>FOOD</td>\n",
       "      <td>SINGLE_BUYER</td>\n",
       "      <td>0</td>\n",
       "      <td>1</td>\n",
       "      <td>4</td>\n",
       "    </tr>\n",
       "    <tr>\n",
       "      <th>2</th>\n",
       "      <td>2</td>\n",
       "      <td>143872</td>\n",
       "      <td>-1</td>\n",
       "      <td>1.0</td>\n",
       "      <td>6.0</td>\n",
       "      <td>NaN</td>\n",
       "      <td>NaN</td>\n",
       "      <td>NaN</td>\n",
       "      <td>NaN</td>\n",
       "      <td>0.0</td>\n",
       "      <td>...</td>\n",
       "      <td>11.0</td>\n",
       "      <td>6.0</td>\n",
       "      <td>9.0</td>\n",
       "      <td>2.0</td>\n",
       "      <td>3</td>\n",
       "      <td>COSMETIC_AND_FOOD</td>\n",
       "      <td>MULTI_BUYER</td>\n",
       "      <td>0</td>\n",
       "      <td>2</td>\n",
       "      <td>4</td>\n",
       "    </tr>\n",
       "  </tbody>\n",
       "</table>\n",
       "<p>3 rows × 370 columns</p>\n",
       "</div>"
      ],
      "text/plain": [
       "   Unnamed: 0     LNR  AGER_TYP  AKT_DAT_KL  ALTER_HH  ALTER_KIND1  \\\n",
       "0           0    9626         2         1.0      10.0          NaN   \n",
       "1           1    9628        -1         9.0      11.0          NaN   \n",
       "2           2  143872        -1         1.0       6.0          NaN   \n",
       "\n",
       "   ALTER_KIND2  ALTER_KIND3  ALTER_KIND4  ALTERSKATEGORIE_FEIN  ...  VK_ZG11  \\\n",
       "0          NaN          NaN          NaN                  10.0  ...      2.0   \n",
       "1          NaN          NaN          NaN                   NaN  ...      3.0   \n",
       "2          NaN          NaN          NaN                   0.0  ...     11.0   \n",
       "\n",
       "   W_KEIT_KIND_HH  WOHNDAUER_2008  WOHNLAGE  ZABEOTYP      PRODUCT_GROUP  \\\n",
       "0             6.0             9.0       7.0         3  COSMETIC_AND_FOOD   \n",
       "1             0.0             9.0       NaN         3               FOOD   \n",
       "2             6.0             9.0       2.0         3  COSMETIC_AND_FOOD   \n",
       "\n",
       "   CUSTOMER_GROUP  ONLINE_PURCHASE ANREDE_KZ ALTERSKATEGORIE_GROB  \n",
       "0     MULTI_BUYER                0         1                    4  \n",
       "1    SINGLE_BUYER                0         1                    4  \n",
       "2     MULTI_BUYER                0         2                    4  \n",
       "\n",
       "[3 rows x 370 columns]"
      ]
     },
     "execution_count": 5,
     "metadata": {},
     "output_type": "execute_result"
    }
   ],
   "source": [
    "customers.head(3)"
   ]
  },
  {
   "cell_type": "code",
   "execution_count": 6,
   "metadata": {},
   "outputs": [
    {
     "data": {
      "text/html": [
       "<div>\n",
       "<style scoped>\n",
       "    .dataframe tbody tr th:only-of-type {\n",
       "        vertical-align: middle;\n",
       "    }\n",
       "\n",
       "    .dataframe tbody tr th {\n",
       "        vertical-align: top;\n",
       "    }\n",
       "\n",
       "    .dataframe thead th {\n",
       "        text-align: right;\n",
       "    }\n",
       "</style>\n",
       "<table border=\"1\" class=\"dataframe\">\n",
       "  <thead>\n",
       "    <tr style=\"text-align: right;\">\n",
       "      <th></th>\n",
       "      <th>Unnamed: 0</th>\n",
       "      <th>LNR</th>\n",
       "      <th>AGER_TYP</th>\n",
       "      <th>AKT_DAT_KL</th>\n",
       "      <th>ALTER_HH</th>\n",
       "      <th>ALTER_KIND1</th>\n",
       "      <th>ALTER_KIND2</th>\n",
       "      <th>ALTER_KIND3</th>\n",
       "      <th>ALTER_KIND4</th>\n",
       "      <th>ALTERSKATEGORIE_FEIN</th>\n",
       "      <th>...</th>\n",
       "      <th>VHN</th>\n",
       "      <th>VK_DHT4A</th>\n",
       "      <th>VK_DISTANZ</th>\n",
       "      <th>VK_ZG11</th>\n",
       "      <th>W_KEIT_KIND_HH</th>\n",
       "      <th>WOHNDAUER_2008</th>\n",
       "      <th>WOHNLAGE</th>\n",
       "      <th>ZABEOTYP</th>\n",
       "      <th>ANREDE_KZ</th>\n",
       "      <th>ALTERSKATEGORIE_GROB</th>\n",
       "    </tr>\n",
       "  </thead>\n",
       "  <tbody>\n",
       "    <tr>\n",
       "      <th>0</th>\n",
       "      <td>0</td>\n",
       "      <td>910215</td>\n",
       "      <td>-1</td>\n",
       "      <td>NaN</td>\n",
       "      <td>NaN</td>\n",
       "      <td>NaN</td>\n",
       "      <td>NaN</td>\n",
       "      <td>NaN</td>\n",
       "      <td>NaN</td>\n",
       "      <td>NaN</td>\n",
       "      <td>...</td>\n",
       "      <td>NaN</td>\n",
       "      <td>NaN</td>\n",
       "      <td>NaN</td>\n",
       "      <td>NaN</td>\n",
       "      <td>NaN</td>\n",
       "      <td>NaN</td>\n",
       "      <td>NaN</td>\n",
       "      <td>3</td>\n",
       "      <td>1</td>\n",
       "      <td>2</td>\n",
       "    </tr>\n",
       "    <tr>\n",
       "      <th>1</th>\n",
       "      <td>1</td>\n",
       "      <td>910220</td>\n",
       "      <td>-1</td>\n",
       "      <td>9.0</td>\n",
       "      <td>0.0</td>\n",
       "      <td>NaN</td>\n",
       "      <td>NaN</td>\n",
       "      <td>NaN</td>\n",
       "      <td>NaN</td>\n",
       "      <td>21.0</td>\n",
       "      <td>...</td>\n",
       "      <td>4.0</td>\n",
       "      <td>8.0</td>\n",
       "      <td>11.0</td>\n",
       "      <td>10.0</td>\n",
       "      <td>3.0</td>\n",
       "      <td>9.0</td>\n",
       "      <td>4.0</td>\n",
       "      <td>5</td>\n",
       "      <td>2</td>\n",
       "      <td>1</td>\n",
       "    </tr>\n",
       "    <tr>\n",
       "      <th>2</th>\n",
       "      <td>2</td>\n",
       "      <td>910225</td>\n",
       "      <td>-1</td>\n",
       "      <td>9.0</td>\n",
       "      <td>17.0</td>\n",
       "      <td>NaN</td>\n",
       "      <td>NaN</td>\n",
       "      <td>NaN</td>\n",
       "      <td>NaN</td>\n",
       "      <td>17.0</td>\n",
       "      <td>...</td>\n",
       "      <td>2.0</td>\n",
       "      <td>9.0</td>\n",
       "      <td>9.0</td>\n",
       "      <td>6.0</td>\n",
       "      <td>3.0</td>\n",
       "      <td>9.0</td>\n",
       "      <td>2.0</td>\n",
       "      <td>5</td>\n",
       "      <td>2</td>\n",
       "      <td>3</td>\n",
       "    </tr>\n",
       "  </tbody>\n",
       "</table>\n",
       "<p>3 rows × 367 columns</p>\n",
       "</div>"
      ],
      "text/plain": [
       "   Unnamed: 0     LNR  AGER_TYP  AKT_DAT_KL  ALTER_HH  ALTER_KIND1  \\\n",
       "0           0  910215        -1         NaN       NaN          NaN   \n",
       "1           1  910220        -1         9.0       0.0          NaN   \n",
       "2           2  910225        -1         9.0      17.0          NaN   \n",
       "\n",
       "   ALTER_KIND2  ALTER_KIND3  ALTER_KIND4  ALTERSKATEGORIE_FEIN  ...  VHN  \\\n",
       "0          NaN          NaN          NaN                   NaN  ...  NaN   \n",
       "1          NaN          NaN          NaN                  21.0  ...  4.0   \n",
       "2          NaN          NaN          NaN                  17.0  ...  2.0   \n",
       "\n",
       "   VK_DHT4A  VK_DISTANZ  VK_ZG11  W_KEIT_KIND_HH  WOHNDAUER_2008  WOHNLAGE  \\\n",
       "0       NaN         NaN      NaN             NaN             NaN       NaN   \n",
       "1       8.0        11.0     10.0             3.0             9.0       4.0   \n",
       "2       9.0         9.0      6.0             3.0             9.0       2.0   \n",
       "\n",
       "   ZABEOTYP ANREDE_KZ ALTERSKATEGORIE_GROB  \n",
       "0         3         1                    2  \n",
       "1         5         2                    1  \n",
       "2         5         2                    3  \n",
       "\n",
       "[3 rows x 367 columns]"
      ]
     },
     "execution_count": 6,
     "metadata": {},
     "output_type": "execute_result"
    }
   ],
   "source": [
    "azdias.head(3)"
   ]
  },
  {
   "cell_type": "markdown",
   "metadata": {},
   "source": [
    "Lets drop the `Unnamed: 0` column from each of the dataframes as thats just a redundant column produced from `read_csv`."
   ]
  },
  {
   "cell_type": "code",
   "execution_count": 7,
   "metadata": {},
   "outputs": [],
   "source": [
    "azdias.drop(columns=['Unnamed: 0'],inplace=True)\n",
    "customers.drop(columns=['Unnamed: 0'],inplace=True)"
   ]
  },
  {
   "cell_type": "markdown",
   "metadata": {},
   "source": [
    "## Exploring attributes of the data\n",
    "\n",
    "In this section the `attributes_values` and `attributes_info` will be created and cleansed. Each of these dataframes provide information about the features and the meaning of the input values.\n",
    "\n",
    "* `attribute_values`: Provides a description of the columns within the `customers` and `azdias` dataframes. Information is also provided about the values each column contains.\n",
    "* `attribute_info`: Contains more detailed information about each column with additional notes in some instances."
   ]
  },
  {
   "cell_type": "code",
   "execution_count": 22,
   "metadata": {},
   "outputs": [],
   "source": [
    "attributes_values = pd.read_excel('DIAS Attributes - Values 2017.xlsx', header=1)\n",
    "attributes_info = pd.read_excel('DIAS Information Levels - Attributes 2017.xlsx', header=1) "
   ]
  },
  {
   "cell_type": "code",
   "execution_count": 23,
   "metadata": {},
   "outputs": [
    {
     "data": {
      "text/html": [
       "<div>\n",
       "<style scoped>\n",
       "    .dataframe tbody tr th:only-of-type {\n",
       "        vertical-align: middle;\n",
       "    }\n",
       "\n",
       "    .dataframe tbody tr th {\n",
       "        vertical-align: top;\n",
       "    }\n",
       "\n",
       "    .dataframe thead th {\n",
       "        text-align: right;\n",
       "    }\n",
       "</style>\n",
       "<table border=\"1\" class=\"dataframe\">\n",
       "  <thead>\n",
       "    <tr style=\"text-align: right;\">\n",
       "      <th></th>\n",
       "      <th>Unnamed: 0</th>\n",
       "      <th>Attribute</th>\n",
       "      <th>Description</th>\n",
       "      <th>Value</th>\n",
       "      <th>Meaning</th>\n",
       "    </tr>\n",
       "  </thead>\n",
       "  <tbody>\n",
       "    <tr>\n",
       "      <th>0</th>\n",
       "      <td>NaN</td>\n",
       "      <td>AGER_TYP</td>\n",
       "      <td>best-ager typology</td>\n",
       "      <td>-1</td>\n",
       "      <td>unknown</td>\n",
       "    </tr>\n",
       "    <tr>\n",
       "      <th>1</th>\n",
       "      <td>NaN</td>\n",
       "      <td>NaN</td>\n",
       "      <td>NaN</td>\n",
       "      <td>0</td>\n",
       "      <td>no classification possible</td>\n",
       "    </tr>\n",
       "    <tr>\n",
       "      <th>2</th>\n",
       "      <td>NaN</td>\n",
       "      <td>NaN</td>\n",
       "      <td>NaN</td>\n",
       "      <td>1</td>\n",
       "      <td>passive elderly</td>\n",
       "    </tr>\n",
       "    <tr>\n",
       "      <th>3</th>\n",
       "      <td>NaN</td>\n",
       "      <td>NaN</td>\n",
       "      <td>NaN</td>\n",
       "      <td>2</td>\n",
       "      <td>cultural elderly</td>\n",
       "    </tr>\n",
       "    <tr>\n",
       "      <th>4</th>\n",
       "      <td>NaN</td>\n",
       "      <td>NaN</td>\n",
       "      <td>NaN</td>\n",
       "      <td>3</td>\n",
       "      <td>experience-driven elderly</td>\n",
       "    </tr>\n",
       "    <tr>\n",
       "      <th>5</th>\n",
       "      <td>NaN</td>\n",
       "      <td>ALTERSKATEGORIE_GROB</td>\n",
       "      <td>age classification through prename analysis</td>\n",
       "      <td>-1, 0</td>\n",
       "      <td>unknown</td>\n",
       "    </tr>\n",
       "    <tr>\n",
       "      <th>6</th>\n",
       "      <td>NaN</td>\n",
       "      <td>NaN</td>\n",
       "      <td>NaN</td>\n",
       "      <td>1</td>\n",
       "      <td>&lt; 30 years</td>\n",
       "    </tr>\n",
       "    <tr>\n",
       "      <th>7</th>\n",
       "      <td>NaN</td>\n",
       "      <td>NaN</td>\n",
       "      <td>NaN</td>\n",
       "      <td>2</td>\n",
       "      <td>30 - 45 years</td>\n",
       "    </tr>\n",
       "    <tr>\n",
       "      <th>8</th>\n",
       "      <td>NaN</td>\n",
       "      <td>NaN</td>\n",
       "      <td>NaN</td>\n",
       "      <td>3</td>\n",
       "      <td>46 - 60 years</td>\n",
       "    </tr>\n",
       "    <tr>\n",
       "      <th>9</th>\n",
       "      <td>NaN</td>\n",
       "      <td>NaN</td>\n",
       "      <td>NaN</td>\n",
       "      <td>4</td>\n",
       "      <td>&gt; 60 years</td>\n",
       "    </tr>\n",
       "  </tbody>\n",
       "</table>\n",
       "</div>"
      ],
      "text/plain": [
       "   Unnamed: 0             Attribute  \\\n",
       "0         NaN              AGER_TYP   \n",
       "1         NaN                   NaN   \n",
       "2         NaN                   NaN   \n",
       "3         NaN                   NaN   \n",
       "4         NaN                   NaN   \n",
       "5         NaN  ALTERSKATEGORIE_GROB   \n",
       "6         NaN                   NaN   \n",
       "7         NaN                   NaN   \n",
       "8         NaN                   NaN   \n",
       "9         NaN                   NaN   \n",
       "\n",
       "                                    Description  Value  \\\n",
       "0                            best-ager typology     -1   \n",
       "1                                           NaN      0   \n",
       "2                                           NaN      1   \n",
       "3                                           NaN      2   \n",
       "4                                           NaN      3   \n",
       "5  age classification through prename analysis   -1, 0   \n",
       "6                                           NaN      1   \n",
       "7                                           NaN      2   \n",
       "8                                           NaN      3   \n",
       "9                                           NaN      4   \n",
       "\n",
       "                      Meaning  \n",
       "0                     unknown  \n",
       "1  no classification possible  \n",
       "2             passive elderly  \n",
       "3            cultural elderly  \n",
       "4   experience-driven elderly  \n",
       "5                     unknown  \n",
       "6                  < 30 years  \n",
       "7               30 - 45 years  \n",
       "8               46 - 60 years  \n",
       "9                  > 60 years  "
      ]
     },
     "execution_count": 23,
     "metadata": {},
     "output_type": "execute_result"
    }
   ],
   "source": [
    "attributes_values.head(10)"
   ]
  },
  {
   "cell_type": "markdown",
   "metadata": {},
   "source": [
    "It looks like the `Unnamed: 0` needs to be dropped again. Furthermore, the `Attribute` and `Description` values are missing a lot of values. It looks like the most recent entry is the most likely candidate to fill the nan values so the `ffill` method will be used to fill the nan values for `Attribute` and `Description`."
   ]
  },
  {
   "cell_type": "code",
   "execution_count": 24,
   "metadata": {},
   "outputs": [
    {
     "data": {
      "text/html": [
       "<div>\n",
       "<style scoped>\n",
       "    .dataframe tbody tr th:only-of-type {\n",
       "        vertical-align: middle;\n",
       "    }\n",
       "\n",
       "    .dataframe tbody tr th {\n",
       "        vertical-align: top;\n",
       "    }\n",
       "\n",
       "    .dataframe thead th {\n",
       "        text-align: right;\n",
       "    }\n",
       "</style>\n",
       "<table border=\"1\" class=\"dataframe\">\n",
       "  <thead>\n",
       "    <tr style=\"text-align: right;\">\n",
       "      <th></th>\n",
       "      <th>Attribute</th>\n",
       "      <th>Description</th>\n",
       "      <th>Value</th>\n",
       "      <th>Meaning</th>\n",
       "    </tr>\n",
       "  </thead>\n",
       "  <tbody>\n",
       "    <tr>\n",
       "      <th>0</th>\n",
       "      <td>AGER_TYP</td>\n",
       "      <td>best-ager typology</td>\n",
       "      <td>-1</td>\n",
       "      <td>unknown</td>\n",
       "    </tr>\n",
       "    <tr>\n",
       "      <th>1</th>\n",
       "      <td>AGER_TYP</td>\n",
       "      <td>best-ager typology</td>\n",
       "      <td>0</td>\n",
       "      <td>no classification possible</td>\n",
       "    </tr>\n",
       "    <tr>\n",
       "      <th>2</th>\n",
       "      <td>AGER_TYP</td>\n",
       "      <td>best-ager typology</td>\n",
       "      <td>1</td>\n",
       "      <td>passive elderly</td>\n",
       "    </tr>\n",
       "    <tr>\n",
       "      <th>3</th>\n",
       "      <td>AGER_TYP</td>\n",
       "      <td>best-ager typology</td>\n",
       "      <td>2</td>\n",
       "      <td>cultural elderly</td>\n",
       "    </tr>\n",
       "    <tr>\n",
       "      <th>4</th>\n",
       "      <td>AGER_TYP</td>\n",
       "      <td>best-ager typology</td>\n",
       "      <td>3</td>\n",
       "      <td>experience-driven elderly</td>\n",
       "    </tr>\n",
       "    <tr>\n",
       "      <th>5</th>\n",
       "      <td>ALTERSKATEGORIE_GROB</td>\n",
       "      <td>age classification through prename analysis</td>\n",
       "      <td>-1, 0</td>\n",
       "      <td>unknown</td>\n",
       "    </tr>\n",
       "    <tr>\n",
       "      <th>6</th>\n",
       "      <td>ALTERSKATEGORIE_GROB</td>\n",
       "      <td>age classification through prename analysis</td>\n",
       "      <td>1</td>\n",
       "      <td>&lt; 30 years</td>\n",
       "    </tr>\n",
       "    <tr>\n",
       "      <th>7</th>\n",
       "      <td>ALTERSKATEGORIE_GROB</td>\n",
       "      <td>age classification through prename analysis</td>\n",
       "      <td>2</td>\n",
       "      <td>30 - 45 years</td>\n",
       "    </tr>\n",
       "    <tr>\n",
       "      <th>8</th>\n",
       "      <td>ALTERSKATEGORIE_GROB</td>\n",
       "      <td>age classification through prename analysis</td>\n",
       "      <td>3</td>\n",
       "      <td>46 - 60 years</td>\n",
       "    </tr>\n",
       "    <tr>\n",
       "      <th>9</th>\n",
       "      <td>ALTERSKATEGORIE_GROB</td>\n",
       "      <td>age classification through prename analysis</td>\n",
       "      <td>4</td>\n",
       "      <td>&gt; 60 years</td>\n",
       "    </tr>\n",
       "  </tbody>\n",
       "</table>\n",
       "</div>"
      ],
      "text/plain": [
       "              Attribute                                   Description  Value  \\\n",
       "0              AGER_TYP                            best-ager typology     -1   \n",
       "1              AGER_TYP                            best-ager typology      0   \n",
       "2              AGER_TYP                            best-ager typology      1   \n",
       "3              AGER_TYP                            best-ager typology      2   \n",
       "4              AGER_TYP                            best-ager typology      3   \n",
       "5  ALTERSKATEGORIE_GROB  age classification through prename analysis   -1, 0   \n",
       "6  ALTERSKATEGORIE_GROB  age classification through prename analysis       1   \n",
       "7  ALTERSKATEGORIE_GROB  age classification through prename analysis       2   \n",
       "8  ALTERSKATEGORIE_GROB  age classification through prename analysis       3   \n",
       "9  ALTERSKATEGORIE_GROB  age classification through prename analysis       4   \n",
       "\n",
       "                      Meaning  \n",
       "0                     unknown  \n",
       "1  no classification possible  \n",
       "2             passive elderly  \n",
       "3            cultural elderly  \n",
       "4   experience-driven elderly  \n",
       "5                     unknown  \n",
       "6                  < 30 years  \n",
       "7               30 - 45 years  \n",
       "8               46 - 60 years  \n",
       "9                  > 60 years  "
      ]
     },
     "execution_count": 24,
     "metadata": {},
     "output_type": "execute_result"
    }
   ],
   "source": [
    "attributes_values.drop(columns=['Unnamed: 0'],inplace=True)\n",
    "attributes_values[\"Attribute\"] = attributes_values[\"Attribute\"].ffill()\n",
    "attributes_values[\"Description\"] = attributes_values[\"Description\"].ffill()\n",
    "attributes_values.head(10) #Check if all is well"
   ]
  },
  {
   "cell_type": "markdown",
   "metadata": {},
   "source": [
    "The __Attributes__ and __Description__ columns in the `attributes_values` dataframe have NaN values and it is easy to understand that the most recent entry is representative of each NaN value in each of the columns. The pandas function `ffill` will be used to fill the NaN values in the aforementioned columns to enable easy access to all the attribute and descriptions in a single attempt"
   ]
  },
  {
   "cell_type": "code",
   "execution_count": 25,
   "metadata": {},
   "outputs": [
    {
     "data": {
      "text/html": [
       "<div>\n",
       "<style scoped>\n",
       "    .dataframe tbody tr th:only-of-type {\n",
       "        vertical-align: middle;\n",
       "    }\n",
       "\n",
       "    .dataframe tbody tr th {\n",
       "        vertical-align: top;\n",
       "    }\n",
       "\n",
       "    .dataframe thead th {\n",
       "        text-align: right;\n",
       "    }\n",
       "</style>\n",
       "<table border=\"1\" class=\"dataframe\">\n",
       "  <thead>\n",
       "    <tr style=\"text-align: right;\">\n",
       "      <th></th>\n",
       "      <th>Attribute</th>\n",
       "      <th>Description</th>\n",
       "      <th>Value</th>\n",
       "      <th>Meaning</th>\n",
       "    </tr>\n",
       "  </thead>\n",
       "  <tbody>\n",
       "    <tr>\n",
       "      <th>0</th>\n",
       "      <td>AGER_TYP</td>\n",
       "      <td>best-ager typology</td>\n",
       "      <td>-1</td>\n",
       "      <td>unknown</td>\n",
       "    </tr>\n",
       "    <tr>\n",
       "      <th>1</th>\n",
       "      <td>AGER_TYP</td>\n",
       "      <td>best-ager typology</td>\n",
       "      <td>0</td>\n",
       "      <td>no classification possible</td>\n",
       "    </tr>\n",
       "    <tr>\n",
       "      <th>2</th>\n",
       "      <td>AGER_TYP</td>\n",
       "      <td>best-ager typology</td>\n",
       "      <td>1</td>\n",
       "      <td>passive elderly</td>\n",
       "    </tr>\n",
       "    <tr>\n",
       "      <th>3</th>\n",
       "      <td>AGER_TYP</td>\n",
       "      <td>best-ager typology</td>\n",
       "      <td>2</td>\n",
       "      <td>cultural elderly</td>\n",
       "    </tr>\n",
       "    <tr>\n",
       "      <th>4</th>\n",
       "      <td>AGER_TYP</td>\n",
       "      <td>best-ager typology</td>\n",
       "      <td>3</td>\n",
       "      <td>experience-driven elderly</td>\n",
       "    </tr>\n",
       "  </tbody>\n",
       "</table>\n",
       "</div>"
      ],
      "text/plain": [
       "  Attribute         Description Value                     Meaning\n",
       "0  AGER_TYP  best-ager typology    -1                     unknown\n",
       "1  AGER_TYP  best-ager typology     0  no classification possible\n",
       "2  AGER_TYP  best-ager typology     1             passive elderly\n",
       "3  AGER_TYP  best-ager typology     2            cultural elderly\n",
       "4  AGER_TYP  best-ager typology     3   experience-driven elderly"
      ]
     },
     "execution_count": 25,
     "metadata": {},
     "output_type": "execute_result"
    }
   ],
   "source": [
    "attributes_values[['Attribute','Description']] = attributes_values[['Attribute','Description']].ffill()\n",
    "attributes_values.head()"
   ]
  },
  {
   "cell_type": "markdown",
   "metadata": {},
   "source": [
    "There are some values which have an unknown meaning. Therefore it probably best to replace these values with NaN. But this will be dealt with in the data celaning section."
   ]
  },
  {
   "cell_type": "markdown",
   "metadata": {},
   "source": [
    "### Cleaning attribute info"
   ]
  },
  {
   "cell_type": "code",
   "execution_count": 26,
   "metadata": {},
   "outputs": [
    {
     "name": "stdout",
     "output_type": "stream",
     "text": [
      "<class 'pandas.core.frame.DataFrame'>\n",
      "RangeIndex: 313 entries, 0 to 312\n",
      "Data columns (total 5 columns):\n",
      " #   Column             Non-Null Count  Dtype  \n",
      "---  ------             --------------  -----  \n",
      " 0   Unnamed: 0         0 non-null      float64\n",
      " 1   Information level  10 non-null     object \n",
      " 2   Attribute          313 non-null    object \n",
      " 3   Description        313 non-null    object \n",
      " 4   Additional notes   20 non-null     object \n",
      "dtypes: float64(1), object(4)\n",
      "memory usage: 12.4+ KB\n"
     ]
    }
   ],
   "source": [
    "attributes_info.info()"
   ]
  },
  {
   "cell_type": "code",
   "execution_count": 27,
   "metadata": {},
   "outputs": [
    {
     "data": {
      "text/html": [
       "<div>\n",
       "<style scoped>\n",
       "    .dataframe tbody tr th:only-of-type {\n",
       "        vertical-align: middle;\n",
       "    }\n",
       "\n",
       "    .dataframe tbody tr th {\n",
       "        vertical-align: top;\n",
       "    }\n",
       "\n",
       "    .dataframe thead th {\n",
       "        text-align: right;\n",
       "    }\n",
       "</style>\n",
       "<table border=\"1\" class=\"dataframe\">\n",
       "  <thead>\n",
       "    <tr style=\"text-align: right;\">\n",
       "      <th></th>\n",
       "      <th>Unnamed: 0</th>\n",
       "      <th>Information level</th>\n",
       "      <th>Attribute</th>\n",
       "      <th>Description</th>\n",
       "      <th>Additional notes</th>\n",
       "    </tr>\n",
       "  </thead>\n",
       "  <tbody>\n",
       "    <tr>\n",
       "      <th>0</th>\n",
       "      <td>NaN</td>\n",
       "      <td>NaN</td>\n",
       "      <td>AGER_TYP</td>\n",
       "      <td>best-ager typology</td>\n",
       "      <td>in cooperation with Kantar TNS; the information basis is a consumer survey</td>\n",
       "    </tr>\n",
       "    <tr>\n",
       "      <th>1</th>\n",
       "      <td>NaN</td>\n",
       "      <td>Person</td>\n",
       "      <td>ALTERSKATEGORIE_GROB</td>\n",
       "      <td>age through prename analysis</td>\n",
       "      <td>modelled on millions of first name-age-reference data</td>\n",
       "    </tr>\n",
       "    <tr>\n",
       "      <th>2</th>\n",
       "      <td>NaN</td>\n",
       "      <td>NaN</td>\n",
       "      <td>ANREDE_KZ</td>\n",
       "      <td>gender</td>\n",
       "      <td>NaN</td>\n",
       "    </tr>\n",
       "    <tr>\n",
       "      <th>3</th>\n",
       "      <td>NaN</td>\n",
       "      <td>NaN</td>\n",
       "      <td>CJT_GESAMTTYP</td>\n",
       "      <td>Customer-Journey-Typology relating to the preferred information and buying channels of consumers</td>\n",
       "      <td>relating to the preferred information, marketing and buying channels of consumers as well as their cross-channel usage. The information basis is a survey on the consumer channel preferences combined via a statistical modell with AZ DIAS data</td>\n",
       "    </tr>\n",
       "    <tr>\n",
       "      <th>4</th>\n",
       "      <td>NaN</td>\n",
       "      <td>NaN</td>\n",
       "      <td>FINANZ_MINIMALIST</td>\n",
       "      <td>financial typology: low financial interest</td>\n",
       "      <td>Gfk-Typology based on a representative household panel combined via a statistical modell with AZ DIAS data</td>\n",
       "    </tr>\n",
       "    <tr>\n",
       "      <th>5</th>\n",
       "      <td>NaN</td>\n",
       "      <td>NaN</td>\n",
       "      <td>FINANZ_SPARER</td>\n",
       "      <td>financial typology: money saver</td>\n",
       "      <td>NaN</td>\n",
       "    </tr>\n",
       "    <tr>\n",
       "      <th>6</th>\n",
       "      <td>NaN</td>\n",
       "      <td>NaN</td>\n",
       "      <td>FINANZ_VORSORGER</td>\n",
       "      <td>financial typology: be prepared</td>\n",
       "      <td>NaN</td>\n",
       "    </tr>\n",
       "    <tr>\n",
       "      <th>7</th>\n",
       "      <td>NaN</td>\n",
       "      <td>NaN</td>\n",
       "      <td>FINANZ_ANLEGER</td>\n",
       "      <td>financial typology: investor</td>\n",
       "      <td>NaN</td>\n",
       "    </tr>\n",
       "    <tr>\n",
       "      <th>8</th>\n",
       "      <td>NaN</td>\n",
       "      <td>NaN</td>\n",
       "      <td>FINANZ_UNAUFFAELLIGER</td>\n",
       "      <td>financial typology: unremarkable</td>\n",
       "      <td>NaN</td>\n",
       "    </tr>\n",
       "    <tr>\n",
       "      <th>9</th>\n",
       "      <td>NaN</td>\n",
       "      <td>NaN</td>\n",
       "      <td>FINANZ_HAUSBAUER</td>\n",
       "      <td>financial typology: main focus is the own house</td>\n",
       "      <td>NaN</td>\n",
       "    </tr>\n",
       "    <tr>\n",
       "      <th>10</th>\n",
       "      <td>NaN</td>\n",
       "      <td>NaN</td>\n",
       "      <td>FINANZTYP</td>\n",
       "      <td>best descirbing financial type for the peron</td>\n",
       "      <td>NaN</td>\n",
       "    </tr>\n",
       "    <tr>\n",
       "      <th>11</th>\n",
       "      <td>NaN</td>\n",
       "      <td>NaN</td>\n",
       "      <td>GEBURTSJAHR</td>\n",
       "      <td>year of birth</td>\n",
       "      <td>NaN</td>\n",
       "    </tr>\n",
       "    <tr>\n",
       "      <th>12</th>\n",
       "      <td>NaN</td>\n",
       "      <td>NaN</td>\n",
       "      <td>GFK_URLAUBERTYP</td>\n",
       "      <td>vacation habits</td>\n",
       "      <td>NaN</td>\n",
       "    </tr>\n",
       "    <tr>\n",
       "      <th>13</th>\n",
       "      <td>NaN</td>\n",
       "      <td>NaN</td>\n",
       "      <td>GREEN_AVANTGARDE</td>\n",
       "      <td>the environmental sustainability is the dominating movement in the youth of these consumers</td>\n",
       "      <td>own typology based on modelled on different AZ DIAS data</td>\n",
       "    </tr>\n",
       "    <tr>\n",
       "      <th>14</th>\n",
       "      <td>NaN</td>\n",
       "      <td>NaN</td>\n",
       "      <td>HEALTH_TYP</td>\n",
       "      <td>health typology</td>\n",
       "      <td>in cooperation with Kantar TNS; the information basis is a consumer survey</td>\n",
       "    </tr>\n",
       "  </tbody>\n",
       "</table>\n",
       "</div>"
      ],
      "text/plain": [
       "    Unnamed: 0 Information level              Attribute  \\\n",
       "0          NaN               NaN               AGER_TYP   \n",
       "1          NaN            Person   ALTERSKATEGORIE_GROB   \n",
       "2          NaN               NaN              ANREDE_KZ   \n",
       "3          NaN               NaN          CJT_GESAMTTYP   \n",
       "4          NaN               NaN      FINANZ_MINIMALIST   \n",
       "5          NaN               NaN          FINANZ_SPARER   \n",
       "6          NaN               NaN       FINANZ_VORSORGER   \n",
       "7          NaN               NaN         FINANZ_ANLEGER   \n",
       "8          NaN               NaN  FINANZ_UNAUFFAELLIGER   \n",
       "9          NaN               NaN       FINANZ_HAUSBAUER   \n",
       "10         NaN               NaN              FINANZTYP   \n",
       "11         NaN               NaN            GEBURTSJAHR   \n",
       "12         NaN               NaN        GFK_URLAUBERTYP   \n",
       "13         NaN               NaN       GREEN_AVANTGARDE   \n",
       "14         NaN               NaN             HEALTH_TYP   \n",
       "\n",
       "                                                                                         Description  \\\n",
       "0                                                                                 best-ager typology   \n",
       "1                                                                      age through prename analysis    \n",
       "2                                                                                             gender   \n",
       "3   Customer-Journey-Typology relating to the preferred information and buying channels of consumers   \n",
       "4                                                         financial typology: low financial interest   \n",
       "5                                                                    financial typology: money saver   \n",
       "6                                                                    financial typology: be prepared   \n",
       "7                                                                       financial typology: investor   \n",
       "8                                                                   financial typology: unremarkable   \n",
       "9                                                    financial typology: main focus is the own house   \n",
       "10                                                      best descirbing financial type for the peron   \n",
       "11                                                                                     year of birth   \n",
       "12                                                                                   vacation habits   \n",
       "13       the environmental sustainability is the dominating movement in the youth of these consumers   \n",
       "14                                                                                   health typology   \n",
       "\n",
       "                                                                                                                                                                                                                                     Additional notes  \n",
       "0                                                                                                                                                                          in cooperation with Kantar TNS; the information basis is a consumer survey  \n",
       "1                                                                                                                                                                                             modelled on millions of first name-age-reference data    \n",
       "2                                                                                                                                                                                                                                                 NaN  \n",
       "3   relating to the preferred information, marketing and buying channels of consumers as well as their cross-channel usage. The information basis is a survey on the consumer channel preferences combined via a statistical modell with AZ DIAS data  \n",
       "4                                                                                                                                         Gfk-Typology based on a representative household panel combined via a statistical modell with AZ DIAS data   \n",
       "5                                                                                                                                                                                                                                                 NaN  \n",
       "6                                                                                                                                                                                                                                                 NaN  \n",
       "7                                                                                                                                                                                                                                                 NaN  \n",
       "8                                                                                                                                                                                                                                                 NaN  \n",
       "9                                                                                                                                                                                                                                                 NaN  \n",
       "10                                                                                                                                                                                                                                                NaN  \n",
       "11                                                                                                                                                                                                                                                NaN  \n",
       "12                                                                                                                                                                                                                                                NaN  \n",
       "13                                                                                                                                                                                          own typology based on modelled on different AZ DIAS data   \n",
       "14                                                                                                                                                                         in cooperation with Kantar TNS; the information basis is a consumer survey  "
      ]
     },
     "execution_count": 27,
     "metadata": {},
     "output_type": "execute_result"
    }
   ],
   "source": [
    "attributes_info.head(15)"
   ]
  },
  {
   "cell_type": "markdown",
   "metadata": {},
   "source": [
    "For all intents and purposes the `Information level` is unnecessary for further analysis and yet again the ` \tUnnamed: 0` can go as well."
   ]
  },
  {
   "cell_type": "code",
   "execution_count": 28,
   "metadata": {},
   "outputs": [],
   "source": [
    "attributes_info.drop(columns=['Unnamed: 0','Information level'],inplace=True)"
   ]
  },
  {
   "cell_type": "markdown",
   "metadata": {},
   "source": [
    "## Data cleansing"
   ]
  },
  {
   "cell_type": "markdown",
   "metadata": {},
   "source": [
    "From the `attributes_values` dataframe there were a few values which had unknown values. It is best to replace these values with nan. First though we should check the format these unknown values come in"
   ]
  },
  {
   "cell_type": "code",
   "execution_count": 29,
   "metadata": {},
   "outputs": [
    {
     "data": {
      "text/html": [
       "<div>\n",
       "<style scoped>\n",
       "    .dataframe tbody tr th:only-of-type {\n",
       "        vertical-align: middle;\n",
       "    }\n",
       "\n",
       "    .dataframe tbody tr th {\n",
       "        vertical-align: top;\n",
       "    }\n",
       "\n",
       "    .dataframe thead th {\n",
       "        text-align: right;\n",
       "    }\n",
       "</style>\n",
       "<table border=\"1\" class=\"dataframe\">\n",
       "  <thead>\n",
       "    <tr style=\"text-align: right;\">\n",
       "      <th></th>\n",
       "      <th>Attribute</th>\n",
       "      <th>Value</th>\n",
       "    </tr>\n",
       "  </thead>\n",
       "  <tbody>\n",
       "    <tr>\n",
       "      <th>0</th>\n",
       "      <td>AGER_TYP</td>\n",
       "      <td>-1</td>\n",
       "    </tr>\n",
       "    <tr>\n",
       "      <th>5</th>\n",
       "      <td>ALTERSKATEGORIE_GROB</td>\n",
       "      <td>-1, 0</td>\n",
       "    </tr>\n",
       "    <tr>\n",
       "      <th>33</th>\n",
       "      <td>ANREDE_KZ</td>\n",
       "      <td>-1, 0</td>\n",
       "    </tr>\n",
       "    <tr>\n",
       "      <th>40</th>\n",
       "      <td>BALLRAUM</td>\n",
       "      <td>-1</td>\n",
       "    </tr>\n",
       "    <tr>\n",
       "      <th>48</th>\n",
       "      <td>BIP_FLAG</td>\n",
       "      <td>-1</td>\n",
       "    </tr>\n",
       "  </tbody>\n",
       "</table>\n",
       "</div>"
      ],
      "text/plain": [
       "               Attribute  Value\n",
       "0               AGER_TYP     -1\n",
       "5   ALTERSKATEGORIE_GROB  -1, 0\n",
       "33             ANREDE_KZ  -1, 0\n",
       "40              BALLRAUM     -1\n",
       "48              BIP_FLAG     -1"
      ]
     },
     "execution_count": 29,
     "metadata": {},
     "output_type": "execute_result"
    }
   ],
   "source": [
    "attributes_values[attributes_values.Meaning == 'unknown'][['Attribute','Value']].head()"
   ]
  },
  {
   "cell_type": "code",
   "execution_count": 30,
   "metadata": {},
   "outputs": [
    {
     "data": {
      "text/plain": [
       "array([-1, '-1, 0', 0, '-1, 9', '-1'], dtype=object)"
      ]
     },
     "execution_count": 30,
     "metadata": {},
     "output_type": "execute_result"
    }
   ],
   "source": [
    "attributes_values[attributes_values.Meaning == 'unknown'][['Attribute','Value']].Value.unique()"
   ]
  },
  {
   "cell_type": "markdown",
   "metadata": {},
   "source": [
    "All integer values in the unknown so no need for special cases for floats. However there are strings so these will be handled by splitting them at the comma and converting the resulting array into an integer"
   ]
  },
  {
   "cell_type": "code",
   "execution_count": 31,
   "metadata": {},
   "outputs": [],
   "source": [
    "def get_unknown_vals(attrib, unknown_attrib_vals= \\\n",
    "                    attributes_values[attributes_values.Meaning == 'unknown'][['Attribute','Value']]):\n",
    "    \"\"\"Returns a list of unknown values for a given attribute unknown values\n",
    "    Input\n",
    "    attrib: An value which should be present in the Attribute column of the unknown_attrib_vals dataframe\n",
    "    unknown_attrib_vals: A dataframe which should be filtered for all the rows of the attribute_values \n",
    "    dataframe which contain an \"unknown\" in the Meaning column. It is the desired dataframe for this \n",
    "    notebook by default.\n",
    "    \n",
    "    Output:\n",
    "    An array of values which correspond to unknown meanings for a given attribute\n",
    "    \"\"\"\n",
    "    \n",
    "    unknown = unknown_attrib_vals[unknown_attrib_vals[\"Attribute\"] == attrib][\"Value\"]\n",
    "    #Some values have a commas which means multiple unknown values. Therefore separate y=by comma and convert\n",
    "    #to int as non of the values have floats\n",
    "    unknown = unknown.astype(str).str.cat(sep=\",\")\n",
    "    #unknown = [int(x) for x in unknown.split(\",\")]\n",
    "    unknown_arr = []\n",
    "    for i in unknown.split(\",\"):\n",
    "        try:\n",
    "            unknown_arr.append(int(i))\n",
    "        except:\n",
    "            unknown_arr.append(i)\n",
    "        \n",
    "    \n",
    "    #Output needs to be an array so that it is iterable so it can be passed as unknown with _replace_with_nan \n",
    "    return [unknown_arr] \n",
    "\n",
    "def _replace_with_nan(val, unknown):\n",
    "    \"\"\"Helper function to replaces unknown values with np.nan if the value matches with the \n",
    "    unknown representation\n",
    "    Input\n",
    "    val: Should just be an integer, string or float\n",
    "    unknown: An array which corresponds to values of unknown meaning\n",
    "    \n",
    "    Output:\n",
    "    np.nan if val is equal to a value of unknown meaning otherwise just the input val unchanged.\n",
    "    \"\"\"\n",
    "    if val in unknown:\n",
    "        return np.nan\n",
    "    else:\n",
    "        return val\n",
    "    \n",
    "\n",
    "def replace_unknowns(df, unknown_attrib_vals= \\\n",
    "                    attributes_values[attributes_values.Meaning == 'unknown'][['Attribute','Value']]):\n",
    "    \"\"\"\n",
    "    Replaces values in df with an unknown meaning (as specified by `unknown_attrib_vals`) with np.nan\n",
    "    Input\n",
    "    df: df to replace values with unknown meaning with np.nan\n",
    "    unknown_attrib_vals:A dataframe which should be filtered for all the rows of the attribute_values \n",
    "    dataframe which contain an \"unknown\" in the Meaning column. It is the desired dataframe for this \n",
    "    notebook by default.\n",
    "    \n",
    "    Output=df: A datagrame with all values with unknown meaning replaced\n",
    "    \"\"\"\n",
    "    for attrib in unknown_attrib_vals.Attribute:\n",
    "        unknowns = get_unknown_vals(attrib)\n",
    "        if attrib in df.columns:\n",
    "            df[attrib] = df[attrib].apply(_replace_with_nan, args=(unknowns))\n",
    "    return df"
   ]
  },
  {
   "cell_type": "code",
   "execution_count": null,
   "metadata": {},
   "outputs": [],
   "source": []
  },
  {
   "cell_type": "code",
   "execution_count": 18,
   "metadata": {},
   "outputs": [
    {
     "data": {
      "text/plain": [
       "[[-1]]"
      ]
     },
     "execution_count": 18,
     "metadata": {},
     "output_type": "execute_result"
    }
   ],
   "source": [
    "ager_typ_unknown = get_unknown_vals(\"AGER_TYP\")\n",
    "ager_typ_unknown"
   ]
  },
  {
   "cell_type": "code",
   "execution_count": null,
   "metadata": {},
   "outputs": [],
   "source": []
  },
  {
   "cell_type": "code",
   "execution_count": 19,
   "metadata": {},
   "outputs": [
    {
     "data": {
      "text/html": [
       "<div>\n",
       "<style scoped>\n",
       "    .dataframe tbody tr th:only-of-type {\n",
       "        vertical-align: middle;\n",
       "    }\n",
       "\n",
       "    .dataframe tbody tr th {\n",
       "        vertical-align: top;\n",
       "    }\n",
       "\n",
       "    .dataframe thead th {\n",
       "        text-align: right;\n",
       "    }\n",
       "</style>\n",
       "<table border=\"1\" class=\"dataframe\">\n",
       "  <thead>\n",
       "    <tr style=\"text-align: right;\">\n",
       "      <th></th>\n",
       "      <th>LNR</th>\n",
       "      <th>AGER_TYP</th>\n",
       "      <th>AKT_DAT_KL</th>\n",
       "      <th>ALTER_HH</th>\n",
       "      <th>ALTER_KIND1</th>\n",
       "      <th>ALTER_KIND2</th>\n",
       "      <th>ALTER_KIND3</th>\n",
       "      <th>ALTER_KIND4</th>\n",
       "      <th>ALTERSKATEGORIE_FEIN</th>\n",
       "      <th>ANZ_HAUSHALTE_AKTIV</th>\n",
       "      <th>...</th>\n",
       "      <th>VK_ZG11</th>\n",
       "      <th>W_KEIT_KIND_HH</th>\n",
       "      <th>WOHNDAUER_2008</th>\n",
       "      <th>WOHNLAGE</th>\n",
       "      <th>ZABEOTYP</th>\n",
       "      <th>PRODUCT_GROUP</th>\n",
       "      <th>CUSTOMER_GROUP</th>\n",
       "      <th>ONLINE_PURCHASE</th>\n",
       "      <th>ANREDE_KZ</th>\n",
       "      <th>ALTERSKATEGORIE_GROB</th>\n",
       "    </tr>\n",
       "  </thead>\n",
       "  <tbody>\n",
       "    <tr>\n",
       "      <th>0</th>\n",
       "      <td>9626</td>\n",
       "      <td>2</td>\n",
       "      <td>1.0</td>\n",
       "      <td>10.0</td>\n",
       "      <td>NaN</td>\n",
       "      <td>NaN</td>\n",
       "      <td>NaN</td>\n",
       "      <td>NaN</td>\n",
       "      <td>10.0</td>\n",
       "      <td>1.0</td>\n",
       "      <td>...</td>\n",
       "      <td>2.0</td>\n",
       "      <td>6.0</td>\n",
       "      <td>9.0</td>\n",
       "      <td>7.0</td>\n",
       "      <td>3</td>\n",
       "      <td>COSMETIC_AND_FOOD</td>\n",
       "      <td>MULTI_BUYER</td>\n",
       "      <td>0</td>\n",
       "      <td>1</td>\n",
       "      <td>4</td>\n",
       "    </tr>\n",
       "    <tr>\n",
       "      <th>1</th>\n",
       "      <td>9628</td>\n",
       "      <td>-1</td>\n",
       "      <td>9.0</td>\n",
       "      <td>11.0</td>\n",
       "      <td>NaN</td>\n",
       "      <td>NaN</td>\n",
       "      <td>NaN</td>\n",
       "      <td>NaN</td>\n",
       "      <td>NaN</td>\n",
       "      <td>NaN</td>\n",
       "      <td>...</td>\n",
       "      <td>3.0</td>\n",
       "      <td>0.0</td>\n",
       "      <td>9.0</td>\n",
       "      <td>NaN</td>\n",
       "      <td>3</td>\n",
       "      <td>FOOD</td>\n",
       "      <td>SINGLE_BUYER</td>\n",
       "      <td>0</td>\n",
       "      <td>1</td>\n",
       "      <td>4</td>\n",
       "    </tr>\n",
       "    <tr>\n",
       "      <th>2</th>\n",
       "      <td>143872</td>\n",
       "      <td>-1</td>\n",
       "      <td>1.0</td>\n",
       "      <td>6.0</td>\n",
       "      <td>NaN</td>\n",
       "      <td>NaN</td>\n",
       "      <td>NaN</td>\n",
       "      <td>NaN</td>\n",
       "      <td>0.0</td>\n",
       "      <td>1.0</td>\n",
       "      <td>...</td>\n",
       "      <td>11.0</td>\n",
       "      <td>6.0</td>\n",
       "      <td>9.0</td>\n",
       "      <td>2.0</td>\n",
       "      <td>3</td>\n",
       "      <td>COSMETIC_AND_FOOD</td>\n",
       "      <td>MULTI_BUYER</td>\n",
       "      <td>0</td>\n",
       "      <td>2</td>\n",
       "      <td>4</td>\n",
       "    </tr>\n",
       "    <tr>\n",
       "      <th>3</th>\n",
       "      <td>143873</td>\n",
       "      <td>1</td>\n",
       "      <td>1.0</td>\n",
       "      <td>8.0</td>\n",
       "      <td>NaN</td>\n",
       "      <td>NaN</td>\n",
       "      <td>NaN</td>\n",
       "      <td>NaN</td>\n",
       "      <td>8.0</td>\n",
       "      <td>0.0</td>\n",
       "      <td>...</td>\n",
       "      <td>2.0</td>\n",
       "      <td>NaN</td>\n",
       "      <td>9.0</td>\n",
       "      <td>7.0</td>\n",
       "      <td>1</td>\n",
       "      <td>COSMETIC</td>\n",
       "      <td>MULTI_BUYER</td>\n",
       "      <td>0</td>\n",
       "      <td>1</td>\n",
       "      <td>4</td>\n",
       "    </tr>\n",
       "    <tr>\n",
       "      <th>4</th>\n",
       "      <td>143874</td>\n",
       "      <td>-1</td>\n",
       "      <td>1.0</td>\n",
       "      <td>20.0</td>\n",
       "      <td>NaN</td>\n",
       "      <td>NaN</td>\n",
       "      <td>NaN</td>\n",
       "      <td>NaN</td>\n",
       "      <td>14.0</td>\n",
       "      <td>7.0</td>\n",
       "      <td>...</td>\n",
       "      <td>4.0</td>\n",
       "      <td>2.0</td>\n",
       "      <td>9.0</td>\n",
       "      <td>3.0</td>\n",
       "      <td>1</td>\n",
       "      <td>FOOD</td>\n",
       "      <td>MULTI_BUYER</td>\n",
       "      <td>0</td>\n",
       "      <td>1</td>\n",
       "      <td>3</td>\n",
       "    </tr>\n",
       "  </tbody>\n",
       "</table>\n",
       "<p>5 rows × 369 columns</p>\n",
       "</div>"
      ],
      "text/plain": [
       "      LNR  AGER_TYP  AKT_DAT_KL  ALTER_HH  ALTER_KIND1  ALTER_KIND2  \\\n",
       "0    9626         2         1.0      10.0          NaN          NaN   \n",
       "1    9628        -1         9.0      11.0          NaN          NaN   \n",
       "2  143872        -1         1.0       6.0          NaN          NaN   \n",
       "3  143873         1         1.0       8.0          NaN          NaN   \n",
       "4  143874        -1         1.0      20.0          NaN          NaN   \n",
       "\n",
       "   ALTER_KIND3  ALTER_KIND4  ALTERSKATEGORIE_FEIN  ANZ_HAUSHALTE_AKTIV  ...  \\\n",
       "0          NaN          NaN                  10.0                  1.0  ...   \n",
       "1          NaN          NaN                   NaN                  NaN  ...   \n",
       "2          NaN          NaN                   0.0                  1.0  ...   \n",
       "3          NaN          NaN                   8.0                  0.0  ...   \n",
       "4          NaN          NaN                  14.0                  7.0  ...   \n",
       "\n",
       "   VK_ZG11  W_KEIT_KIND_HH  WOHNDAUER_2008  WOHNLAGE  ZABEOTYP  \\\n",
       "0      2.0             6.0             9.0       7.0         3   \n",
       "1      3.0             0.0             9.0       NaN         3   \n",
       "2     11.0             6.0             9.0       2.0         3   \n",
       "3      2.0             NaN             9.0       7.0         1   \n",
       "4      4.0             2.0             9.0       3.0         1   \n",
       "\n",
       "       PRODUCT_GROUP  CUSTOMER_GROUP ONLINE_PURCHASE ANREDE_KZ  \\\n",
       "0  COSMETIC_AND_FOOD     MULTI_BUYER               0         1   \n",
       "1               FOOD    SINGLE_BUYER               0         1   \n",
       "2  COSMETIC_AND_FOOD     MULTI_BUYER               0         2   \n",
       "3           COSMETIC     MULTI_BUYER               0         1   \n",
       "4               FOOD     MULTI_BUYER               0         1   \n",
       "\n",
       "  ALTERSKATEGORIE_GROB  \n",
       "0                    4  \n",
       "1                    4  \n",
       "2                    4  \n",
       "3                    4  \n",
       "4                    3  \n",
       "\n",
       "[5 rows x 369 columns]"
      ]
     },
     "execution_count": 19,
     "metadata": {},
     "output_type": "execute_result"
    }
   ],
   "source": [
    "customers.head()"
   ]
  },
  {
   "cell_type": "code",
   "execution_count": 20,
   "metadata": {},
   "outputs": [],
   "source": [
    "ager_typ_unknown = customers.AGER_TYP.apply(_replace_with_nan, args=(ager_typ_unknown))"
   ]
  },
  {
   "cell_type": "code",
   "execution_count": 21,
   "metadata": {},
   "outputs": [
    {
     "data": {
      "text/html": [
       "<div>\n",
       "<style scoped>\n",
       "    .dataframe tbody tr th:only-of-type {\n",
       "        vertical-align: middle;\n",
       "    }\n",
       "\n",
       "    .dataframe tbody tr th {\n",
       "        vertical-align: top;\n",
       "    }\n",
       "\n",
       "    .dataframe thead th {\n",
       "        text-align: right;\n",
       "    }\n",
       "</style>\n",
       "<table border=\"1\" class=\"dataframe\">\n",
       "  <thead>\n",
       "    <tr style=\"text-align: right;\">\n",
       "      <th></th>\n",
       "      <th>LNR</th>\n",
       "      <th>AGER_TYP</th>\n",
       "      <th>AKT_DAT_KL</th>\n",
       "      <th>ALTER_HH</th>\n",
       "      <th>ALTER_KIND1</th>\n",
       "      <th>ALTER_KIND2</th>\n",
       "      <th>ALTER_KIND3</th>\n",
       "      <th>ALTER_KIND4</th>\n",
       "      <th>ALTERSKATEGORIE_FEIN</th>\n",
       "      <th>ANZ_HAUSHALTE_AKTIV</th>\n",
       "      <th>...</th>\n",
       "      <th>VK_ZG11</th>\n",
       "      <th>W_KEIT_KIND_HH</th>\n",
       "      <th>WOHNDAUER_2008</th>\n",
       "      <th>WOHNLAGE</th>\n",
       "      <th>ZABEOTYP</th>\n",
       "      <th>PRODUCT_GROUP</th>\n",
       "      <th>CUSTOMER_GROUP</th>\n",
       "      <th>ONLINE_PURCHASE</th>\n",
       "      <th>ANREDE_KZ</th>\n",
       "      <th>ALTERSKATEGORIE_GROB</th>\n",
       "    </tr>\n",
       "  </thead>\n",
       "  <tbody>\n",
       "    <tr>\n",
       "      <th>0</th>\n",
       "      <td>9626</td>\n",
       "      <td>2.0</td>\n",
       "      <td>1.0</td>\n",
       "      <td>10.0</td>\n",
       "      <td>NaN</td>\n",
       "      <td>NaN</td>\n",
       "      <td>NaN</td>\n",
       "      <td>NaN</td>\n",
       "      <td>10.0</td>\n",
       "      <td>1.0</td>\n",
       "      <td>...</td>\n",
       "      <td>2.0</td>\n",
       "      <td>6.0</td>\n",
       "      <td>9.0</td>\n",
       "      <td>7.0</td>\n",
       "      <td>3</td>\n",
       "      <td>COSMETIC_AND_FOOD</td>\n",
       "      <td>MULTI_BUYER</td>\n",
       "      <td>0</td>\n",
       "      <td>1</td>\n",
       "      <td>4</td>\n",
       "    </tr>\n",
       "    <tr>\n",
       "      <th>1</th>\n",
       "      <td>9628</td>\n",
       "      <td>NaN</td>\n",
       "      <td>9.0</td>\n",
       "      <td>11.0</td>\n",
       "      <td>NaN</td>\n",
       "      <td>NaN</td>\n",
       "      <td>NaN</td>\n",
       "      <td>NaN</td>\n",
       "      <td>NaN</td>\n",
       "      <td>NaN</td>\n",
       "      <td>...</td>\n",
       "      <td>3.0</td>\n",
       "      <td>NaN</td>\n",
       "      <td>9.0</td>\n",
       "      <td>NaN</td>\n",
       "      <td>3</td>\n",
       "      <td>FOOD</td>\n",
       "      <td>SINGLE_BUYER</td>\n",
       "      <td>0</td>\n",
       "      <td>1</td>\n",
       "      <td>4</td>\n",
       "    </tr>\n",
       "    <tr>\n",
       "      <th>2</th>\n",
       "      <td>143872</td>\n",
       "      <td>NaN</td>\n",
       "      <td>1.0</td>\n",
       "      <td>6.0</td>\n",
       "      <td>NaN</td>\n",
       "      <td>NaN</td>\n",
       "      <td>NaN</td>\n",
       "      <td>NaN</td>\n",
       "      <td>0.0</td>\n",
       "      <td>1.0</td>\n",
       "      <td>...</td>\n",
       "      <td>11.0</td>\n",
       "      <td>6.0</td>\n",
       "      <td>9.0</td>\n",
       "      <td>2.0</td>\n",
       "      <td>3</td>\n",
       "      <td>COSMETIC_AND_FOOD</td>\n",
       "      <td>MULTI_BUYER</td>\n",
       "      <td>0</td>\n",
       "      <td>2</td>\n",
       "      <td>4</td>\n",
       "    </tr>\n",
       "    <tr>\n",
       "      <th>3</th>\n",
       "      <td>143873</td>\n",
       "      <td>1.0</td>\n",
       "      <td>1.0</td>\n",
       "      <td>8.0</td>\n",
       "      <td>NaN</td>\n",
       "      <td>NaN</td>\n",
       "      <td>NaN</td>\n",
       "      <td>NaN</td>\n",
       "      <td>8.0</td>\n",
       "      <td>0.0</td>\n",
       "      <td>...</td>\n",
       "      <td>2.0</td>\n",
       "      <td>NaN</td>\n",
       "      <td>9.0</td>\n",
       "      <td>7.0</td>\n",
       "      <td>1</td>\n",
       "      <td>COSMETIC</td>\n",
       "      <td>MULTI_BUYER</td>\n",
       "      <td>0</td>\n",
       "      <td>1</td>\n",
       "      <td>4</td>\n",
       "    </tr>\n",
       "    <tr>\n",
       "      <th>4</th>\n",
       "      <td>143874</td>\n",
       "      <td>NaN</td>\n",
       "      <td>1.0</td>\n",
       "      <td>20.0</td>\n",
       "      <td>NaN</td>\n",
       "      <td>NaN</td>\n",
       "      <td>NaN</td>\n",
       "      <td>NaN</td>\n",
       "      <td>14.0</td>\n",
       "      <td>7.0</td>\n",
       "      <td>...</td>\n",
       "      <td>4.0</td>\n",
       "      <td>2.0</td>\n",
       "      <td>9.0</td>\n",
       "      <td>3.0</td>\n",
       "      <td>1</td>\n",
       "      <td>FOOD</td>\n",
       "      <td>MULTI_BUYER</td>\n",
       "      <td>0</td>\n",
       "      <td>1</td>\n",
       "      <td>3</td>\n",
       "    </tr>\n",
       "    <tr>\n",
       "      <th>...</th>\n",
       "      <td>...</td>\n",
       "      <td>...</td>\n",
       "      <td>...</td>\n",
       "      <td>...</td>\n",
       "      <td>...</td>\n",
       "      <td>...</td>\n",
       "      <td>...</td>\n",
       "      <td>...</td>\n",
       "      <td>...</td>\n",
       "      <td>...</td>\n",
       "      <td>...</td>\n",
       "      <td>...</td>\n",
       "      <td>...</td>\n",
       "      <td>...</td>\n",
       "      <td>...</td>\n",
       "      <td>...</td>\n",
       "      <td>...</td>\n",
       "      <td>...</td>\n",
       "      <td>...</td>\n",
       "      <td>...</td>\n",
       "      <td>...</td>\n",
       "    </tr>\n",
       "    <tr>\n",
       "      <th>191647</th>\n",
       "      <td>154561</td>\n",
       "      <td>1.0</td>\n",
       "      <td>1.0</td>\n",
       "      <td>9.0</td>\n",
       "      <td>NaN</td>\n",
       "      <td>NaN</td>\n",
       "      <td>NaN</td>\n",
       "      <td>NaN</td>\n",
       "      <td>9.0</td>\n",
       "      <td>1.0</td>\n",
       "      <td>...</td>\n",
       "      <td>5.0</td>\n",
       "      <td>6.0</td>\n",
       "      <td>9.0</td>\n",
       "      <td>1.0</td>\n",
       "      <td>3</td>\n",
       "      <td>COSMETIC_AND_FOOD</td>\n",
       "      <td>MULTI_BUYER</td>\n",
       "      <td>0</td>\n",
       "      <td>1</td>\n",
       "      <td>3</td>\n",
       "    </tr>\n",
       "    <tr>\n",
       "      <th>191648</th>\n",
       "      <td>154563</td>\n",
       "      <td>NaN</td>\n",
       "      <td>2.0</td>\n",
       "      <td>0.0</td>\n",
       "      <td>NaN</td>\n",
       "      <td>NaN</td>\n",
       "      <td>NaN</td>\n",
       "      <td>NaN</td>\n",
       "      <td>0.0</td>\n",
       "      <td>0.0</td>\n",
       "      <td>...</td>\n",
       "      <td>4.0</td>\n",
       "      <td>NaN</td>\n",
       "      <td>9.0</td>\n",
       "      <td>3.0</td>\n",
       "      <td>3</td>\n",
       "      <td>COSMETIC</td>\n",
       "      <td>SINGLE_BUYER</td>\n",
       "      <td>0</td>\n",
       "      <td>2</td>\n",
       "      <td>4</td>\n",
       "    </tr>\n",
       "    <tr>\n",
       "      <th>191649</th>\n",
       "      <td>148813</td>\n",
       "      <td>2.0</td>\n",
       "      <td>1.0</td>\n",
       "      <td>15.0</td>\n",
       "      <td>NaN</td>\n",
       "      <td>NaN</td>\n",
       "      <td>NaN</td>\n",
       "      <td>NaN</td>\n",
       "      <td>10.0</td>\n",
       "      <td>1.0</td>\n",
       "      <td>...</td>\n",
       "      <td>5.0</td>\n",
       "      <td>3.0</td>\n",
       "      <td>9.0</td>\n",
       "      <td>3.0</td>\n",
       "      <td>3</td>\n",
       "      <td>COSMETIC_AND_FOOD</td>\n",
       "      <td>MULTI_BUYER</td>\n",
       "      <td>0</td>\n",
       "      <td>1</td>\n",
       "      <td>4</td>\n",
       "    </tr>\n",
       "    <tr>\n",
       "      <th>191650</th>\n",
       "      <td>148852</td>\n",
       "      <td>3.0</td>\n",
       "      <td>1.0</td>\n",
       "      <td>13.0</td>\n",
       "      <td>NaN</td>\n",
       "      <td>NaN</td>\n",
       "      <td>NaN</td>\n",
       "      <td>NaN</td>\n",
       "      <td>13.0</td>\n",
       "      <td>4.0</td>\n",
       "      <td>...</td>\n",
       "      <td>1.0</td>\n",
       "      <td>4.0</td>\n",
       "      <td>9.0</td>\n",
       "      <td>2.0</td>\n",
       "      <td>3</td>\n",
       "      <td>FOOD</td>\n",
       "      <td>SINGLE_BUYER</td>\n",
       "      <td>0</td>\n",
       "      <td>2</td>\n",
       "      <td>3</td>\n",
       "    </tr>\n",
       "    <tr>\n",
       "      <th>191651</th>\n",
       "      <td>148883</td>\n",
       "      <td>3.0</td>\n",
       "      <td>1.0</td>\n",
       "      <td>0.0</td>\n",
       "      <td>NaN</td>\n",
       "      <td>NaN</td>\n",
       "      <td>NaN</td>\n",
       "      <td>NaN</td>\n",
       "      <td>9.0</td>\n",
       "      <td>1.0</td>\n",
       "      <td>...</td>\n",
       "      <td>1.0</td>\n",
       "      <td>3.0</td>\n",
       "      <td>9.0</td>\n",
       "      <td>7.0</td>\n",
       "      <td>1</td>\n",
       "      <td>COSMETIC_AND_FOOD</td>\n",
       "      <td>MULTI_BUYER</td>\n",
       "      <td>0</td>\n",
       "      <td>1</td>\n",
       "      <td>2</td>\n",
       "    </tr>\n",
       "  </tbody>\n",
       "</table>\n",
       "<p>191652 rows × 369 columns</p>\n",
       "</div>"
      ],
      "text/plain": [
       "           LNR  AGER_TYP  AKT_DAT_KL  ALTER_HH  ALTER_KIND1  ALTER_KIND2  \\\n",
       "0         9626       2.0         1.0      10.0          NaN          NaN   \n",
       "1         9628       NaN         9.0      11.0          NaN          NaN   \n",
       "2       143872       NaN         1.0       6.0          NaN          NaN   \n",
       "3       143873       1.0         1.0       8.0          NaN          NaN   \n",
       "4       143874       NaN         1.0      20.0          NaN          NaN   \n",
       "...        ...       ...         ...       ...          ...          ...   \n",
       "191647  154561       1.0         1.0       9.0          NaN          NaN   \n",
       "191648  154563       NaN         2.0       0.0          NaN          NaN   \n",
       "191649  148813       2.0         1.0      15.0          NaN          NaN   \n",
       "191650  148852       3.0         1.0      13.0          NaN          NaN   \n",
       "191651  148883       3.0         1.0       0.0          NaN          NaN   \n",
       "\n",
       "        ALTER_KIND3  ALTER_KIND4  ALTERSKATEGORIE_FEIN  ANZ_HAUSHALTE_AKTIV  \\\n",
       "0               NaN          NaN                  10.0                  1.0   \n",
       "1               NaN          NaN                   NaN                  NaN   \n",
       "2               NaN          NaN                   0.0                  1.0   \n",
       "3               NaN          NaN                   8.0                  0.0   \n",
       "4               NaN          NaN                  14.0                  7.0   \n",
       "...             ...          ...                   ...                  ...   \n",
       "191647          NaN          NaN                   9.0                  1.0   \n",
       "191648          NaN          NaN                   0.0                  0.0   \n",
       "191649          NaN          NaN                  10.0                  1.0   \n",
       "191650          NaN          NaN                  13.0                  4.0   \n",
       "191651          NaN          NaN                   9.0                  1.0   \n",
       "\n",
       "        ...  VK_ZG11  W_KEIT_KIND_HH  WOHNDAUER_2008  WOHNLAGE  ZABEOTYP  \\\n",
       "0       ...      2.0             6.0             9.0       7.0         3   \n",
       "1       ...      3.0             NaN             9.0       NaN         3   \n",
       "2       ...     11.0             6.0             9.0       2.0         3   \n",
       "3       ...      2.0             NaN             9.0       7.0         1   \n",
       "4       ...      4.0             2.0             9.0       3.0         1   \n",
       "...     ...      ...             ...             ...       ...       ...   \n",
       "191647  ...      5.0             6.0             9.0       1.0         3   \n",
       "191648  ...      4.0             NaN             9.0       3.0         3   \n",
       "191649  ...      5.0             3.0             9.0       3.0         3   \n",
       "191650  ...      1.0             4.0             9.0       2.0         3   \n",
       "191651  ...      1.0             3.0             9.0       7.0         1   \n",
       "\n",
       "            PRODUCT_GROUP  CUSTOMER_GROUP ONLINE_PURCHASE ANREDE_KZ  \\\n",
       "0       COSMETIC_AND_FOOD     MULTI_BUYER               0         1   \n",
       "1                    FOOD    SINGLE_BUYER               0         1   \n",
       "2       COSMETIC_AND_FOOD     MULTI_BUYER               0         2   \n",
       "3                COSMETIC     MULTI_BUYER               0         1   \n",
       "4                    FOOD     MULTI_BUYER               0         1   \n",
       "...                   ...             ...             ...       ...   \n",
       "191647  COSMETIC_AND_FOOD     MULTI_BUYER               0         1   \n",
       "191648           COSMETIC    SINGLE_BUYER               0         2   \n",
       "191649  COSMETIC_AND_FOOD     MULTI_BUYER               0         1   \n",
       "191650               FOOD    SINGLE_BUYER               0         2   \n",
       "191651  COSMETIC_AND_FOOD     MULTI_BUYER               0         1   \n",
       "\n",
       "       ALTERSKATEGORIE_GROB  \n",
       "0                         4  \n",
       "1                         4  \n",
       "2                         4  \n",
       "3                         4  \n",
       "4                         3  \n",
       "...                     ...  \n",
       "191647                    3  \n",
       "191648                    4  \n",
       "191649                    4  \n",
       "191650                    3  \n",
       "191651                    2  \n",
       "\n",
       "[191652 rows x 369 columns]"
      ]
     },
     "execution_count": 21,
     "metadata": {},
     "output_type": "execute_result"
    }
   ],
   "source": [
    "replace_unknowns(azdias)\n",
    "replace_unknowns(customers)"
   ]
  },
  {
   "cell_type": "markdown",
   "metadata": {},
   "source": [
    "Looks like it works"
   ]
  },
  {
   "cell_type": "markdown",
   "metadata": {},
   "source": [
    "## Further analysing the categorical data\n",
    "\n",
    "Some of the categorical data may require special treatment so it's best to check out the categories and values for each of them for both of the categories."
   ]
  },
  {
   "cell_type": "code",
   "execution_count": 32,
   "metadata": {},
   "outputs": [],
   "source": [
    "def get_unique_cats(df):\n",
    "    \"\"\"\n",
    "    Prints out the unqiue values for each object column in the pandas dataframe 'df'\n",
    "    \"\"\"\n",
    "    unique_dict = {}\n",
    "    cols = df.select_dtypes(include=['object'])\n",
    "    for col in cols:\n",
    "        unique_vals = df[col].unique()\n",
    "        #unique_dict[col] = list(df[col].unique())\n",
    "        #pprint(unique_dict) pprint is too long\n",
    "        print('{}:{}'.format(col,unique_vals))"
   ]
  },
  {
   "cell_type": "code",
   "execution_count": 11,
   "metadata": {},
   "outputs": [
    {
     "name": "stdout",
     "output_type": "stream",
     "text": [
      "CAMEO_DEU_2015:['1A' nan '5D' '4C' '7B' '3B' '1D' '9E' '2D' '4A' '6B' '9D' '8B' '5C' '9C'\n",
      " '4E' '6C' '8C' '8A' '5B' '9B' '3D' '2A' '3C' '5F' '7A' '1E' '2C' '7C'\n",
      " '5A' '2B' '6D' '7E' '5E' '6E' '3A' '9A' '4B' '1C' '1B' '6A' '8D' '7D'\n",
      " '6F' '4D' 'XX']\n",
      "CAMEO_DEUG_2015:['1.0' nan '5.0' '4.0' '7.0' '3.0' '9.0' '2.0' '6.0' '8.0' '6' '3' '8' '9'\n",
      " '2' '4' '1' '7' '5' 'X']\n",
      "CAMEO_INTL_2015:['13.0' nan '34.0' '24.0' '41.0' '23.0' '15.0' '55.0' '14.0' '22.0' '43.0'\n",
      " '51.0' '33.0' '25.0' '44.0' '54.0' '32.0' '12.0' '35.0' '31.0' '45.0'\n",
      " '52.0' '45' '25' '55' '51' '14' '54' '43' '22' '15' '24' '35' '23' '12'\n",
      " '44' '41' '52' '31' '13' '34' '32' '33' 'XX']\n",
      "D19_LETZTER_KAUF_BRANCHE:['D19_UNBEKANNT' 'D19_BANKEN_GROSS' 'D19_NAHRUNGSERGAENZUNG' 'D19_SCHUHE'\n",
      " 'D19_BUCH_CD' 'D19_DROGERIEARTIKEL' 'D19_SONSTIGE' 'D19_TECHNIK'\n",
      " 'D19_VERSICHERUNGEN' 'D19_TELKO_MOBILE' 'D19_VOLLSORTIMENT' nan\n",
      " 'D19_HAUS_DEKO' 'D19_ENERGIE' 'D19_REISEN' 'D19_BANKEN_LOKAL'\n",
      " 'D19_VERSAND_REST' 'D19_BEKLEIDUNG_REST' 'D19_FREIZEIT'\n",
      " 'D19_BEKLEIDUNG_GEH' 'D19_TELKO_REST' 'D19_SAMMELARTIKEL'\n",
      " 'D19_BANKEN_DIREKT' 'D19_KINDERARTIKEL' 'D19_BANKEN_REST'\n",
      " 'D19_LEBENSMITTEL' 'D19_GARTEN' 'D19_HANDWERK' 'D19_RATGEBER'\n",
      " 'D19_DIGIT_SERV' 'D19_BIO_OEKO' 'D19_BILDUNG' 'D19_WEIN_FEINKOST'\n",
      " 'D19_TIERARTIKEL' 'D19_LOTTO' 'D19_KOSMETIK']\n",
      "EINGEFUEGT_AM:['1992-02-12 00:00:00' nan '1992-02-10 00:00:00' ... '2008-04-25 00:00:00'\n",
      " '2005-03-30 00:00:00' '2008-07-14 00:00:00']\n",
      "OST_WEST_KZ:['W' nan 'O']\n",
      "PRODUCT_GROUP:['COSMETIC_AND_FOOD' 'FOOD' 'COSMETIC']\n",
      "CUSTOMER_GROUP:['MULTI_BUYER' 'SINGLE_BUYER']\n"
     ]
    }
   ],
   "source": [
    "get_unique_cats(customers)"
   ]
  },
  {
   "cell_type": "code",
   "execution_count": 24,
   "metadata": {},
   "outputs": [
    {
     "name": "stdout",
     "output_type": "stream",
     "text": [
      "CAMEO_DEU_2015:[nan '8A' '4C' '2A' '6B' '8C' '4A' '2D' '1A' '1E' '9D' '5C' '8B' '7A' '5D'\n",
      " '9E' '9B' '1B' '3D' '4E' '4B' '3C' '5A' '7B' '9A' '6D' '6E' '2C' '7C'\n",
      " '9C' '7D' '5E' '1D' '8D' '6C' '6A' '5B' '4D' '3A' '2B' '7E' '3B' '6F'\n",
      " '5F' '1C' 'XX']\n",
      "CAMEO_DEUG_2015:[nan '8.0' '4.0' '2.0' '6.0' '1.0' '9.0' '5.0' '7.0' '3.0' '4' '3' '7' '2'\n",
      " '8' '9' '6' '5' '1' 'X']\n",
      "CAMEO_INTL_2015:[nan '51.0' '24.0' '12.0' '43.0' '54.0' '22.0' '14.0' '13.0' '15.0' '33.0'\n",
      " '41.0' '34.0' '55.0' '25.0' '23.0' '31.0' '52.0' '35.0' '45.0' '44.0'\n",
      " '32.0' '22' '24' '41' '12' '54' '51' '44' '35' '23' '25' '14' '34' '52'\n",
      " '55' '31' '32' '15' '13' '43' '33' '45' 'XX']\n",
      "D19_LETZTER_KAUF_BRANCHE:[nan 'D19_UNBEKANNT' 'D19_SCHUHE' 'D19_ENERGIE' 'D19_KOSMETIK'\n",
      " 'D19_VOLLSORTIMENT' 'D19_SONSTIGE' 'D19_BANKEN_GROSS'\n",
      " 'D19_DROGERIEARTIKEL' 'D19_HANDWERK' 'D19_BUCH_CD' 'D19_VERSICHERUNGEN'\n",
      " 'D19_VERSAND_REST' 'D19_TELKO_REST' 'D19_BANKEN_DIREKT' 'D19_BANKEN_REST'\n",
      " 'D19_FREIZEIT' 'D19_LEBENSMITTEL' 'D19_HAUS_DEKO' 'D19_BEKLEIDUNG_REST'\n",
      " 'D19_SAMMELARTIKEL' 'D19_TELKO_MOBILE' 'D19_REISEN' 'D19_BEKLEIDUNG_GEH'\n",
      " 'D19_TECHNIK' 'D19_NAHRUNGSERGAENZUNG' 'D19_DIGIT_SERV' 'D19_LOTTO'\n",
      " 'D19_RATGEBER' 'D19_TIERARTIKEL' 'D19_KINDERARTIKEL' 'D19_BIO_OEKO'\n",
      " 'D19_WEIN_FEINKOST' 'D19_GARTEN' 'D19_BILDUNG' 'D19_BANKEN_LOKAL']\n",
      "EINGEFUEGT_AM:[nan '1992-02-10 00:00:00' '1992-02-12 00:00:00' ... '2010-12-02 00:00:00'\n",
      " '2005-03-19 00:00:00' '2011-11-18 00:00:00']\n",
      "OST_WEST_KZ:[nan 'W' 'O']\n"
     ]
    }
   ],
   "source": [
    "get_unique_cats(azdias)"
   ]
  },
  {
   "cell_type": "markdown",
   "metadata": {},
   "source": [
    "For starters both the `CAMEO_DEUG_2015`, `CAMEO_DEU_2015` and `CAMEO_INTL_2015` columns have 'X' or 'XX' values which should be replaced with nan values and the `CAMEO_INTL_2015` and `CAMEO_DEUG_2015` need to be standardised into integers as well."
   ]
  },
  {
   "cell_type": "markdown",
   "metadata": {},
   "source": [
    "First it's best to create a function which converts a string of a float into an integer and handles a string of an integer and np.nan values unaffected "
   ]
  },
  {
   "cell_type": "code",
   "execution_count": 33,
   "metadata": {},
   "outputs": [],
   "source": [
    "def obj2numstr(x):\n",
    "    \"\"\"Turn an object of numbers of floats, strings and integers be converted \n",
    "    into a numerical integer string. Let np.nan be unchanged\"\"\"\n",
    "    if pd.notna(x):\n",
    "        return str(x).split('.')[0]\n",
    "    else: return x"
   ]
  },
  {
   "cell_type": "code",
   "execution_count": 26,
   "metadata": {},
   "outputs": [
    {
     "name": "stdout",
     "output_type": "stream",
     "text": [
      "It works\n"
     ]
    }
   ],
   "source": [
    "#Tests\n",
    "assert obj2numstr(2) == '2'\n",
    "assert obj2numstr(12.0) == '12'\n",
    "assert obj2numstr('13.43') == '13'\n",
    "assert pd.isna(obj2numstr(np.nan))\n",
    "print('It works')"
   ]
  },
  {
   "cell_type": "code",
   "execution_count": 27,
   "metadata": {},
   "outputs": [],
   "source": [
    "azdias['CAMEO_INTL_2015'] = azdias.CAMEO_INTL_2015.replace(to_replace='XX',value=np.nan).apply(obj2numstr)\n",
    "azdias['CAMEO_DEUG_2015'] = azdias.CAMEO_DEUG_2015.replace(to_replace='X',value=np.nan).apply(obj2numstr)\n",
    "azdias['CAMEO_DEU_2015'] = azdias.CAMEO_DEU_2015.replace(to_replace='XX',value=np.nan)"
   ]
  },
  {
   "cell_type": "code",
   "execution_count": 28,
   "metadata": {},
   "outputs": [],
   "source": [
    "customers['CAMEO_INTL_2015'] = customers.CAMEO_INTL_2015.replace(to_replace='XX',value=np.nan).apply(obj2numstr)\n",
    "customers['CAMEO_DEUG_2015'] = customers.CAMEO_DEUG_2015.replace(to_replace='X',value=np.nan).apply(obj2numstr)\n",
    "customers['CAMEO_DEU_2015'] = customers.CAMEO_DEU_2015.replace(to_replace='XX',value=np.nan)"
   ]
  },
  {
   "cell_type": "code",
   "execution_count": 29,
   "metadata": {},
   "outputs": [
    {
     "name": "stdout",
     "output_type": "stream",
     "text": [
      "CAMEO_DEU_2015:[nan '8A' '4C' '2A' '6B' '8C' '4A' '2D' '1A' '1E' '9D' '5C' '8B' '7A' '5D'\n",
      " '9E' '9B' '1B' '3D' '4E' '4B' '3C' '5A' '7B' '9A' '6D' '6E' '2C' '7C'\n",
      " '9C' '7D' '5E' '1D' '8D' '6C' '6A' '5B' '4D' '3A' '2B' '7E' '3B' '6F'\n",
      " '5F' '1C']\n",
      "CAMEO_DEUG_2015:[nan '8' '4' '2' '6' '1' '9' '5' '7' '3']\n",
      "CAMEO_INTL_2015:[nan '51' '24' '12' '43' '54' '22' '14' '13' '15' '33' '41' '34' '55' '25'\n",
      " '23' '31' '52' '35' '45' '44' '32']\n",
      "D19_LETZTER_KAUF_BRANCHE:[nan 'D19_UNBEKANNT' 'D19_SCHUHE' 'D19_ENERGIE' 'D19_KOSMETIK'\n",
      " 'D19_VOLLSORTIMENT' 'D19_SONSTIGE' 'D19_BANKEN_GROSS'\n",
      " 'D19_DROGERIEARTIKEL' 'D19_HANDWERK' 'D19_BUCH_CD' 'D19_VERSICHERUNGEN'\n",
      " 'D19_VERSAND_REST' 'D19_TELKO_REST' 'D19_BANKEN_DIREKT' 'D19_BANKEN_REST'\n",
      " 'D19_FREIZEIT' 'D19_LEBENSMITTEL' 'D19_HAUS_DEKO' 'D19_BEKLEIDUNG_REST'\n",
      " 'D19_SAMMELARTIKEL' 'D19_TELKO_MOBILE' 'D19_REISEN' 'D19_BEKLEIDUNG_GEH'\n",
      " 'D19_TECHNIK' 'D19_NAHRUNGSERGAENZUNG' 'D19_DIGIT_SERV' 'D19_LOTTO'\n",
      " 'D19_RATGEBER' 'D19_TIERARTIKEL' 'D19_KINDERARTIKEL' 'D19_BIO_OEKO'\n",
      " 'D19_WEIN_FEINKOST' 'D19_GARTEN' 'D19_BILDUNG' 'D19_BANKEN_LOKAL']\n",
      "EINGEFUEGT_AM:[nan '1992-02-10 00:00:00' '1992-02-12 00:00:00' ... '2010-12-02 00:00:00'\n",
      " '2005-03-19 00:00:00' '2011-11-18 00:00:00']\n",
      "OST_WEST_KZ:[nan 'W' 'O']\n",
      "==================================================\n",
      "CAMEO_DEU_2015:['1A' nan '5D' '4C' '7B' '3B' '1D' '9E' '2D' '4A' '6B' '9D' '8B' '5C' '9C'\n",
      " '4E' '6C' '8C' '8A' '5B' '9B' '3D' '2A' '3C' '5F' '7A' '1E' '2C' '7C'\n",
      " '5A' '2B' '6D' '7E' '5E' '6E' '3A' '9A' '4B' '1C' '1B' '6A' '8D' '7D'\n",
      " '6F' '4D']\n",
      "CAMEO_DEUG_2015:['1' nan '5' '4' '7' '3' '9' '2' '6' '8']\n",
      "CAMEO_INTL_2015:['13' nan '34' '24' '41' '23' '15' '55' '14' '22' '43' '51' '33' '25' '44'\n",
      " '54' '32' '12' '35' '31' '45' '52']\n",
      "D19_LETZTER_KAUF_BRANCHE:['D19_UNBEKANNT' 'D19_BANKEN_GROSS' 'D19_NAHRUNGSERGAENZUNG' 'D19_SCHUHE'\n",
      " 'D19_BUCH_CD' 'D19_DROGERIEARTIKEL' 'D19_SONSTIGE' 'D19_TECHNIK'\n",
      " 'D19_VERSICHERUNGEN' 'D19_TELKO_MOBILE' 'D19_VOLLSORTIMENT' nan\n",
      " 'D19_HAUS_DEKO' 'D19_ENERGIE' 'D19_REISEN' 'D19_BANKEN_LOKAL'\n",
      " 'D19_VERSAND_REST' 'D19_BEKLEIDUNG_REST' 'D19_FREIZEIT'\n",
      " 'D19_BEKLEIDUNG_GEH' 'D19_TELKO_REST' 'D19_SAMMELARTIKEL'\n",
      " 'D19_BANKEN_DIREKT' 'D19_KINDERARTIKEL' 'D19_BANKEN_REST'\n",
      " 'D19_LEBENSMITTEL' 'D19_GARTEN' 'D19_HANDWERK' 'D19_RATGEBER'\n",
      " 'D19_DIGIT_SERV' 'D19_BIO_OEKO' 'D19_BILDUNG' 'D19_WEIN_FEINKOST'\n",
      " 'D19_TIERARTIKEL' 'D19_LOTTO' 'D19_KOSMETIK']\n",
      "EINGEFUEGT_AM:['1992-02-12 00:00:00' nan '1992-02-10 00:00:00' ... '2008-04-25 00:00:00'\n",
      " '2005-03-30 00:00:00' '2008-07-14 00:00:00']\n",
      "OST_WEST_KZ:['W' nan 'O']\n",
      "PRODUCT_GROUP:['COSMETIC_AND_FOOD' 'FOOD' 'COSMETIC']\n",
      "CUSTOMER_GROUP:['MULTI_BUYER' 'SINGLE_BUYER']\n"
     ]
    }
   ],
   "source": [
    "get_unique_cats(azdias)\n",
    "print('='*50)\n",
    "get_unique_cats(customers)"
   ]
  },
  {
   "cell_type": "markdown",
   "metadata": {},
   "source": [
    "Looks like it worked. Lets save the the results of some of our dataframes"
   ]
  },
  {
   "cell_type": "markdown",
   "metadata": {},
   "source": [
    "## Removing rows and columns with too many missing values"
   ]
  },
  {
   "cell_type": "markdown",
   "metadata": {},
   "source": [
    "There are some columns and rows which have too many nan values that it becomes difficult to derive value off of them. Subsequently it makes sense that these rows and columns should be removed to prevent speculative data based off of imputing poisoning the machine learning models produced from them. \n",
    "\n",
    "The generic strategy will be to select a cutoff point where most of the data can be maintained. "
   ]
  },
  {
   "cell_type": "code",
   "execution_count": 30,
   "metadata": {},
   "outputs": [
    {
     "data": {
      "text/plain": [
       "891221"
      ]
     },
     "execution_count": 30,
     "metadata": {},
     "output_type": "execute_result"
    }
   ],
   "source": [
    "len(azdias)"
   ]
  },
  {
   "cell_type": "code",
   "execution_count": 31,
   "metadata": {},
   "outputs": [
    {
     "data": {
      "text/plain": [
       "191652"
      ]
     },
     "execution_count": 31,
     "metadata": {},
     "output_type": "execute_result"
    }
   ],
   "source": [
    "len(customers)"
   ]
  },
  {
   "cell_type": "code",
   "execution_count": 32,
   "metadata": {},
   "outputs": [
    {
     "data": {
      "image/png": "[encoded data removed]",
      "text/plain": [
       "<Figure size 432x288 with 1 Axes>"
      ]
     },
     "metadata": {
      "needs_background": "light"
     },
     "output_type": "display_data"
    }
   ],
   "source": [
    "plt.hist(azdias.isna().sum())\n",
    "plt.xlabel('Proportion of missing values');\n",
    "plt.ylabel('Number of columns in azdias dataframe');"
   ]
  },
  {
   "cell_type": "markdown",
   "metadata": {},
   "source": [
    "From the above it is clear that any columns with more than 30% of the missing values should be dropped. Therefore this will be the criteria for dropping columns"
   ]
  },
  {
   "cell_type": "code",
   "execution_count": 33,
   "metadata": {},
   "outputs": [
    {
     "data": {
      "image/png": "[encoded data removed]",
      "text/plain": [
       "<Figure size 432x288 with 1 Axes>"
      ]
     },
     "metadata": {
      "needs_background": "light"
     },
     "output_type": "display_data"
    }
   ],
   "source": [
    "plt.hist(azdias.isna().sum(axis=1))\n",
    "plt.xlabel('Proportion of missing values');\n",
    "plt.ylabel('Number of rows in azdias dataframe');"
   ]
  },
  {
   "cell_type": "code",
   "execution_count": null,
   "metadata": {},
   "outputs": [],
   "source": []
  },
  {
   "cell_type": "code",
   "execution_count": 34,
   "metadata": {},
   "outputs": [
    {
     "data": {
      "image/png": "[encoded data removed]",
      "text/plain": [
       "<Figure size 432x288 with 1 Axes>"
      ]
     },
     "metadata": {
      "needs_background": "light"
     },
     "output_type": "display_data"
    }
   ],
   "source": [
    "plt.hist(customers.isna().sum());\n",
    "plt.xlabel('Proportion of missing values');\n",
    "plt.ylabel('Number of columns');"
   ]
  },
  {
   "cell_type": "code",
   "execution_count": 35,
   "metadata": {},
   "outputs": [
    {
     "data": {
      "image/png": "[encoded data removed]",
      "text/plain": [
       "<Figure size 432x288 with 1 Axes>"
      ]
     },
     "metadata": {
      "needs_background": "light"
     },
     "output_type": "display_data"
    }
   ],
   "source": [
    "plt.hist(customers.isna().sum(axis=1));\n",
    "plt.xlabel('Proportion of missing values');\n",
    "plt.ylabel('Number of rows');"
   ]
  },
  {
   "cell_type": "markdown",
   "metadata": {},
   "source": [
    "From the plot above it is clear that most of the rows are filled. A good cutoff point appears to around 0.45. This is because this captures most of the dataset. "
   ]
  },
  {
   "cell_type": "code",
   "execution_count": 34,
   "metadata": {},
   "outputs": [],
   "source": [
    "def drop_cols_rows(df,row_thresh,col_thresh):\n",
    "    \"\"\"\n",
    "    returns a dataframe with rows and columns dropped which exceeds a threshold of nan values whom proportions \n",
    "    exceed row_perc (to drop rows) or col_perc (to drop columns)\n",
    "    \"\"\"\n",
    "    num_cols = len(df.columns)\n",
    "    num_rows = len(df)\n",
    "    dropped_df_cols =  df.dropna(axis=1,thresh=num_rows-col_thresh)\n",
    "    dropped_df = dropped_df_cols.dropna(axis=0,thresh=num_cols-row_thresh)\n",
    "    return dropped_df\n",
    "    "
   ]
  },
  {
   "cell_type": "code",
   "execution_count": 37,
   "metadata": {},
   "outputs": [],
   "source": [
    "customers_dropped = drop_cols_rows(customers,50,60_000)"
   ]
  },
  {
   "cell_type": "code",
   "execution_count": 38,
   "metadata": {},
   "outputs": [],
   "source": [
    "azdias_dropped = drop_cols_rows(azdias,50,300_000)"
   ]
  },
  {
   "cell_type": "code",
   "execution_count": 39,
   "metadata": {},
   "outputs": [
    {
     "data": {
      "text/plain": [
       "Text(0, 0.5, 'Number of rows')"
      ]
     },
     "execution_count": 39,
     "metadata": {},
     "output_type": "execute_result"
    },
    {
     "data": {
      "image/png": "[encoded data removed]",
      "text/plain": [
       "<Figure size 432x288 with 1 Axes>"
      ]
     },
     "metadata": {
      "needs_background": "light"
     },
     "output_type": "display_data"
    }
   ],
   "source": [
    "plt.hist(customers_dropped.isna().sum(axis=1))\n",
    "plt.xlabel('Proportion of missing values')\n",
    "plt.ylabel('Number of rows')"
   ]
  },
  {
   "cell_type": "code",
   "execution_count": 40,
   "metadata": {},
   "outputs": [
    {
     "data": {
      "text/plain": [
       "Text(0, 0.5, 'Number of columns')"
      ]
     },
     "execution_count": 40,
     "metadata": {},
     "output_type": "execute_result"
    },
    {
     "data": {
      "image/png": "[encoded data removed]",
      "text/plain": [
       "<Figure size 432x288 with 1 Axes>"
      ]
     },
     "metadata": {
      "needs_background": "light"
     },
     "output_type": "display_data"
    }
   ],
   "source": [
    "plt.hist(customers_dropped.isna().sum(axis=0))\n",
    "plt.xlabel('Proportion of missing values')\n",
    "plt.ylabel('Number of columns')"
   ]
  },
  {
   "cell_type": "code",
   "execution_count": 41,
   "metadata": {},
   "outputs": [
    {
     "name": "stdout",
     "output_type": "stream",
     "text": [
      "<class 'pandas.core.frame.DataFrame'>\n",
      "RangeIndex: 191652 entries, 0 to 191651\n",
      "Columns: 369 entries, LNR to ALTERSKATEGORIE_GROB\n",
      "dtypes: float64(273), int64(88), object(8)\n",
      "memory usage: 539.5+ MB\n"
     ]
    }
   ],
   "source": [
    "customers.info()"
   ]
  },
  {
   "cell_type": "markdown",
   "metadata": {},
   "source": [
    "### Exploring attribute values and their meaning"
   ]
  },
  {
   "cell_type": "code",
   "execution_count": 42,
   "metadata": {},
   "outputs": [
    {
     "data": {
      "text/html": [
       "<div>\n",
       "<style scoped>\n",
       "    .dataframe tbody tr th:only-of-type {\n",
       "        vertical-align: middle;\n",
       "    }\n",
       "\n",
       "    .dataframe tbody tr th {\n",
       "        vertical-align: top;\n",
       "    }\n",
       "\n",
       "    .dataframe thead th {\n",
       "        text-align: right;\n",
       "    }\n",
       "</style>\n",
       "<table border=\"1\" class=\"dataframe\">\n",
       "  <thead>\n",
       "    <tr style=\"text-align: right;\">\n",
       "      <th></th>\n",
       "      <th>Unnamed: 0</th>\n",
       "      <th>Unnamed: 1</th>\n",
       "      <th>Unnamed: 2</th>\n",
       "      <th>Unnamed: 3</th>\n",
       "      <th>Unnamed: 4</th>\n",
       "    </tr>\n",
       "  </thead>\n",
       "  <tbody>\n",
       "    <tr>\n",
       "      <th>0</th>\n",
       "      <td>NaN</td>\n",
       "      <td>Attribute</td>\n",
       "      <td>Description</td>\n",
       "      <td>Value</td>\n",
       "      <td>Meaning</td>\n",
       "    </tr>\n",
       "    <tr>\n",
       "      <th>1</th>\n",
       "      <td>NaN</td>\n",
       "      <td>AGER_TYP</td>\n",
       "      <td>best-ager typology</td>\n",
       "      <td>-1</td>\n",
       "      <td>unknown</td>\n",
       "    </tr>\n",
       "    <tr>\n",
       "      <th>2</th>\n",
       "      <td>NaN</td>\n",
       "      <td>NaN</td>\n",
       "      <td>NaN</td>\n",
       "      <td>0</td>\n",
       "      <td>no classification possible</td>\n",
       "    </tr>\n",
       "    <tr>\n",
       "      <th>3</th>\n",
       "      <td>NaN</td>\n",
       "      <td>NaN</td>\n",
       "      <td>NaN</td>\n",
       "      <td>1</td>\n",
       "      <td>passive elderly</td>\n",
       "    </tr>\n",
       "    <tr>\n",
       "      <th>4</th>\n",
       "      <td>NaN</td>\n",
       "      <td>NaN</td>\n",
       "      <td>NaN</td>\n",
       "      <td>2</td>\n",
       "      <td>cultural elderly</td>\n",
       "    </tr>\n",
       "  </tbody>\n",
       "</table>\n",
       "</div>"
      ],
      "text/plain": [
       "   Unnamed: 0 Unnamed: 1          Unnamed: 2 Unnamed: 3  \\\n",
       "0         NaN  Attribute         Description      Value   \n",
       "1         NaN   AGER_TYP  best-ager typology         -1   \n",
       "2         NaN        NaN                 NaN          0   \n",
       "3         NaN        NaN                 NaN          1   \n",
       "4         NaN        NaN                 NaN          2   \n",
       "\n",
       "                   Unnamed: 4  \n",
       "0                     Meaning  \n",
       "1                     unknown  \n",
       "2  no classification possible  \n",
       "3             passive elderly  \n",
       "4            cultural elderly  "
      ]
     },
     "execution_count": 42,
     "metadata": {},
     "output_type": "execute_result"
    }
   ],
   "source": [
    "attribute_values = pd.read_excel('DIAS Attributes - Values 2017.xlsx')\n",
    "attribute_values.head()"
   ]
  },
  {
   "cell_type": "markdown",
   "metadata": {},
   "source": [
    "Lets put all the transformation inthis section together and create a function which puts them all together."
   ]
  },
  {
   "cell_type": "code",
   "execution_count": 35,
   "metadata": {},
   "outputs": [],
   "source": [
    "def clean_df(df_path,row_thresh,col_thresh,path=True,drop=True):\n",
    "    \"\"\"\n",
    "    Cleans a dataframe and then drops rows where the number of missing values along a row\n",
    "    exceed row_thresh and drops columns where the number of missing values in a column exceed col_thresh.\n",
    "    Input\n",
    "    df_path: Can be the dataframe if path=False, otherwise it must be a math to a csv file. \n",
    "    This is the dataa which is expected to be cleaned.\n",
    "    row_thresh: Threshold for number of nan values along a row (This is a number not a proportion). If the\n",
    "    number of nan values is greater than this the row will be dropped.\n",
    "    col_thresh: Threshold for number of nan values along a column (This is a number not a proportion). If the\n",
    "    number of nan values is greater than this the column will be dropped.\n",
    "    path: A boolean value. If True then df_path must be a string which is a path to a csv file. Otherwise\n",
    "    it should be a dataframe.\n",
    "    drop: If true rows and columns will be dropped otherwise no columns or rows will be dropped.\n",
    "    \"\"\"\n",
    "    df = df_path\n",
    "    if path == True:\n",
    "        df = pd.read_csv(df_path)\n",
    "    \n",
    "    #drop the Unnamed: 0 column if its in there\n",
    "    if 'Unnamed: 0' in df.columns: df.drop(columns=['Unnamed: 0'],inplace=True)\n",
    "    #Drop time series data\n",
    "    if 'EINGEFUEGT_AM' in df.columns: df.drop(columns=['EINGEFUEGT_AM'],inplace=True)\n",
    "    #Replace values of meaning with np.nan\n",
    "    \n",
    "    df = replace_unknowns(df)\n",
    "    \n",
    "    #Clean up categorical data\n",
    "    if 'CAMEO_INTL_2015' in df.columns:\n",
    "        df['CAMEO_INTL_2015'] = df.CAMEO_INTL_2015.replace(to_replace='XX',value=np.nan).apply(obj2numstr)\n",
    "    if 'CAMEO_DEUG_2015' in df.columns:\n",
    "        df['CAMEO_DEUG_2015'] = df.CAMEO_DEUG_2015.replace(to_replace='X',value=np.nan).apply(obj2numstr)\n",
    "    if 'CAMEO_DEU_2015' in df.columns:\n",
    "        df['CAMEO_DEU_2015'] = df.CAMEO_DEU_2015.replace(to_replace='XX',value=np.nan)\n",
    "    \n",
    "    #The line below is a test\n",
    "    #get_unique_cats(df)\n",
    "    \n",
    "    #drop columns and rows with too many nan values\n",
    "    if drop==True:\n",
    "        df =  drop_cols_rows(df,row_thresh,col_thresh)\n",
    "    df_cols = df.columns\n",
    "    #And finally it's time to scale the data and replace the nan values using a pipeline\n",
    "    \n",
    "    cat_cols = df.select_dtypes(include=['object']).columns\n",
    "    int_cols = df.select_dtypes(include=['int']).columns\n",
    "    float_cols = df.select_dtypes(include=['float']).columns\n",
    "    \n",
    "    [df[col].fillna(value=df[col].mean(),inplace=True) for col in float_cols]\n",
    "\n",
    "    [df[col].fillna(value=df[col].mode().iloc[0],inplace=True) for col in int_cols]\n",
    "\n",
    "    [df[col].fillna(value=df[col].mode().iloc[0],inplace=True) for col in cat_cols]\n",
    "        \n",
    "    \n",
    "    cat_transformer = ColumnTransformer(transformers=[\n",
    "        ('cat_trans',OrdinalEncoder(),cat_cols),\n",
    "    ],remainder='passthrough')\n",
    "    \n",
    "    return pd.DataFrame(data=cat_transformer.fit_transform(df),columns=df_cols)\n",
    "    \n",
    "    "
   ]
  },
  {
   "cell_type": "markdown",
   "metadata": {},
   "source": [
    "## Part 1: Customer Segmentation Report\n",
    "\n",
    "The main bulk of your analysis will come in this part of the project. Here, you should use unsupervised learning techniques to describe the relationship between the demographics of the company's existing customers and the general population of Germany. By the end of this part, you should be able to describe parts of the general population that are more likely to be part of the mail-order company's main customer base, and which parts of the general population are less so."
   ]
  },
  {
   "cell_type": "markdown",
   "metadata": {},
   "source": [
    "## Dimensionality reduction\n",
    "\n",
    "There is a large number of features in each of the datasets. It is likely that there is a lot of _*_. By using dimensionality reduction it will be possible to remove features which do not affect the variability of the data. PCA will be used for dimensionality reduction. \n",
    "\n",
    "But first it's best to create a pipeline to deal with all the missing values and scaling all the data before further analysis is done "
   ]
  },
  {
   "cell_type": "code",
   "execution_count": 112,
   "metadata": {},
   "outputs": [],
   "source": []
  },
  {
   "cell_type": "code",
   "execution_count": 16,
   "metadata": {},
   "outputs": [],
   "source": [
    "azdias_p1 = clean_df('Udacity_AZDIAS_052018.csv',50,300_000,path=True,drop=True)\n",
    "customers_p1 = clean_df('Udacity_CUSTOMERS_052018.csv',50,60_000,path=True,drop=True)\n",
    "attrib_info = pd.read_excel('DIAS Information Levels - Attributes 2017.xlsx',header=1)"
   ]
  },
  {
   "cell_type": "code",
   "execution_count": 36,
   "metadata": {},
   "outputs": [],
   "source": [
    "def create_pipeline(model):\n",
    "    \"\"\"Creates a pipeline for training a model. Only transformation is the MinMaxScaler\"\"\"\n",
    "    return Pipeline(steps=[\n",
    "    ('scaler',MinMaxScaler()),\n",
    "    ('model',model)\n",
    "])"
   ]
  },
  {
   "cell_type": "markdown",
   "metadata": {},
   "source": [
    "As both the customers and azdias dataframes both have columns that are dropped which are not the same, it's best to identify the columns that are in both dataframes so that comparisons can be made."
   ]
  },
  {
   "cell_type": "code",
   "execution_count": 22,
   "metadata": {},
   "outputs": [],
   "source": [
    "distinct_cols = np.intersect1d(azdias_p1.columns,customers_p1.columns)\n",
    "azdias_p1 = azdias_p1[distinct_cols]\n",
    "customers_p1 = customers_p1[distinct_cols]"
   ]
  },
  {
   "cell_type": "code",
   "execution_count": 23,
   "metadata": {},
   "outputs": [
    {
     "name": "stdout",
     "output_type": "stream",
     "text": [
      "<class 'pandas.core.frame.DataFrame'>\n",
      "RangeIndex: 134246 entries, 0 to 134245\n",
      "Columns: 354 entries, AKT_DAT_KL to ZABEOTYP\n",
      "dtypes: float64(354)\n",
      "memory usage: 362.6 MB\n"
     ]
    }
   ],
   "source": [
    "customers_p1.info()"
   ]
  },
  {
   "cell_type": "markdown",
   "metadata": {},
   "source": [
    "Lets check out what the most important features are using PCA. Since this ............................................................."
   ]
  },
  {
   "cell_type": "code",
   "execution_count": 26,
   "metadata": {},
   "outputs": [],
   "source": [
    "def plot_pca_exp_variance(data, n_comps=None,):\n",
    "    \"\"\"\n",
    "    Plots a normalised plot of the cumulative sum of the explained variance ratio for each \n",
    "    component number of components used in the PCA analysis. \n",
    "    \n",
    "    Input\n",
    "    data: Data to perform PCA on\n",
    "    n_comps: Number of components to perform PCA analysis on. If et to None all components will be used.\n",
    "    \"\"\"   \n",
    "    pca = create_pipeline(PCA())\n",
    "    pca.fit_transform(data)\n",
    "    \n",
    "    azdias_variance = np.cumsum(pca['model'].explained_variance_ratio_)\n",
    "    y_label = \"Percentage  of the explained variance\"\n",
    "\n",
    "    fig = plt.figure(figsize = (10,8))\n",
    "\n",
    "    ax = fig.add_subplot(212)\n",
    "    ax.plot(azdias_variance)\n",
    "    ax.set_xlabel(\"Number of components\")\n",
    "    ax.set_ylabel(y_label)\n",
    "    ax.set_title(\"PCA Explained Variance Ratio vs Number of Components \\n General population\")\n",
    "    ax.grid()\n",
    "    plt.show()\n",
    "    "
   ]
  },
  {
   "cell_type": "code",
   "execution_count": 27,
   "metadata": {},
   "outputs": [
    {
     "data": {
      "image/png": "[encoded data removed]",
      "text/plain": [
       "<Figure size 720x576 with 1 Axes>"
      ]
     },
     "metadata": {
      "needs_background": "light"
     },
     "output_type": "display_data"
    }
   ],
   "source": [
    "plot_pca_exp_variance(azdias_p1)"
   ]
  },
  {
   "cell_type": "markdown",
   "metadata": {},
   "source": [
    "Now lets take a closer look at what attributes are the most important"
   ]
  },
  {
   "cell_type": "code",
   "execution_count": null,
   "metadata": {},
   "outputs": [],
   "source": []
  },
  {
   "cell_type": "code",
   "execution_count": 35,
   "metadata": {},
   "outputs": [],
   "source": [
    "def plot_feature_weights(df, pca, dims, n_weights = 5,attrib_info=attributes_info):\n",
    "    \"\"\"\n",
    "    This function displays interesting features of the selected dims\n",
    "    \"\"\"\n",
    "    \n",
    "    features = df.columns.values\n",
    "    components = pca['model'].components_\n",
    "    feature_weights = dict(zip(features, components[dims]))\n",
    "    sorted_weights = sorted(feature_weights.items(), key = lambda kv: kv[1])\n",
    "    \n",
    "    feat_names = []\n",
    "    feat_weights = []\n",
    "    feat_descs = []\n",
    "\n",
    "    for feature, weight in sorted_weights[-n_weights:]:\n",
    "        feat_names.append(feature)\n",
    "        feat_weights.append(weight)\n",
    "        \n",
    "    for feature, weight, in sorted_weights[:n_weights]:\n",
    "        feat_names.append(feature)\n",
    "        feat_weights.append(weight)\n",
    "        \n",
    "    for feature in feat_names:\n",
    "        if feature in attrib_info.Attribute.values:\n",
    "            feat_descs.append(attrib_info[attrib_info.Attribute == feature].Description.values[0])\n",
    "        else:\n",
    "            feat_descs.append(\"Unknown description\")\n",
    "    \n",
    "    component_info = {\"Feature\":feat_names, \"Description\":feat_descs, \"FeatureWeight\":feat_weights}\n",
    "    component_info = pd.DataFrame(component_info)\n",
    "    component_info.sort_values(\"FeatureWeight\", inplace=True, ascending=False, ignore_index=True)\n",
    "    \n",
    "    #Start plotting\n",
    "    fig = plt.figure(figsize=(10,16))\n",
    "\n",
    "    ax = fig.add_subplot(211)\n",
    "    ax.bar(feat_names, feat_weights)\n",
    "    ax.set_ylabel(\"Feature Weight\")\n",
    "    ax.set_xlabel(\"Feature Name\")\n",
    "    ax.set_title(\"PCA Feature weights - Component {}\".format(dims+1))\n",
    "    for tick in ax.get_xticklabels():\n",
    "        tick.set_rotation(45)\n",
    "\n",
    "\n",
    "    fig.tight_layout()\n",
    "    plt.show()\n",
    "    \n",
    "    return component_info"
   ]
  },
  {
   "cell_type": "code",
   "execution_count": 31,
   "metadata": {},
   "outputs": [
    {
     "data": {
      "text/plain": [
       "Pipeline(steps=[('scaler', MinMaxScaler()), ('model', PCA(n_components=100))])"
      ]
     },
     "execution_count": 31,
     "metadata": {},
     "output_type": "execute_result"
    }
   ],
   "source": [
    "pca_p1 = create_pipeline(PCA(n_components=100))\n",
    "pca_p1.fit(azdias_p1)"
   ]
  },
  {
   "cell_type": "code",
   "execution_count": 34,
   "metadata": {},
   "outputs": [
    {
     "data": {
      "text/plain": [
       "array([[-0.12637021, -0.04790383,  0.01447854, ...,  0.03241779,\n",
       "        -0.05817446, -0.07680249],\n",
       "       [ 0.02507082, -0.06458598, -0.06158126, ..., -0.0028074 ,\n",
       "        -0.12494995,  0.0365522 ],\n",
       "       [-0.03386693, -0.00636117, -0.0035462 , ..., -0.07340715,\n",
       "         0.00468949, -0.01549096],\n",
       "       ...,\n",
       "       [ 0.00834725, -0.03352171, -0.00411445, ..., -0.01212125,\n",
       "        -0.08862661,  0.0168384 ],\n",
       "       [-0.03195484, -0.01448906, -0.00568972, ..., -0.01036437,\n",
       "         0.02866249,  0.01382883],\n",
       "       [-0.01304233, -0.25430213, -0.01146207, ...,  0.08147134,\n",
       "        -0.02150784,  0.0360951 ]])"
      ]
     },
     "execution_count": 34,
     "metadata": {},
     "output_type": "execute_result"
    }
   ],
   "source": [
    "pca_p1['model'].components_"
   ]
  },
  {
   "cell_type": "code",
   "execution_count": 36,
   "metadata": {},
   "outputs": [
    {
     "data": {
      "image/png": "[encoded data removed]",
      "text/plain": [
       "<Figure size 720x1152 with 1 Axes>"
      ]
     },
     "metadata": {
      "needs_background": "light"
     },
     "output_type": "display_data"
    },
    {
     "data": {
      "text/html": [
       "<div>\n",
       "<style scoped>\n",
       "    .dataframe tbody tr th:only-of-type {\n",
       "        vertical-align: middle;\n",
       "    }\n",
       "\n",
       "    .dataframe tbody tr th {\n",
       "        vertical-align: top;\n",
       "    }\n",
       "\n",
       "    .dataframe thead th {\n",
       "        text-align: right;\n",
       "    }\n",
       "</style>\n",
       "<table border=\"1\" class=\"dataframe\">\n",
       "  <thead>\n",
       "    <tr style=\"text-align: right;\">\n",
       "      <th></th>\n",
       "      <th>Feature</th>\n",
       "      <th>Description</th>\n",
       "      <th>FeatureWeight</th>\n",
       "    </tr>\n",
       "  </thead>\n",
       "  <tbody>\n",
       "    <tr>\n",
       "      <th>0</th>\n",
       "      <td>LP_STATUS_GROB</td>\n",
       "      <td>social status rough</td>\n",
       "      <td>0.170327</td>\n",
       "    </tr>\n",
       "    <tr>\n",
       "      <th>1</th>\n",
       "      <td>MIN_GEBAEUDEJAHR</td>\n",
       "      <td>year the building was first mentioned in our database</td>\n",
       "      <td>0.162733</td>\n",
       "    </tr>\n",
       "    <tr>\n",
       "      <th>2</th>\n",
       "      <td>KBA05_ANTG2</td>\n",
       "      <td>number of 3-5 family houses in the cell</td>\n",
       "      <td>0.149373</td>\n",
       "    </tr>\n",
       "    <tr>\n",
       "      <th>3</th>\n",
       "      <td>KBA05_HERST1</td>\n",
       "      <td>share of top German manufacturer (Mercedes, BMW)</td>\n",
       "      <td>0.131591</td>\n",
       "    </tr>\n",
       "    <tr>\n",
       "      <th>4</th>\n",
       "      <td>FINANZ_SPARER</td>\n",
       "      <td>financial typology: money saver</td>\n",
       "      <td>0.129627</td>\n",
       "    </tr>\n",
       "    <tr>\n",
       "      <th>5</th>\n",
       "      <td>KBA13_ANTG4</td>\n",
       "      <td>Unknown description</td>\n",
       "      <td>-0.141560</td>\n",
       "    </tr>\n",
       "    <tr>\n",
       "      <th>6</th>\n",
       "      <td>PLZ8_BAUMAX</td>\n",
       "      <td>most common building-type within the PLZ8</td>\n",
       "      <td>-0.145825</td>\n",
       "    </tr>\n",
       "    <tr>\n",
       "      <th>7</th>\n",
       "      <td>PLZ8_ANTG4</td>\n",
       "      <td>number of &gt;10 family houses in the PLZ8</td>\n",
       "      <td>-0.147356</td>\n",
       "    </tr>\n",
       "    <tr>\n",
       "      <th>8</th>\n",
       "      <td>KBA13_ANZAHL_PKW</td>\n",
       "      <td>number of cars in the PLZ8</td>\n",
       "      <td>-0.150875</td>\n",
       "    </tr>\n",
       "    <tr>\n",
       "      <th>9</th>\n",
       "      <td>KBA13_BJ_1999</td>\n",
       "      <td>share of cars built between 1995 and 1999 within the PLZ8</td>\n",
       "      <td>-0.153552</td>\n",
       "    </tr>\n",
       "  </tbody>\n",
       "</table>\n",
       "</div>"
      ],
      "text/plain": [
       "            Feature  \\\n",
       "0    LP_STATUS_GROB   \n",
       "1  MIN_GEBAEUDEJAHR   \n",
       "2       KBA05_ANTG2   \n",
       "3      KBA05_HERST1   \n",
       "4     FINANZ_SPARER   \n",
       "5       KBA13_ANTG4   \n",
       "6       PLZ8_BAUMAX   \n",
       "7        PLZ8_ANTG4   \n",
       "8  KBA13_ANZAHL_PKW   \n",
       "9     KBA13_BJ_1999   \n",
       "\n",
       "                                                 Description  FeatureWeight  \n",
       "0                                        social status rough       0.170327  \n",
       "1      year the building was first mentioned in our database       0.162733  \n",
       "2                    number of 3-5 family houses in the cell       0.149373  \n",
       "3          share of top German manufacturer (Mercedes, BMW)        0.131591  \n",
       "4                            financial typology: money saver       0.129627  \n",
       "5                                        Unknown description      -0.141560  \n",
       "6                  most common building-type within the PLZ8      -0.145825  \n",
       "7                    number of >10 family houses in the PLZ8      -0.147356  \n",
       "8                                 number of cars in the PLZ8      -0.150875  \n",
       "9  share of cars built between 1995 and 1999 within the PLZ8      -0.153552  "
      ]
     },
     "execution_count": 36,
     "metadata": {},
     "output_type": "execute_result"
    }
   ],
   "source": [
    "plot_feature_weights(azdias_p1,pca_p1,dims=0)"
   ]
  },
  {
   "cell_type": "markdown",
   "metadata": {},
   "source": [
    "it looks like the most important feature in the data set is whether someone's social status is rough. However the remainder of the top features from component 1 looks be a mixed bag with only the feature `FINANZ_SPARER` complementing the financial situation theme of the most important feature `LP_STATUS_GROB`."
   ]
  },
  {
   "cell_type": "code",
   "execution_count": 38,
   "metadata": {},
   "outputs": [
    {
     "data": {
      "image/png": "[encoded data removed]",
      "text/plain": [
       "<Figure size 720x1152 with 1 Axes>"
      ]
     },
     "metadata": {
      "needs_background": "light"
     },
     "output_type": "display_data"
    },
    {
     "data": {
      "text/html": [
       "<div>\n",
       "<style scoped>\n",
       "    .dataframe tbody tr th:only-of-type {\n",
       "        vertical-align: middle;\n",
       "    }\n",
       "\n",
       "    .dataframe tbody tr th {\n",
       "        vertical-align: top;\n",
       "    }\n",
       "\n",
       "    .dataframe thead th {\n",
       "        text-align: right;\n",
       "    }\n",
       "</style>\n",
       "<table border=\"1\" class=\"dataframe\">\n",
       "  <thead>\n",
       "    <tr style=\"text-align: right;\">\n",
       "      <th></th>\n",
       "      <th>Feature</th>\n",
       "      <th>Description</th>\n",
       "      <th>FeatureWeight</th>\n",
       "    </tr>\n",
       "  </thead>\n",
       "  <tbody>\n",
       "    <tr>\n",
       "      <th>0</th>\n",
       "      <td>FINANZ_UNAUFFAELLIGER</td>\n",
       "      <td>financial typology: unremarkable</td>\n",
       "      <td>0.196367</td>\n",
       "    </tr>\n",
       "    <tr>\n",
       "      <th>1</th>\n",
       "      <td>CJT_TYP_4</td>\n",
       "      <td>Unknown description</td>\n",
       "      <td>0.187735</td>\n",
       "    </tr>\n",
       "    <tr>\n",
       "      <th>2</th>\n",
       "      <td>CJT_TYP_3</td>\n",
       "      <td>Unknown description</td>\n",
       "      <td>0.184595</td>\n",
       "    </tr>\n",
       "    <tr>\n",
       "      <th>3</th>\n",
       "      <td>ORTSGR_KLS9</td>\n",
       "      <td>classified number of inhabitants</td>\n",
       "      <td>0.165922</td>\n",
       "    </tr>\n",
       "    <tr>\n",
       "      <th>4</th>\n",
       "      <td>FINANZ_HAUSBAUER</td>\n",
       "      <td>financial typology: main focus is the own house</td>\n",
       "      <td>0.163052</td>\n",
       "    </tr>\n",
       "    <tr>\n",
       "      <th>5</th>\n",
       "      <td>CJT_TYP_5</td>\n",
       "      <td>Unknown description</td>\n",
       "      <td>-0.167172</td>\n",
       "    </tr>\n",
       "    <tr>\n",
       "      <th>6</th>\n",
       "      <td>CJT_TYP_2</td>\n",
       "      <td>Unknown description</td>\n",
       "      <td>-0.168092</td>\n",
       "    </tr>\n",
       "    <tr>\n",
       "      <th>7</th>\n",
       "      <td>CJT_TYP_6</td>\n",
       "      <td>Unknown description</td>\n",
       "      <td>-0.169709</td>\n",
       "    </tr>\n",
       "    <tr>\n",
       "      <th>8</th>\n",
       "      <td>FINANZTYP</td>\n",
       "      <td>best descirbing financial type for the peron</td>\n",
       "      <td>-0.171636</td>\n",
       "    </tr>\n",
       "    <tr>\n",
       "      <th>9</th>\n",
       "      <td>D19_BANKEN_ANZ_12</td>\n",
       "      <td>Unknown description</td>\n",
       "      <td>-0.174026</td>\n",
       "    </tr>\n",
       "  </tbody>\n",
       "</table>\n",
       "</div>"
      ],
      "text/plain": [
       "                 Feature                                      Description  \\\n",
       "0  FINANZ_UNAUFFAELLIGER                 financial typology: unremarkable   \n",
       "1              CJT_TYP_4                              Unknown description   \n",
       "2              CJT_TYP_3                              Unknown description   \n",
       "3            ORTSGR_KLS9                 classified number of inhabitants   \n",
       "4       FINANZ_HAUSBAUER  financial typology: main focus is the own house   \n",
       "5              CJT_TYP_5                              Unknown description   \n",
       "6              CJT_TYP_2                              Unknown description   \n",
       "7              CJT_TYP_6                              Unknown description   \n",
       "8              FINANZTYP     best descirbing financial type for the peron   \n",
       "9      D19_BANKEN_ANZ_12                              Unknown description   \n",
       "\n",
       "   FeatureWeight  \n",
       "0       0.196367  \n",
       "1       0.187735  \n",
       "2       0.184595  \n",
       "3       0.165922  \n",
       "4       0.163052  \n",
       "5      -0.167172  \n",
       "6      -0.168092  \n",
       "7      -0.169709  \n",
       "8      -0.171636  \n",
       "9      -0.174026  "
      ]
     },
     "execution_count": 38,
     "metadata": {},
     "output_type": "execute_result"
    }
   ],
   "source": [
    "plot_feature_weights(azdias_p1,pca_p1,dims=1)"
   ]
  },
  {
   "cell_type": "markdown",
   "metadata": {},
   "source": [
    "It looks like the most important feature for the second component is the financial topology with features assocaited with CJT also making a dominating a lot of the most important features in this component. "
   ]
  },
  {
   "cell_type": "code",
   "execution_count": 39,
   "metadata": {},
   "outputs": [
    {
     "data": {
      "image/png": "[encoded data removed]",
      "text/plain": [
       "<Figure size 720x1152 with 1 Axes>"
      ]
     },
     "metadata": {
      "needs_background": "light"
     },
     "output_type": "display_data"
    },
    {
     "data": {
      "text/html": [
       "<div>\n",
       "<style scoped>\n",
       "    .dataframe tbody tr th:only-of-type {\n",
       "        vertical-align: middle;\n",
       "    }\n",
       "\n",
       "    .dataframe tbody tr th {\n",
       "        vertical-align: top;\n",
       "    }\n",
       "\n",
       "    .dataframe thead th {\n",
       "        text-align: right;\n",
       "    }\n",
       "</style>\n",
       "<table border=\"1\" class=\"dataframe\">\n",
       "  <thead>\n",
       "    <tr style=\"text-align: right;\">\n",
       "      <th></th>\n",
       "      <th>Feature</th>\n",
       "      <th>Description</th>\n",
       "      <th>FeatureWeight</th>\n",
       "    </tr>\n",
       "  </thead>\n",
       "  <tbody>\n",
       "    <tr>\n",
       "      <th>0</th>\n",
       "      <td>KBA13_HERST_EUROPA</td>\n",
       "      <td>share of European cars within the PLZ8</td>\n",
       "      <td>0.166467</td>\n",
       "    </tr>\n",
       "    <tr>\n",
       "      <th>1</th>\n",
       "      <td>ANZ_HAUSHALTE_AKTIV</td>\n",
       "      <td>number of households known in this building</td>\n",
       "      <td>0.163659</td>\n",
       "    </tr>\n",
       "    <tr>\n",
       "      <th>2</th>\n",
       "      <td>KBA13_SEG_UTILITIES</td>\n",
       "      <td>share of MUVs/SUVs within the PLZ8</td>\n",
       "      <td>0.148223</td>\n",
       "    </tr>\n",
       "    <tr>\n",
       "      <th>3</th>\n",
       "      <td>KBA13_FAB_ASIEN</td>\n",
       "      <td>share of other Asian Manufacturers within the PLZ8</td>\n",
       "      <td>0.146112</td>\n",
       "    </tr>\n",
       "    <tr>\n",
       "      <th>4</th>\n",
       "      <td>KBA13_MOTOR</td>\n",
       "      <td>most common motor size within the PLZ8</td>\n",
       "      <td>0.143080</td>\n",
       "    </tr>\n",
       "    <tr>\n",
       "      <th>5</th>\n",
       "      <td>KBA13_KMH_180</td>\n",
       "      <td>share of cars with max speed between 110 km/h and 180km/h within the PLZ8</td>\n",
       "      <td>-0.111630</td>\n",
       "    </tr>\n",
       "    <tr>\n",
       "      <th>6</th>\n",
       "      <td>KBA13_HALTER_30</td>\n",
       "      <td>share of car owners between 26 and 30 within the PLZ8</td>\n",
       "      <td>-0.112925</td>\n",
       "    </tr>\n",
       "    <tr>\n",
       "      <th>7</th>\n",
       "      <td>KBA13_SEG_KOMPAKTKLASSE</td>\n",
       "      <td>share of lowe midclass cars (Ford Focus etc.) in the PLZ8</td>\n",
       "      <td>-0.113594</td>\n",
       "    </tr>\n",
       "    <tr>\n",
       "      <th>8</th>\n",
       "      <td>CJT_KATALOGNUTZER</td>\n",
       "      <td>Unknown description</td>\n",
       "      <td>-0.118952</td>\n",
       "    </tr>\n",
       "    <tr>\n",
       "      <th>9</th>\n",
       "      <td>KBA13_SITZE_6</td>\n",
       "      <td>number of cars with more than 5 seats in the PLZ8</td>\n",
       "      <td>-0.144356</td>\n",
       "    </tr>\n",
       "  </tbody>\n",
       "</table>\n",
       "</div>"
      ],
      "text/plain": [
       "                   Feature  \\\n",
       "0       KBA13_HERST_EUROPA   \n",
       "1      ANZ_HAUSHALTE_AKTIV   \n",
       "2      KBA13_SEG_UTILITIES   \n",
       "3          KBA13_FAB_ASIEN   \n",
       "4              KBA13_MOTOR   \n",
       "5            KBA13_KMH_180   \n",
       "6          KBA13_HALTER_30   \n",
       "7  KBA13_SEG_KOMPAKTKLASSE   \n",
       "8        CJT_KATALOGNUTZER   \n",
       "9            KBA13_SITZE_6   \n",
       "\n",
       "                                                                 Description  \\\n",
       "0                                     share of European cars within the PLZ8   \n",
       "1                                number of households known in this building   \n",
       "2                                         share of MUVs/SUVs within the PLZ8   \n",
       "3                         share of other Asian Manufacturers within the PLZ8   \n",
       "4                                     most common motor size within the PLZ8   \n",
       "5  share of cars with max speed between 110 km/h and 180km/h within the PLZ8   \n",
       "6                      share of car owners between 26 and 30 within the PLZ8   \n",
       "7                  share of lowe midclass cars (Ford Focus etc.) in the PLZ8   \n",
       "8                                                        Unknown description   \n",
       "9                          number of cars with more than 5 seats in the PLZ8   \n",
       "\n",
       "   FeatureWeight  \n",
       "0       0.166467  \n",
       "1       0.163659  \n",
       "2       0.148223  \n",
       "3       0.146112  \n",
       "4       0.143080  \n",
       "5      -0.111630  \n",
       "6      -0.112925  \n",
       "7      -0.113594  \n",
       "8      -0.118952  \n",
       "9      -0.144356  "
      ]
     },
     "execution_count": 39,
     "metadata": {},
     "output_type": "execute_result"
    }
   ],
   "source": [
    "plot_feature_weights(azdias_p1,pca_p1,dims=2)"
   ]
  },
  {
   "cell_type": "markdown",
   "metadata": {},
   "source": [
    "## Clustering"
   ]
  },
  {
   "cell_type": "markdown",
   "metadata": {},
   "source": [
    "### Determining the number of clusters in the customers dataset\n",
    "\n",
    "In order to determine which people are more likely to respond to an advertisement, it is best to first try to determine what are the characteristics of existing customers and then checking if the general populous can be categorised under these categories. \n",
    "\n",
    "This objective lends itself to a clustering problem. This is where clusters of existing customers are created. KMeans clustering will be used to produce these clusters.\n",
    "\n",
    "The optimal number of clusters will be determined by using the the `calinski harabasz` scoring metric which gives a distinct maximum which corresponds to the optimal number of clusters. This is advantagous over other methods such as the elbow method as determining the optimal number of cluster is more subjective. TALK ABOUT HOW THE CALINSKI KARABASZ SCORING IS BASED OFF\n",
    "\n",
    "while the calinski_harabasz score computes the ratio of dispersion between and within clusters."
   ]
  },
  {
   "cell_type": "code",
   "execution_count": null,
   "metadata": {},
   "outputs": [],
   "source": []
  },
  {
   "cell_type": "code",
   "execution_count": 40,
   "metadata": {},
   "outputs": [],
   "source": [
    "from sklearn.cluster import KMeans\n",
    "from yellowbrick.cluster import KElbowVisualizer"
   ]
  },
  {
   "cell_type": "code",
   "execution_count": 41,
   "metadata": {},
   "outputs": [],
   "source": [
    "azdias_pca = pca_p1.fit_transform(azdias_p1)"
   ]
  },
  {
   "cell_type": "code",
   "execution_count": 44,
   "metadata": {},
   "outputs": [
    {
     "data": {
      "image/png": "[encoded data removed]",
      "text/plain": [
       "<Figure size 576x396 with 1 Axes>"
      ]
     },
     "metadata": {},
     "output_type": "display_data"
    }
   ],
   "source": [
    "\n",
    "# Instantiate the clustering model and visualizer\n",
    "km_customer = KMeans()\n",
    "visualizer = KElbowVisualizer(\n",
    "    km_customer, k=10, metric='distortion', timings=False\n",
    ")\n",
    "\n",
    "visualizer.fit(azdias_pca);        # Fit the data to the visualizer\n",
    "visualizer.show();        # Finalize and render the figure"
   ]
  },
  {
   "cell_type": "code",
   "execution_count": null,
   "metadata": {},
   "outputs": [],
   "source": []
  },
  {
   "cell_type": "markdown",
   "metadata": {},
   "source": [
    "From the above graph it is clear that the point of maximum curvature corresponds to a cluster number of 6. Therefore we will produce a cluster of size 6 and analyse the resulting clusters. "
   ]
  },
  {
   "cell_type": "code",
   "execution_count": 49,
   "metadata": {},
   "outputs": [
    {
     "data": {
      "text/plain": [
       "KMeans(n_clusters=5)"
      ]
     },
     "execution_count": 49,
     "metadata": {},
     "output_type": "execute_result"
    }
   ],
   "source": [
    "km_model = KMeans(n_clusters=5)\n",
    "\n",
    "km_model.fit(azdias_pca)"
   ]
  },
  {
   "cell_type": "code",
   "execution_count": 50,
   "metadata": {},
   "outputs": [],
   "source": [
    "customer_clusters = pd.Series(km_model.predict(pca_p1.fit_transform(customers_p1)))\n",
    "azdias_clusters = pd.Series(km_model.predict(pca_p1.fit_transform(azdias_p1)))"
   ]
  },
  {
   "cell_type": "code",
   "execution_count": 51,
   "metadata": {},
   "outputs": [
    {
     "data": {
      "text/html": [
       "<div>\n",
       "<style scoped>\n",
       "    .dataframe tbody tr th:only-of-type {\n",
       "        vertical-align: middle;\n",
       "    }\n",
       "\n",
       "    .dataframe tbody tr th {\n",
       "        vertical-align: top;\n",
       "    }\n",
       "\n",
       "    .dataframe thead th {\n",
       "        text-align: right;\n",
       "    }\n",
       "</style>\n",
       "<table border=\"1\" class=\"dataframe\">\n",
       "  <thead>\n",
       "    <tr style=\"text-align: right;\">\n",
       "      <th></th>\n",
       "      <th>Cluster</th>\n",
       "      <th>Population</th>\n",
       "      <th>Customers</th>\n",
       "    </tr>\n",
       "  </thead>\n",
       "  <tbody>\n",
       "    <tr>\n",
       "      <th>0</th>\n",
       "      <td>0</td>\n",
       "      <td>135477</td>\n",
       "      <td>21705</td>\n",
       "    </tr>\n",
       "    <tr>\n",
       "      <th>1</th>\n",
       "      <td>1</td>\n",
       "      <td>154263</td>\n",
       "      <td>26301</td>\n",
       "    </tr>\n",
       "    <tr>\n",
       "      <th>2</th>\n",
       "      <td>2</td>\n",
       "      <td>164238</td>\n",
       "      <td>25316</td>\n",
       "    </tr>\n",
       "    <tr>\n",
       "      <th>3</th>\n",
       "      <td>3</td>\n",
       "      <td>144966</td>\n",
       "      <td>29598</td>\n",
       "    </tr>\n",
       "    <tr>\n",
       "      <th>4</th>\n",
       "      <td>4</td>\n",
       "      <td>138344</td>\n",
       "      <td>31326</td>\n",
       "    </tr>\n",
       "  </tbody>\n",
       "</table>\n",
       "</div>"
      ],
      "text/plain": [
       "   Cluster  Population  Customers\n",
       "0        0      135477      21705\n",
       "1        1      154263      26301\n",
       "2        2      164238      25316\n",
       "3        3      144966      29598\n",
       "4        4      138344      31326"
      ]
     },
     "execution_count": 51,
     "metadata": {},
     "output_type": "execute_result"
    }
   ],
   "source": [
    "cluster_data = pd.DataFrame({\n",
    "    'Population': azdias_clusters.value_counts().sort_index(),\n",
    "    'Customers': customer_clusters.value_counts().sort_index()\n",
    "})\n",
    "\n",
    "cluster_data.reset_index(inplace=True)\n",
    "cluster_data.rename(columns={\"index\":\"Cluster\"}, inplace=True)\n",
    "cluster_data"
   ]
  },
  {
   "cell_type": "code",
   "execution_count": 52,
   "metadata": {},
   "outputs": [
    {
     "data": {
      "text/plain": [
       "Text(0.5, 0.98, 'Cluster Distributions')"
      ]
     },
     "execution_count": 52,
     "metadata": {},
     "output_type": "execute_result"
    },
    {
     "data": {
      "image/png": "[encoded data removed]",
      "text/plain": [
       "<Figure size 720x288 with 2 Axes>"
      ]
     },
     "metadata": {},
     "output_type": "display_data"
    }
   ],
   "source": [
    "fig, (ax1, ax2) = plt.subplots(1,2, figsize=(10, 4))\n",
    "\n",
    "ax1.bar(cluster_data[\"Cluster\"], cluster_data[\"Population\"])\n",
    "ax1.set_xlabel(\"Cluster\")\n",
    "ax1.set_ylabel(\"People within cluster\")\n",
    "ax1.set_title(\"General Population\")\n",
    "\n",
    "ax2.bar(cluster_data[\"Cluster\"], cluster_data[\"Customers\"])\n",
    "ax2.set_xlabel(\"Cluster\")\n",
    "ax2.set_ylabel(\"People within cluster\")\n",
    "ax2.set_title(\"Customers\")\n",
    "\n",
    "fig.suptitle(\"Cluster Distributions\")"
   ]
  },
  {
   "cell_type": "markdown",
   "metadata": {},
   "source": [
    "Lets see what the most which clusters have the largest proportion of customers to general population. This will be to shortlist the clusters which deserve the most attention"
   ]
  },
  {
   "cell_type": "code",
   "execution_count": 53,
   "metadata": {},
   "outputs": [
    {
     "data": {
      "text/plain": [
       "<matplotlib.lines.Line2D at 0x7f2c8914b970>"
      ]
     },
     "execution_count": 53,
     "metadata": {},
     "output_type": "execute_result"
    },
    {
     "data": {
      "image/png": "[encoded data removed]",
      "text/plain": [
       "<Figure size 576x396 with 1 Axes>"
      ]
     },
     "metadata": {},
     "output_type": "display_data"
    }
   ],
   "source": [
    "cluster_data['customer2pop_ratio'] = (cluster_data.Customers / cluster_data.Customers.sum())  / \\\n",
    "(cluster_data.Population / cluster_data.Population.sum())\n",
    "\n",
    "plt.bar(cluster_data.Cluster,cluster_data.customer2pop_ratio)\n",
    "plt.xlabel('Cluster')\n",
    "plt.ylabel('Proportion ratio')\n",
    "plt.title('Customer Population to General Population proportion ratio')\n",
    "plt.axhline(y=1, linestyle = \"--\",)\n"
   ]
  },
  {
   "cell_type": "markdown",
   "metadata": {},
   "source": [
    "All in all it looks like the proportion of customers are evenly distributed along each of the clusters. Therefore I don't think there's really much value in focusing more on any particular cluster."
   ]
  },
  {
   "cell_type": "markdown",
   "metadata": {},
   "source": [
    "* From this section we have learnt that most of the data can be dropped down to roughly 100 features and still attain a good idea of what the data is.\n",
    "* The clusters all roughly have the same proportion of customers in them. This implies that the number of customers are evenly distributed along the general population at a macroscale."
   ]
  },
  {
   "cell_type": "markdown",
   "metadata": {},
   "source": [
    "### Need to find the most important features for each cluster"
   ]
  },
  {
   "cell_type": "markdown",
   "metadata": {},
   "source": [
    "## Part 2: Supervised Learning Model\n",
    "\n",
    "Now that you've found which parts of the population are more likely to be customers of the mail-order company, it's time to build a prediction model. Each of the rows in the \"MAILOUT\" data files represents an individual that was targeted for a mailout campaign. Ideally, we should be able to use the demographic information from each individual to decide whether or not it will be worth it to include that person in the campaign.\n",
    "\n",
    "The \"MAILOUT\" data has been split into two approximately equal parts, each with almost 43 000 data rows. In this part, you can verify your model with the \"TRAIN\" partition, which includes a column, \"RESPONSE\", that states whether or not a person became a customer of the company following the campaign. In the next part, you'll need to create predictions on the \"TEST\" partition, where the \"RESPONSE\" column has been withheld."
   ]
  },
  {
   "cell_type": "code",
   "execution_count": 37,
   "metadata": {},
   "outputs": [],
   "source": [
    "mailout_train = pd.read_csv('./Udacity_MAILOUT_052018_TRAIN.csv')"
   ]
  },
  {
   "cell_type": "code",
   "execution_count": 38,
   "metadata": {},
   "outputs": [
    {
     "data": {
      "image/png": "[encoded data removed]",
      "text/plain": [
       "<Figure size 432x288 with 1 Axes>"
      ]
     },
     "metadata": {
      "needs_background": "light"
     },
     "output_type": "display_data"
    }
   ],
   "source": [
    "plt.hist(mailout_train.isna().sum(axis=0));"
   ]
  },
  {
   "cell_type": "code",
   "execution_count": 39,
   "metadata": {},
   "outputs": [
    {
     "data": {
      "image/png": "[encoded data removed]",
      "text/plain": [
       "<Figure size 432x288 with 1 Axes>"
      ]
     },
     "metadata": {
      "needs_background": "light"
     },
     "output_type": "display_data"
    }
   ],
   "source": [
    "plt.hist(mailout_train.isna().sum(axis=1));"
   ]
  },
  {
   "cell_type": "markdown",
   "metadata": {},
   "source": [
    "The best values look like around 50 for the rows and 15000 for the columns"
   ]
  },
  {
   "cell_type": "code",
   "execution_count": 41,
   "metadata": {},
   "outputs": [],
   "source": [
    "mailout_train = clean_df('./Udacity_MAILOUT_052018_TRAIN.csv',50,15_000)"
   ]
  },
  {
   "cell_type": "markdown",
   "metadata": {},
   "source": [
    "All the null values are removed"
   ]
  },
  {
   "cell_type": "markdown",
   "metadata": {},
   "source": [
    "Lets check how balanced the dataset is"
   ]
  },
  {
   "cell_type": "code",
   "execution_count": 43,
   "metadata": {},
   "outputs": [
    {
     "data": {
      "text/plain": [
       "(array([0, 1]), [Text(0, 0, '0.0'), Text(1, 0, '1.0')])"
      ]
     },
     "execution_count": 43,
     "metadata": {},
     "output_type": "execute_result"
    },
    {
     "data": {
      "image/png": "[encoded data removed]",
      "text/plain": [
       "<Figure size 432x288 with 1 Axes>"
      ]
     },
     "metadata": {
      "needs_background": "light"
     },
     "output_type": "display_data"
    }
   ],
   "source": [
    "sns.countplot(mailout_train['RESPONSE'])\n",
    "plt.xticks(rotation=90)"
   ]
  },
  {
   "cell_type": "markdown",
   "metadata": {},
   "source": [
    "From the above it looks like the dataset needs to be rebalanced. So lets perfrom random oversampling to rebalance the dataset. For more information about what random oversampling is, click <a href=https://machinelearningmastery.com/random-oversampling-and-undersampling-for-imbalanced-classification/>here.</a>"
   ]
  },
  {
   "cell_type": "code",
   "execution_count": 44,
   "metadata": {},
   "outputs": [],
   "source": [
    "def rand_oversamp(df,proportion=0.5,col='RESPONSE',val=1):\n",
    "    \"\"\"\n",
    "    Returns a dataframe where a sample is randomly chosen from a column of a given value\n",
    "    in the dataframe. The sample is then concatenated with the dataframe to produce a new dataframe \n",
    "    where the value is present in a predefined proportion.\n",
    "    Input\n",
    "    df: dataframe were random oversampling will be performed on.\n",
    "    \"\"\"\n",
    "    resample_num = int((0.5 * len(mailout_train) - mailout_train[col].value_counts()[1]) / 0.5)\n",
    "    to_sample = df[df[col] == val]\n",
    "    resample2add = to_sample.sample(n=resample_num,replace=True)\n",
    "    \n",
    "    return pd.concat([df,resample2add])"
   ]
  },
  {
   "cell_type": "code",
   "execution_count": 45,
   "metadata": {},
   "outputs": [],
   "source": [
    "mailout_train_rebalanced = rand_oversamp(mailout_train,proportion=0.5,val=1)"
   ]
  },
  {
   "cell_type": "code",
   "execution_count": 46,
   "metadata": {},
   "outputs": [
    {
     "data": {
      "text/plain": [
       "0.0    33421\n",
       "1.0    33421\n",
       "Name: RESPONSE, dtype: int64"
      ]
     },
     "execution_count": 46,
     "metadata": {},
     "output_type": "execute_result"
    }
   ],
   "source": [
    "mailout_train_rebalanced.RESPONSE.value_counts()"
   ]
  },
  {
   "cell_type": "markdown",
   "metadata": {},
   "source": [
    "Now lets create the training and test sets"
   ]
  },
  {
   "cell_type": "code",
   "execution_count": 47,
   "metadata": {},
   "outputs": [],
   "source": [
    "X_rebal = mailout_train_rebalanced.drop(columns=['RESPONSE'])\n",
    "y_rebal = mailout_train_rebalanced['RESPONSE']\n",
    "\n",
    "X_train_rebal, X_test_rebal, y_train_rebal, y_test_rebal = train_test_split(X_rebal,y_rebal,test_size=0.2)"
   ]
  },
  {
   "cell_type": "markdown",
   "metadata": {},
   "source": [
    "Prior to doing any training lets do some feature reduction using scikit-learn's `Selectkbest` estimator. For this instance lets use all of the dataframe to determine what the best number of parameters are. And also since this isn't directly used for training but rather as a qualitivative assessment of what the best parameters are."
   ]
  },
  {
   "cell_type": "code",
   "execution_count": 48,
   "metadata": {},
   "outputs": [
    {
     "data": {
      "text/plain": [
       "Pipeline(steps=[('scale', MinMaxScaler()),\n",
       "                ('kbest',\n",
       "                 SelectKBest(k='all',\n",
       "                             score_func=<function chi2 at 0x7fade7cc9820>))])"
      ]
     },
     "execution_count": 48,
     "metadata": {},
     "output_type": "execute_result"
    }
   ],
   "source": [
    "kbest_pipeline = Pipeline(steps=[\n",
    "    ('scale',MinMaxScaler()),\n",
    "    ('kbest',SelectKBest(chi2,k='all'))\n",
    "])\n",
    "\n",
    "kbest_pipeline.fit(X_rebal,y_rebal)"
   ]
  },
  {
   "cell_type": "code",
   "execution_count": 49,
   "metadata": {},
   "outputs": [],
   "source": [
    "kb_selector = kbest_pipeline['kbest']"
   ]
  },
  {
   "cell_type": "code",
   "execution_count": 97,
   "metadata": {},
   "outputs": [
    {
     "data": {
      "text/plain": [
       "Text(0, 0.5, 'Cumulative Chi squared score')"
      ]
     },
     "execution_count": 97,
     "metadata": {},
     "output_type": "execute_result"
    },
    {
     "data": {
      "image/png": "[encoded data removed]",
      "text/plain": [
       "<Figure size 432x288 with 1 Axes>"
      ]
     },
     "metadata": {
      "needs_background": "light"
     },
     "output_type": "display_data"
    }
   ],
   "source": [
    "plt.plot(np.cumsum(np.sort(np.abs(kb_selector.scores_))[::-1]))\n",
    "plt.xlabel('Number of features')\n",
    "plt.ylabel('Cumulative Chi squared score')"
   ]
  },
  {
   "cell_type": "code",
   "execution_count": 51,
   "metadata": {},
   "outputs": [],
   "source": [
    "idx = np.argsort(np.abs(kb_selector.scores_))[::-1][:15]\n",
    "top_features = X_rebal.columns[idx]"
   ]
  },
  {
   "cell_type": "code",
   "execution_count": 58,
   "metadata": {},
   "outputs": [],
   "source": [
    "d = []\n",
    "\n",
    "for feature in top_features:\n",
    "    if feature in attributes_info.Attribute.values:\n",
    "        d.append(attributes_info[attributes_info['Attribute'] == feature]['Description'].values[0])\n",
    "    else:\n",
    "        d.append('No description')"
   ]
  },
  {
   "cell_type": "code",
   "execution_count": 59,
   "metadata": {},
   "outputs": [
    {
     "data": {
      "text/plain": [
       "['No description',\n",
       " 'No description',\n",
       " 'No description',\n",
       " 'No description',\n",
       " 'actuality of the last transaction for the segment banks ONLINE',\n",
       " 'financial typology: unremarkable',\n",
       " 'share of all-terrain vehicles and MUVs in the microcell',\n",
       " 'No description',\n",
       " 'No description',\n",
       " 'No description',\n",
       " 'share of cars with an engine power between 31 and 40 KW - PLZ8',\n",
       " 'No description',\n",
       " 'No description',\n",
       " 'share of cars with max speed between 110 km/h and 140km/h within the PLZ8',\n",
       " 'share of cars with Diesel-engine in the microcell']"
      ]
     },
     "execution_count": 59,
     "metadata": {},
     "output_type": "execute_result"
    }
   ],
   "source": [
    "d"
   ]
  },
  {
   "cell_type": "code",
   "execution_count": 60,
   "metadata": {},
   "outputs": [],
   "source": [
    "def importance_report(df,kbest,n_features=10,attrib_info=attributes_info):\n",
    "    \"\"\"\n",
    "    Returns a dataframe which summarises the features and their descriptions along with the score value.\n",
    "    Input:\n",
    "    df: Dataframe to perform supervised feature selection on (via SelectKBest).\n",
    "    kbest: SelectKBest class which has already been fitted against the dataframe df.\n",
    "    n_features: The top n_features will be presented in the output dataframe\n",
    "    attrib_info: A dataframe which contains all the information about the column data and their\n",
    "    descriptions.\n",
    "    \"\"\"\n",
    "    #Plot curve for scores\n",
    "    plt.plot(np.cumsum(np.sort(np.abs(kbest.scores_))[::-1]))\n",
    "    #Get index to extract the column names and scores\n",
    "    idx = np.argsort(np.abs(kb_selector.scores_))[::-1][:n_features]\n",
    "    \n",
    "    scores = []\n",
    "    descriptions = []\n",
    "    features = []\n",
    "    \n",
    "    for i in idx:\n",
    "        scores.append(kbest.scores_[i])\n",
    "        features.append(df.columns[i])\n",
    "    \n",
    "    for feature in features:\n",
    "        if feature in attributes_info.Attribute.values:\n",
    "            descriptions.append(attrib_info[attrib_info['Attribute'] == feature]['Description'].values[0])\n",
    "        else:\n",
    "            descriptions.append('No description')\n",
    "\n",
    "    return pd.DataFrame({\n",
    "        'Feature':features,\n",
    "        'Description':descriptions,\n",
    "        'Chi squared scores': scores\n",
    "    })\n",
    "    "
   ]
  },
  {
   "cell_type": "code",
   "execution_count": 61,
   "metadata": {},
   "outputs": [
    {
     "data": {
      "text/plain": [
       "Index(['LNR', 'AKT_DAT_KL', 'ALTER_HH', 'ALTERSKATEGORIE_FEIN',\n",
       "       'ANZ_HAUSHALTE_AKTIV', 'ANZ_HH_TITEL', 'ANZ_KINDER', 'ANZ_PERSONEN',\n",
       "       'ANZ_STATISTISCHE_HAUSHALTE', 'ANZ_TITEL',\n",
       "       ...\n",
       "       'VHN', 'VK_DHT4A', 'VK_DISTANZ', 'VK_ZG11', 'W_KEIT_KIND_HH',\n",
       "       'WOHNDAUER_2008', 'WOHNLAGE', 'ZABEOTYP', 'ANREDE_KZ',\n",
       "       'ALTERSKATEGORIE_GROB'],\n",
       "      dtype='object', length=356)"
      ]
     },
     "execution_count": 61,
     "metadata": {},
     "output_type": "execute_result"
    }
   ],
   "source": [
    "X_rebal.columns"
   ]
  },
  {
   "cell_type": "code",
   "execution_count": 62,
   "metadata": {},
   "outputs": [
    {
     "data": {
      "text/html": [
       "<div>\n",
       "<style scoped>\n",
       "    .dataframe tbody tr th:only-of-type {\n",
       "        vertical-align: middle;\n",
       "    }\n",
       "\n",
       "    .dataframe tbody tr th {\n",
       "        vertical-align: top;\n",
       "    }\n",
       "\n",
       "    .dataframe thead th {\n",
       "        text-align: right;\n",
       "    }\n",
       "</style>\n",
       "<table border=\"1\" class=\"dataframe\">\n",
       "  <thead>\n",
       "    <tr style=\"text-align: right;\">\n",
       "      <th></th>\n",
       "      <th>Feature</th>\n",
       "      <th>Description</th>\n",
       "      <th>Chi squared scores</th>\n",
       "    </tr>\n",
       "  </thead>\n",
       "  <tbody>\n",
       "    <tr>\n",
       "      <th>0</th>\n",
       "      <td>D19_LEBENSMITTEL</td>\n",
       "      <td>No description</td>\n",
       "      <td>1946.992379</td>\n",
       "    </tr>\n",
       "    <tr>\n",
       "      <th>1</th>\n",
       "      <td>D19_KOSMETIK</td>\n",
       "      <td>No description</td>\n",
       "      <td>962.417342</td>\n",
       "    </tr>\n",
       "    <tr>\n",
       "      <th>2</th>\n",
       "      <td>D19_TECHNIK</td>\n",
       "      <td>No description</td>\n",
       "      <td>705.224438</td>\n",
       "    </tr>\n",
       "    <tr>\n",
       "      <th>3</th>\n",
       "      <td>D19_BANKEN_LOKAL</td>\n",
       "      <td>No description</td>\n",
       "      <td>379.193835</td>\n",
       "    </tr>\n",
       "    <tr>\n",
       "      <th>4</th>\n",
       "      <td>D19_BANKEN_ONLINE_DATUM</td>\n",
       "      <td>actuality of the last transaction for the segment banks ONLINE</td>\n",
       "      <td>349.554239</td>\n",
       "    </tr>\n",
       "    <tr>\n",
       "      <th>5</th>\n",
       "      <td>FINANZ_UNAUFFAELLIGER</td>\n",
       "      <td>financial typology: unremarkable</td>\n",
       "      <td>271.696473</td>\n",
       "    </tr>\n",
       "    <tr>\n",
       "      <th>6</th>\n",
       "      <td>KBA05_SEG7</td>\n",
       "      <td>share of all-terrain vehicles and MUVs in the microcell</td>\n",
       "      <td>259.072331</td>\n",
       "    </tr>\n",
       "    <tr>\n",
       "      <th>7</th>\n",
       "      <td>RT_SCHNAEPPCHEN</td>\n",
       "      <td>No description</td>\n",
       "      <td>233.934946</td>\n",
       "    </tr>\n",
       "    <tr>\n",
       "      <th>8</th>\n",
       "      <td>ANZ_KINDER</td>\n",
       "      <td>No description</td>\n",
       "      <td>221.960551</td>\n",
       "    </tr>\n",
       "    <tr>\n",
       "      <th>9</th>\n",
       "      <td>D19_VERSAND_ANZ_12</td>\n",
       "      <td>No description</td>\n",
       "      <td>221.814301</td>\n",
       "    </tr>\n",
       "  </tbody>\n",
       "</table>\n",
       "</div>"
      ],
      "text/plain": [
       "                   Feature  \\\n",
       "0         D19_LEBENSMITTEL   \n",
       "1             D19_KOSMETIK   \n",
       "2              D19_TECHNIK   \n",
       "3         D19_BANKEN_LOKAL   \n",
       "4  D19_BANKEN_ONLINE_DATUM   \n",
       "5    FINANZ_UNAUFFAELLIGER   \n",
       "6               KBA05_SEG7   \n",
       "7          RT_SCHNAEPPCHEN   \n",
       "8               ANZ_KINDER   \n",
       "9       D19_VERSAND_ANZ_12   \n",
       "\n",
       "                                                      Description  \\\n",
       "0                                                  No description   \n",
       "1                                                  No description   \n",
       "2                                                  No description   \n",
       "3                                                  No description   \n",
       "4  actuality of the last transaction for the segment banks ONLINE   \n",
       "5                                financial typology: unremarkable   \n",
       "6         share of all-terrain vehicles and MUVs in the microcell   \n",
       "7                                                  No description   \n",
       "8                                                  No description   \n",
       "9                                                  No description   \n",
       "\n",
       "   Chi squared scores  \n",
       "0         1946.992379  \n",
       "1          962.417342  \n",
       "2          705.224438  \n",
       "3          379.193835  \n",
       "4          349.554239  \n",
       "5          271.696473  \n",
       "6          259.072331  \n",
       "7          233.934946  \n",
       "8          221.960551  \n",
       "9          221.814301  "
      ]
     },
     "execution_count": 62,
     "metadata": {},
     "output_type": "execute_result"
    },
    {
     "data": {
      "image/png": "[encoded data removed]",
      "text/plain": [
       "<Figure size 432x288 with 1 Axes>"
      ]
     },
     "metadata": {
      "needs_background": "light"
     },
     "output_type": "display_data"
    }
   ],
   "source": [
    "importance_report(X_rebal,kb_selector)"
   ]
  },
  {
   "cell_type": "markdown",
   "metadata": {},
   "source": [
    "It looks like 150 components are sufficient for modelling the data. So we'll transform the data"
   ]
  },
  {
   "cell_type": "code",
   "execution_count": 54,
   "metadata": {},
   "outputs": [
    {
     "data": {
      "text/html": [
       "<div>\n",
       "<style scoped>\n",
       "    .dataframe tbody tr th:only-of-type {\n",
       "        vertical-align: middle;\n",
       "    }\n",
       "\n",
       "    .dataframe tbody tr th {\n",
       "        vertical-align: top;\n",
       "    }\n",
       "\n",
       "    .dataframe thead th {\n",
       "        text-align: right;\n",
       "    }\n",
       "</style>\n",
       "<table border=\"1\" class=\"dataframe\">\n",
       "  <thead>\n",
       "    <tr style=\"text-align: right;\">\n",
       "      <th></th>\n",
       "      <th>LNR</th>\n",
       "      <th>AKT_DAT_KL</th>\n",
       "      <th>ALTER_HH</th>\n",
       "      <th>ANZ_HAUSHALTE_AKTIV</th>\n",
       "      <th>ANZ_KINDER</th>\n",
       "      <th>ANZ_PERSONEN</th>\n",
       "      <th>CAMEO_INTL_2015</th>\n",
       "      <th>CJT_TYP_1</th>\n",
       "      <th>CJT_TYP_2</th>\n",
       "      <th>CJT_TYP_3</th>\n",
       "      <th>...</th>\n",
       "      <th>SHOPPER_TYP</th>\n",
       "      <th>STRUKTURTYP</th>\n",
       "      <th>VERDICHTUNGSRAUM</th>\n",
       "      <th>VERS_TYP</th>\n",
       "      <th>VHA</th>\n",
       "      <th>VK_DISTANZ</th>\n",
       "      <th>VK_ZG11</th>\n",
       "      <th>W_KEIT_KIND_HH</th>\n",
       "      <th>ZABEOTYP</th>\n",
       "      <th>ANREDE_KZ</th>\n",
       "    </tr>\n",
       "  </thead>\n",
       "  <tbody>\n",
       "    <tr>\n",
       "      <th>0</th>\n",
       "      <td>21.0</td>\n",
       "      <td>4.0</td>\n",
       "      <td>11.0</td>\n",
       "      <td>1.0</td>\n",
       "      <td>1.0</td>\n",
       "      <td>8.0</td>\n",
       "      <td>0.0</td>\n",
       "      <td>2.0</td>\n",
       "      <td>5.0</td>\n",
       "      <td>2.0</td>\n",
       "      <td>...</td>\n",
       "      <td>3.0</td>\n",
       "      <td>3.0</td>\n",
       "      <td>4.0</td>\n",
       "      <td>2.0</td>\n",
       "      <td>1.0</td>\n",
       "      <td>2.0</td>\n",
       "      <td>1.0</td>\n",
       "      <td>6.000000</td>\n",
       "      <td>3.0</td>\n",
       "      <td>2.0</td>\n",
       "    </tr>\n",
       "    <tr>\n",
       "      <th>1</th>\n",
       "      <td>19.0</td>\n",
       "      <td>4.0</td>\n",
       "      <td>9.0</td>\n",
       "      <td>1.0</td>\n",
       "      <td>4.0</td>\n",
       "      <td>13.0</td>\n",
       "      <td>0.0</td>\n",
       "      <td>2.0</td>\n",
       "      <td>2.0</td>\n",
       "      <td>2.0</td>\n",
       "      <td>...</td>\n",
       "      <td>2.0</td>\n",
       "      <td>1.0</td>\n",
       "      <td>0.0</td>\n",
       "      <td>1.0</td>\n",
       "      <td>1.0</td>\n",
       "      <td>2.0</td>\n",
       "      <td>1.0</td>\n",
       "      <td>4.000000</td>\n",
       "      <td>1.0</td>\n",
       "      <td>2.0</td>\n",
       "    </tr>\n",
       "    <tr>\n",
       "      <th>2</th>\n",
       "      <td>8.0</td>\n",
       "      <td>1.0</td>\n",
       "      <td>2.0</td>\n",
       "      <td>0.0</td>\n",
       "      <td>1.0</td>\n",
       "      <td>9.0</td>\n",
       "      <td>0.0</td>\n",
       "      <td>4.0</td>\n",
       "      <td>5.0</td>\n",
       "      <td>1.0</td>\n",
       "      <td>...</td>\n",
       "      <td>3.0</td>\n",
       "      <td>3.0</td>\n",
       "      <td>10.0</td>\n",
       "      <td>1.0</td>\n",
       "      <td>4.0</td>\n",
       "      <td>4.0</td>\n",
       "      <td>2.0</td>\n",
       "      <td>4.608797</td>\n",
       "      <td>3.0</td>\n",
       "      <td>1.0</td>\n",
       "    </tr>\n",
       "    <tr>\n",
       "      <th>3</th>\n",
       "      <td>8.0</td>\n",
       "      <td>1.0</td>\n",
       "      <td>2.0</td>\n",
       "      <td>1.0</td>\n",
       "      <td>1.0</td>\n",
       "      <td>6.0</td>\n",
       "      <td>0.0</td>\n",
       "      <td>2.0</td>\n",
       "      <td>5.0</td>\n",
       "      <td>2.0</td>\n",
       "      <td>...</td>\n",
       "      <td>1.0</td>\n",
       "      <td>3.0</td>\n",
       "      <td>5.0</td>\n",
       "      <td>2.0</td>\n",
       "      <td>1.0</td>\n",
       "      <td>11.0</td>\n",
       "      <td>11.0</td>\n",
       "      <td>6.000000</td>\n",
       "      <td>3.0</td>\n",
       "      <td>2.0</td>\n",
       "    </tr>\n",
       "    <tr>\n",
       "      <th>4</th>\n",
       "      <td>31.0</td>\n",
       "      <td>6.0</td>\n",
       "      <td>13.0</td>\n",
       "      <td>1.0</td>\n",
       "      <td>1.0</td>\n",
       "      <td>9.0</td>\n",
       "      <td>0.0</td>\n",
       "      <td>6.0</td>\n",
       "      <td>5.0</td>\n",
       "      <td>1.0</td>\n",
       "      <td>...</td>\n",
       "      <td>1.0</td>\n",
       "      <td>3.0</td>\n",
       "      <td>4.0</td>\n",
       "      <td>1.0</td>\n",
       "      <td>0.0</td>\n",
       "      <td>2.0</td>\n",
       "      <td>1.0</td>\n",
       "      <td>6.000000</td>\n",
       "      <td>3.0</td>\n",
       "      <td>1.0</td>\n",
       "    </tr>\n",
       "  </tbody>\n",
       "</table>\n",
       "<p>5 rows × 150 columns</p>\n",
       "</div>"
      ],
      "text/plain": [
       "    LNR  AKT_DAT_KL  ALTER_HH  ANZ_HAUSHALTE_AKTIV  ANZ_KINDER  ANZ_PERSONEN  \\\n",
       "0  21.0         4.0      11.0                  1.0         1.0           8.0   \n",
       "1  19.0         4.0       9.0                  1.0         4.0          13.0   \n",
       "2   8.0         1.0       2.0                  0.0         1.0           9.0   \n",
       "3   8.0         1.0       2.0                  1.0         1.0           6.0   \n",
       "4  31.0         6.0      13.0                  1.0         1.0           9.0   \n",
       "\n",
       "   CAMEO_INTL_2015  CJT_TYP_1  CJT_TYP_2  CJT_TYP_3  ...  SHOPPER_TYP  \\\n",
       "0              0.0        2.0        5.0        2.0  ...          3.0   \n",
       "1              0.0        2.0        2.0        2.0  ...          2.0   \n",
       "2              0.0        4.0        5.0        1.0  ...          3.0   \n",
       "3              0.0        2.0        5.0        2.0  ...          1.0   \n",
       "4              0.0        6.0        5.0        1.0  ...          1.0   \n",
       "\n",
       "   STRUKTURTYP  VERDICHTUNGSRAUM  VERS_TYP  VHA  VK_DISTANZ  VK_ZG11  \\\n",
       "0          3.0               4.0       2.0  1.0         2.0      1.0   \n",
       "1          1.0               0.0       1.0  1.0         2.0      1.0   \n",
       "2          3.0              10.0       1.0  4.0         4.0      2.0   \n",
       "3          3.0               5.0       2.0  1.0        11.0     11.0   \n",
       "4          3.0               4.0       1.0  0.0         2.0      1.0   \n",
       "\n",
       "   W_KEIT_KIND_HH  ZABEOTYP  ANREDE_KZ  \n",
       "0        6.000000       3.0        2.0  \n",
       "1        4.000000       1.0        2.0  \n",
       "2        4.608797       3.0        1.0  \n",
       "3        6.000000       3.0        2.0  \n",
       "4        6.000000       3.0        1.0  \n",
       "\n",
       "[5 rows x 150 columns]"
      ]
     },
     "execution_count": 54,
     "metadata": {},
     "output_type": "execute_result"
    }
   ],
   "source": [
    "kbest_pipeline_150  = Pipeline(steps=[\n",
    "    ('scaler',MinMaxScaler()),\n",
    "    ('kbest',SelectKBest(chi2,k=150))\n",
    "])\n",
    "kbest_pipeline_150.fit(X_rebal, y_rebal)\n",
    "\n",
    "cols = kbest_pipeline_150['kbest'].get_support(indices=True)\n",
    "X_rebal_kbest = X_rebal.iloc[:,cols]\n",
    "X_rebal_kbest.head()"
   ]
  },
  {
   "cell_type": "code",
   "execution_count": null,
   "metadata": {},
   "outputs": [],
   "source": []
  },
  {
   "cell_type": "markdown",
   "metadata": {},
   "source": [
    "## Training the model"
   ]
  },
  {
   "cell_type": "markdown",
   "metadata": {},
   "source": [
    "Lets split the data and then create a pipeline to train and another function to evaluate the model"
   ]
  },
  {
   "cell_type": "code",
   "execution_count": 55,
   "metadata": {},
   "outputs": [],
   "source": [
    "X_trn, X_tst, y_trn, y_tst = train_test_split(X_rebal_kbest,y_rebal.astype('int'),test_size=0.2, random_state=0)"
   ]
  },
  {
   "cell_type": "code",
   "execution_count": 56,
   "metadata": {},
   "outputs": [
    {
     "data": {
      "text/plain": [
       "0    26809\n",
       "1    26664\n",
       "Name: RESPONSE, dtype: int64"
      ]
     },
     "execution_count": 56,
     "metadata": {},
     "output_type": "execute_result"
    }
   ],
   "source": [
    "y_trn.value_counts()"
   ]
  },
  {
   "cell_type": "code",
   "execution_count": 69,
   "metadata": {},
   "outputs": [],
   "source": [
    "def create_pipeline(model):\n",
    "    \"\"\"Creates a pipeline for training a model. Only transformation is the MinMaxScaler. \n",
    "    This is a helper function for optimise_model\"\"\"\n",
    "    return Pipeline(steps=[\n",
    "    ('scaler',MinMaxScaler()),\n",
    "    ('model',model)\n",
    "])\n",
    "\n",
    "def _train_gridcv(pipe,params,xtrain=X_trn,ytrain=y_trn):\n",
    "    \"\"\"Creates a gridsearchcv object which is trained using xtrain as the input data and ytrain as the label.\n",
    "    Returns the gridsearchcv object. This is a helper function for optimise_model\n",
    "    \"\"\"\n",
    "    \n",
    "    g = GridSearchCV(pipe,param_grid=params,scoring=roc_auc_score)\n",
    "    g.fit(xtrain,ytrain)\n",
    "    print('The best estimator is:')\n",
    "    print(g.best_params_)\n",
    "    print('='*20)\n",
    "    return g\n",
    "\n",
    "def _evaluate(grid,xtest=X_tst,ytest=y_tst):\n",
    "    \"\"\"\n",
    "    Evaluates the model based on the test set. This is a helper function for optimise_model\n",
    "    \"\"\"\n",
    "\n",
    "    model = grid.best_estimator_\n",
    "    preds = model.predict(xtest)\n",
    "    return roc_auc_score(preds,ytest)\n",
    "\n",
    "def optimise_model(pipe,params,xtrain=X_trn,xtest=X_tst,ytrain=y_trn,ytest=y_tst):\n",
    "    \"\"\"\n",
    "    Takes in a pipeline and creates a gridsearchcv object which is used to determine the optimal set\n",
    "    of parameters defined by the 'params' parameter.\n",
    "    \"\"\"\n",
    "    \n",
    "    trained_grid = _train_gridcv(pipe,params)\n",
    "    \n",
    "    final_score = _evaluate(trained_grid)\n",
    "    \n",
    "    print('Final score:',final_score)\n",
    "    return trained_grid\n",
    "\n",
    "def model_scorer(model,xtrain=X_trn,xtest=X_tst,ytrain=y_trn,ytest=y_tst):\n",
    "    \"\"\"\n",
    "    Trains a model and returns the score\n",
    "    \"\"\"\n",
    "    model_pipe = create_pipeline(model)\n",
    "    model_pipe.fit(xtrain,ytrain)\n",
    "    preds = model_pipe.predict(xtest)\n",
    "    score = roc_auc_score(preds,ytest)\n",
    "    return score\n",
    "    "
   ]
  },
  {
   "cell_type": "code",
   "execution_count": 81,
   "metadata": {},
   "outputs": [],
   "source": [
    "models = [(\"LogisticRegression\", LogisticRegression()),\n",
    "          ('KNearestNeighbour',KNeighborsClassifier()),\n",
    "          ('GaussianNB', GaussianNB()),\n",
    "          (\"XGBClassifier\",XGBRFClassifier())]"
   ]
  },
  {
   "cell_type": "code",
   "execution_count": 83,
   "metadata": {},
   "outputs": [
    {
     "name": "stdout",
     "output_type": "stream",
     "text": [
      "[20:31:56] WARNING: ../src/learner.cc:1095: Starting in XGBoost 1.3.0, the default evaluation metric used with the objective 'binary:logistic' was changed from 'error' to 'logloss'. Explicitly set eval_metric if you'd like to restore the old behavior.\n"
     ]
    },
    {
     "data": {
      "text/html": [
       "<div>\n",
       "<style scoped>\n",
       "    .dataframe tbody tr th:only-of-type {\n",
       "        vertical-align: middle;\n",
       "    }\n",
       "\n",
       "    .dataframe tbody tr th {\n",
       "        vertical-align: top;\n",
       "    }\n",
       "\n",
       "    .dataframe thead th {\n",
       "        text-align: right;\n",
       "    }\n",
       "</style>\n",
       "<table border=\"1\" class=\"dataframe\">\n",
       "  <thead>\n",
       "    <tr style=\"text-align: right;\">\n",
       "      <th></th>\n",
       "      <th>Model</th>\n",
       "      <th>Score</th>\n",
       "    </tr>\n",
       "  </thead>\n",
       "  <tbody>\n",
       "    <tr>\n",
       "      <th>0</th>\n",
       "      <td>LogisticRegression</td>\n",
       "      <td>0.741304</td>\n",
       "    </tr>\n",
       "    <tr>\n",
       "      <th>1</th>\n",
       "      <td>RandomForestClassifier</td>\n",
       "      <td>1.000000</td>\n",
       "    </tr>\n",
       "    <tr>\n",
       "      <th>2</th>\n",
       "      <td>KNearestNeighbour</td>\n",
       "      <td>0.973577</td>\n",
       "    </tr>\n",
       "    <tr>\n",
       "      <th>3</th>\n",
       "      <td>GaussianNB</td>\n",
       "      <td>0.683188</td>\n",
       "    </tr>\n",
       "    <tr>\n",
       "      <th>4</th>\n",
       "      <td>XGBClassifier</td>\n",
       "      <td>0.858027</td>\n",
       "    </tr>\n",
       "  </tbody>\n",
       "</table>\n",
       "</div>"
      ],
      "text/plain": [
       "                    Model     Score\n",
       "0      LogisticRegression  0.741304\n",
       "1  RandomForestClassifier  1.000000\n",
       "2       KNearestNeighbour  0.973577\n",
       "3              GaussianNB  0.683188\n",
       "4           XGBClassifier  0.858027"
      ]
     },
     "execution_count": 83,
     "metadata": {},
     "output_type": "execute_result"
    }
   ],
   "source": [
    "model_results = {\n",
    "    'Model':[],\n",
    "    'Score':[]\n",
    "}\n",
    "\n",
    "for name,model in models:\n",
    "    model_results['Model'].append(name)\n",
    "    model_results['Score'].append(model_scorer(model))\n",
    "\n",
    "pd.DataFrame(model_results)"
   ]
  },
  {
   "cell_type": "markdown",
   "metadata": {},
   "source": [
    "### K nearest neighbours"
   ]
  },
  {
   "cell_type": "code",
   "execution_count": 67,
   "metadata": {},
   "outputs": [
    {
     "name": "stdout",
     "output_type": "stream",
     "text": [
      "The best estimator is:\n",
      "{'model__n_neighbors': 1, 'model__weights': 'uniform'}\n",
      "====================\n",
      "Final score: 0.990134919483534\n"
     ]
    }
   ],
   "source": [
    "knn_pipe = create_pipeline(KNeighborsClassifier())\n",
    "knn_param_grid = {\n",
    "    'model__n_neighbors': [1,2,3,4,6,8,10],\n",
    "    'model__weights': ['uniform','distance']\n",
    "}\n",
    "\n",
    "knn_trained_grid = optimise_model(knn_pipe,knn_param_grid)"
   ]
  },
  {
   "cell_type": "code",
   "execution_count": 71,
   "metadata": {},
   "outputs": [
    {
     "name": "stdout",
     "output_type": "stream",
     "text": [
      "CPU times: user 6min 38s, sys: 6.16 s, total: 6min 44s\n",
      "Wall time: 6min 44s\n"
     ]
    },
    {
     "data": {
      "text/plain": [
       "array([0, 0, 0, ..., 1, 1, 1])"
      ]
     },
     "execution_count": 71,
     "metadata": {},
     "output_type": "execute_result"
    }
   ],
   "source": [
    "%%time\n",
    "knn_trained_grid.predict(X_rebal_kbest);\n"
   ]
  },
  {
   "cell_type": "markdown",
   "metadata": {},
   "source": [
    "Unfortunately with 150 features it is unfeasible to use permutation feature importance to determine the most importance features for the k nearest neighbour algorithm."
   ]
  },
  {
   "cell_type": "markdown",
   "metadata": {},
   "source": [
    "### Logistic regression"
   ]
  },
  {
   "cell_type": "code",
   "execution_count": 69,
   "metadata": {},
   "outputs": [
    {
     "name": "stdout",
     "output_type": "stream",
     "text": [
      "The best estimator is:\n",
      "{'model__warm_start': True}\n",
      "====================\n",
      "Final score: 0.747456241744437\n"
     ]
    }
   ],
   "source": [
    "logreg_pipe = create_pipeline(LogisticRegression(max_iter=500,solver='saga',tol=0.01))\n",
    "logreg_param_grid = {\n",
    "    'model__warm_start': [True, False]\n",
    "}\n",
    "\n",
    "logreg_trained_grid = optimise_model(logreg_pipe,logreg_param_grid)"
   ]
  },
  {
   "cell_type": "code",
   "execution_count": null,
   "metadata": {},
   "outputs": [],
   "source": []
  },
  {
   "cell_type": "code",
   "execution_count": null,
   "metadata": {},
   "outputs": [],
   "source": []
  },
  {
   "cell_type": "code",
   "execution_count": 128,
   "metadata": {},
   "outputs": [
    {
     "data": {
      "text/plain": [
       "[<matplotlib.lines.Line2D at 0x7fb004bb9cd0>]"
      ]
     },
     "execution_count": 128,
     "metadata": {},
     "output_type": "execute_result"
    },
    {
     "data": {
      "image/png": "[encoded data removed]",
      "text/plain": [
       "<Figure size 432x288 with 1 Axes>"
      ]
     },
     "metadata": {
      "needs_background": "light"
     },
     "output_type": "display_data"
    }
   ],
   "source": [
    "logreg_best_model = logreg_trained_grid.best_estimator_['model']\n",
    "plt.plot(np.cumsum(np.sort(np.abs(logreg_best_model.coef_[0]))[::-1]))"
   ]
  },
  {
   "cell_type": "code",
   "execution_count": 125,
   "metadata": {},
   "outputs": [],
   "source": [
    "def logreg_important_features(grid,df=X_rebal_kbest,n_features=10,attrib_info=attributes_info):\n",
    "    \"\"\"\n",
    "    Returns a dataframe which summarises the features and their descriptions along with the most important\n",
    "    features based on the coefficients of the logistic regression.\n",
    "    Input:\n",
    "    df: Dataframe to perform supervised feature selection on (via SelectKBest).\n",
    "    grid: gridsearchcv class which has already been fitted against the dataframe df using logistic regression.\n",
    "    n_features: The top n_features will be presented in the output dataframe\n",
    "    attrib_info: A dataframe which contains all the information about the column data and their\n",
    "    descriptions.\n",
    "    \"\"\"\n",
    "    logreg_model = grid.best_estimator_['model']\n",
    "    idx = np.argsort(np.abs(logreg_model.coef_[0]))[::-1][:n_features]\n",
    "    \n",
    "    scores = []\n",
    "    descriptions = []\n",
    "    features = []\n",
    "    \n",
    "    for i in idx:\n",
    "        scores.append(logreg_model.coef_[0][i])\n",
    "        features.append(df.columns[i])\n",
    "    \n",
    "    for feature in features:\n",
    "        if feature in attributes_info.Attribute.values:\n",
    "            descriptions.append(attrib_info[attrib_info['Attribute'] == feature]['Description'].values[0])\n",
    "        else:\n",
    "            descriptions.append('No description')\n",
    "\n",
    "    return pd.DataFrame({\n",
    "        'Features':features,\n",
    "        'Description':descriptions,\n",
    "        'Feature_weight': scores\n",
    "    })"
   ]
  },
  {
   "cell_type": "code",
   "execution_count": 134,
   "metadata": {},
   "outputs": [
    {
     "data": {
      "text/html": [
       "<div>\n",
       "<style scoped>\n",
       "    .dataframe tbody tr th:only-of-type {\n",
       "        vertical-align: middle;\n",
       "    }\n",
       "\n",
       "    .dataframe tbody tr th {\n",
       "        vertical-align: top;\n",
       "    }\n",
       "\n",
       "    .dataframe thead th {\n",
       "        text-align: right;\n",
       "    }\n",
       "</style>\n",
       "<table border=\"1\" class=\"dataframe\">\n",
       "  <thead>\n",
       "    <tr style=\"text-align: right;\">\n",
       "      <th></th>\n",
       "      <th>Features</th>\n",
       "      <th>Description</th>\n",
       "      <th>Feature_weight</th>\n",
       "    </tr>\n",
       "  </thead>\n",
       "  <tbody>\n",
       "    <tr>\n",
       "      <th>0</th>\n",
       "      <td>D19_TECHNIK</td>\n",
       "      <td>No description</td>\n",
       "      <td>-2.151738</td>\n",
       "    </tr>\n",
       "    <tr>\n",
       "      <th>1</th>\n",
       "      <td>D19_TELKO_ANZ_24</td>\n",
       "      <td>No description</td>\n",
       "      <td>-2.109638</td>\n",
       "    </tr>\n",
       "    <tr>\n",
       "      <th>2</th>\n",
       "      <td>D19_BANKEN_ONLINE_DATUM</td>\n",
       "      <td>actuality of the last transaction for the segment banks ONLINE</td>\n",
       "      <td>-1.902042</td>\n",
       "    </tr>\n",
       "    <tr>\n",
       "      <th>3</th>\n",
       "      <td>MIN_GEBAEUDEJAHR</td>\n",
       "      <td>year the building was first mentioned in our database</td>\n",
       "      <td>-1.833519</td>\n",
       "    </tr>\n",
       "    <tr>\n",
       "      <th>4</th>\n",
       "      <td>D19_LEBENSMITTEL</td>\n",
       "      <td>No description</td>\n",
       "      <td>-1.615438</td>\n",
       "    </tr>\n",
       "    <tr>\n",
       "      <th>5</th>\n",
       "      <td>D19_KOSMETIK</td>\n",
       "      <td>No description</td>\n",
       "      <td>-1.602815</td>\n",
       "    </tr>\n",
       "    <tr>\n",
       "      <th>6</th>\n",
       "      <td>LP_STATUS_GROB</td>\n",
       "      <td>social status rough</td>\n",
       "      <td>1.591954</td>\n",
       "    </tr>\n",
       "    <tr>\n",
       "      <th>7</th>\n",
       "      <td>KBA13_HALTER_20</td>\n",
       "      <td>share of car owners below 21 within the PLZ8</td>\n",
       "      <td>1.383325</td>\n",
       "    </tr>\n",
       "    <tr>\n",
       "      <th>8</th>\n",
       "      <td>PLZ8_GBZ</td>\n",
       "      <td>number of buildings within the PLZ8</td>\n",
       "      <td>-1.293400</td>\n",
       "    </tr>\n",
       "    <tr>\n",
       "      <th>9</th>\n",
       "      <td>D19_TELKO_DATUM</td>\n",
       "      <td>actuality of the last transaction for the segment telecommunication TOTAL</td>\n",
       "      <td>1.265071</td>\n",
       "    </tr>\n",
       "  </tbody>\n",
       "</table>\n",
       "</div>"
      ],
      "text/plain": [
       "                  Features  \\\n",
       "0              D19_TECHNIK   \n",
       "1         D19_TELKO_ANZ_24   \n",
       "2  D19_BANKEN_ONLINE_DATUM   \n",
       "3         MIN_GEBAEUDEJAHR   \n",
       "4         D19_LEBENSMITTEL   \n",
       "5             D19_KOSMETIK   \n",
       "6           LP_STATUS_GROB   \n",
       "7          KBA13_HALTER_20   \n",
       "8                 PLZ8_GBZ   \n",
       "9          D19_TELKO_DATUM   \n",
       "\n",
       "                                                                 Description  \\\n",
       "0                                                             No description   \n",
       "1                                                             No description   \n",
       "2             actuality of the last transaction for the segment banks ONLINE   \n",
       "3                      year the building was first mentioned in our database   \n",
       "4                                                             No description   \n",
       "5                                                             No description   \n",
       "6                                                        social status rough   \n",
       "7                               share of car owners below 21 within the PLZ8   \n",
       "8                                        number of buildings within the PLZ8   \n",
       "9  actuality of the last transaction for the segment telecommunication TOTAL   \n",
       "\n",
       "   Feature_weight  \n",
       "0       -2.151738  \n",
       "1       -2.109638  \n",
       "2       -1.902042  \n",
       "3       -1.833519  \n",
       "4       -1.615438  \n",
       "5       -1.602815  \n",
       "6        1.591954  \n",
       "7        1.383325  \n",
       "8       -1.293400  \n",
       "9        1.265071  "
      ]
     },
     "execution_count": 134,
     "metadata": {},
     "output_type": "execute_result"
    }
   ],
   "source": [
    "logreg_important_features(logreg_trained_grid)"
   ]
  },
  {
   "cell_type": "markdown",
   "metadata": {},
   "source": [
    "### Naive bayes"
   ]
  },
  {
   "cell_type": "markdown",
   "metadata": {},
   "source": [
    "### XGBoosted learning"
   ]
  },
  {
   "cell_type": "code",
   "execution_count": 70,
   "metadata": {},
   "outputs": [
    {
     "name": "stdout",
     "output_type": "stream",
     "text": [
      "The best estimator is:\n",
      "{'model__gamma': 1.5, 'model__learning_rate': 0.05, 'model__max_depth': 15, 'model__n_estimators': 350}\n",
      "====================\n",
      "Final score: 0.9511885683760684\n",
      "CPU times: user 51min 36s, sys: 3.22 s, total: 51min 39s\n",
      "Wall time: 3min 18s\n"
     ]
    }
   ],
   "source": [
    "%%time\n",
    "xgb_pipe = create_pipeline(XGBRFClassifier(verbosity = 0,random_state=0))\n",
    "\n",
    "xgb_params = {\"model__max_depth\": [15],\n",
    "              \"model__learning_rate\": [0.05,0.1],\n",
    "              \"model__gamma\":[1.5],\n",
    "              \"model__n_estimators\":[350],\n",
    "              }\n",
    "xgb_trained_grid = optimise_model(xgb_pipe,xgb_params)"
   ]
  },
  {
   "cell_type": "code",
   "execution_count": 140,
   "metadata": {},
   "outputs": [
    {
     "name": "stdout",
     "output_type": "stream",
     "text": [
      "The best estimator is:\n",
      "{'model__gamma': 0.5, 'model__learning_rate': 0.001, 'model__max_depth': 15, 'model__n_estimators': 200}\n",
      "====================\n",
      "Final score: 0.9531857813547955\n"
     ]
    }
   ],
   "source": [
    "xgb_pipe = create_pipeline(XGBRFClassifier(verbosity = 0,random_state=0))\n",
    "\n",
    "xgb_params = {\"model__max_depth\": [5,10,15],\n",
    "              \"model__learning_rate\": [0.001,0.01,0.05],\n",
    "              \"model__gamma\":[0.5,1.0,1.5],\n",
    "              \"model__n_estimators\":[100,200,300],\n",
    "              }\n",
    "xgb_trained_grid = optimise_model(xgb_pipe,xgb_params)"
   ]
  },
  {
   "cell_type": "markdown",
   "metadata": {},
   "source": [
    "The best score by far was obtained through xgboost."
   ]
  },
  {
   "cell_type": "code",
   "execution_count": 146,
   "metadata": {},
   "outputs": [],
   "source": [
    "def xgb_important_features(grid,df=X_rebal_kbest,n_features=5,attrib_info=attributes_info):\n",
    "    \"\"\"\n",
    "    Returns a dataframe which summarises the features and their descriptions along with the score value\n",
    "    based on a fitted xgboost classifier.\n",
    "    Input:\n",
    "    df: Dataframe to perform supervised feature selection on (via SelectKBest).\n",
    "    grid: A gridsearchcv class which has already been fitted against the dataframe df using xgboost.\n",
    "    n_features: The top n_features will be presented in the output dataframe\n",
    "    attrib_info: A dataframe which contains all the information about the column data and their\n",
    "    descriptions.\n",
    "    \"\"\"\n",
    "    xgb_model = grid.best_estimator_['model']\n",
    "    idx = np.argsort(np.abs(xgb_model.feature_importances_))[::-1][:n_features]\n",
    "    \n",
    "    scores = []\n",
    "    descriptions = []\n",
    "    features = []\n",
    "    \n",
    "    for i in idx:\n",
    "        scores.append(xgb_model.feature_importances_[i])\n",
    "        features.append(df.columns[i])\n",
    "    \n",
    "    for feature in features:\n",
    "        if feature in attributes_info.Attribute.values:\n",
    "            descriptions.append(attrib_info[attrib_info['Attribute'] == feature]['Description'].values[0])\n",
    "        else:\n",
    "            descriptions.append('No description')\n",
    "\n",
    "    return pd.DataFrame({\n",
    "        'Features':features,\n",
    "        'Description':descriptions,\n",
    "        'Feature_weight': scores\n",
    "    })"
   ]
  },
  {
   "cell_type": "code",
   "execution_count": 147,
   "metadata": {},
   "outputs": [
    {
     "data": {
      "text/html": [
       "<div>\n",
       "<style scoped>\n",
       "    .dataframe tbody tr th:only-of-type {\n",
       "        vertical-align: middle;\n",
       "    }\n",
       "\n",
       "    .dataframe tbody tr th {\n",
       "        vertical-align: top;\n",
       "    }\n",
       "\n",
       "    .dataframe thead th {\n",
       "        text-align: right;\n",
       "    }\n",
       "</style>\n",
       "<table border=\"1\" class=\"dataframe\">\n",
       "  <thead>\n",
       "    <tr style=\"text-align: right;\">\n",
       "      <th></th>\n",
       "      <th>Features</th>\n",
       "      <th>Description</th>\n",
       "      <th>Feature_weight</th>\n",
       "    </tr>\n",
       "  </thead>\n",
       "  <tbody>\n",
       "    <tr>\n",
       "      <th>0</th>\n",
       "      <td>D19_TECHNIK</td>\n",
       "      <td>No description</td>\n",
       "      <td>0.195991</td>\n",
       "    </tr>\n",
       "    <tr>\n",
       "      <th>1</th>\n",
       "      <td>D19_LEBENSMITTEL</td>\n",
       "      <td>No description</td>\n",
       "      <td>0.048152</td>\n",
       "    </tr>\n",
       "    <tr>\n",
       "      <th>2</th>\n",
       "      <td>D19_KOSMETIK</td>\n",
       "      <td>No description</td>\n",
       "      <td>0.019213</td>\n",
       "    </tr>\n",
       "    <tr>\n",
       "      <th>3</th>\n",
       "      <td>LP_FAMILIE_FEIN</td>\n",
       "      <td>family type fine</td>\n",
       "      <td>0.008948</td>\n",
       "    </tr>\n",
       "    <tr>\n",
       "      <th>4</th>\n",
       "      <td>W_KEIT_KIND_HH</td>\n",
       "      <td>likelihood of a child present in this household (can be specified in child age groups)</td>\n",
       "      <td>0.008810</td>\n",
       "    </tr>\n",
       "  </tbody>\n",
       "</table>\n",
       "</div>"
      ],
      "text/plain": [
       "           Features  \\\n",
       "0       D19_TECHNIK   \n",
       "1  D19_LEBENSMITTEL   \n",
       "2      D19_KOSMETIK   \n",
       "3   LP_FAMILIE_FEIN   \n",
       "4    W_KEIT_KIND_HH   \n",
       "\n",
       "                                                                              Description  \\\n",
       "0                                                                          No description   \n",
       "1                                                                          No description   \n",
       "2                                                                          No description   \n",
       "3                                                                        family type fine   \n",
       "4  likelihood of a child present in this household (can be specified in child age groups)   \n",
       "\n",
       "   Feature_weight  \n",
       "0        0.195991  \n",
       "1        0.048152  \n",
       "2        0.019213  \n",
       "3        0.008948  \n",
       "4        0.008810  "
      ]
     },
     "execution_count": 147,
     "metadata": {},
     "output_type": "execute_result"
    }
   ],
   "source": [
    "xgb_important_features(xgb_trained_grid)"
   ]
  },
  {
   "cell_type": "markdown",
   "metadata": {},
   "source": [
    "It looks like the most important feature by far is `D19_TECHNIK` which is similar to the results with logistic regression however the results for xgboost is far more exaggerated."
   ]
  },
  {
   "cell_type": "markdown",
   "metadata": {},
   "source": [
    "## Part 3: Kaggle Competition\n",
    "\n",
    "Now that you've created a model to predict which individuals are most likely to respond to a mailout campaign, it's time to test that model in competition through Kaggle. If you click on the link [here](http://www.kaggle.com/t/21e6d45d4c574c7fa2d868f0e8c83140), you'll be taken to the competition page where, if you have a Kaggle account, you can enter.\n",
    "\n",
    "Your entry to the competition should be a CSV file with two columns. The first column should be a copy of \"LNR\", which acts as an ID number for each individual in the \"TEST\" partition. The second column, \"RESPONSE\", should be some measure of how likely each individual became a customer – this might not be a straightforward probability. As you should have found in Part 2, there is a large output class imbalance, where most individuals did not respond to the mailout. Thus, predicting individual classes and using accuracy does not seem to be an appropriate performance evaluation method. Instead, the competition will be using AUC to evaluate performance. The exact values of the \"RESPONSE\" column do not matter as much: only that the higher values try to capture as many of the actual customers as possible, early in the ROC curve sweep."
   ]
  },
  {
   "cell_type": "code",
   "execution_count": 84,
   "metadata": {},
   "outputs": [],
   "source": [
    "mailout_test = pd.read_csv('Udacity_MAILOUT_052018_TEST.csv',)"
   ]
  },
  {
   "cell_type": "code",
   "execution_count": 85,
   "metadata": {},
   "outputs": [],
   "source": [
    "mailout_test_LNR = mailout_test['LNR']"
   ]
  },
  {
   "cell_type": "code",
   "execution_count": 87,
   "metadata": {},
   "outputs": [],
   "source": [
    "mailout_test = clean_df('Udacity_MAILOUT_052018_TEST.csv',0,0,drop=False)"
   ]
  },
  {
   "cell_type": "code",
   "execution_count": 92,
   "metadata": {},
   "outputs": [],
   "source": [
    "knn = create_pipeline(KNeighborsClassifier(n_neighbors=1,weights='uniform'))\n",
    "knn.fit(X_rebal_kbest,y_rebal)\n",
    "preds_knn = knn.predict_proba(mailout_test[X_rebal_kbest.columns])[:,1]\n",
    "\n",
    "kaggle_knn = pd.DataFrame(index=mailout_test_LNR,data=preds_knn)\n",
    "kaggle_knn.rename(columns={0: \"RESPONSE\"}, inplace=True)"
   ]
  },
  {
   "cell_type": "code",
   "execution_count": 94,
   "metadata": {},
   "outputs": [
    {
     "data": {
      "text/html": [
       "<div>\n",
       "<style scoped>\n",
       "    .dataframe tbody tr th:only-of-type {\n",
       "        vertical-align: middle;\n",
       "    }\n",
       "\n",
       "    .dataframe tbody tr th {\n",
       "        vertical-align: top;\n",
       "    }\n",
       "\n",
       "    .dataframe thead th {\n",
       "        text-align: right;\n",
       "    }\n",
       "</style>\n",
       "<table border=\"1\" class=\"dataframe\">\n",
       "  <thead>\n",
       "    <tr style=\"text-align: right;\">\n",
       "      <th></th>\n",
       "      <th>RESPONSE</th>\n",
       "    </tr>\n",
       "    <tr>\n",
       "      <th>LNR</th>\n",
       "      <th></th>\n",
       "    </tr>\n",
       "  </thead>\n",
       "  <tbody>\n",
       "    <tr>\n",
       "      <th>1754</th>\n",
       "      <td>0.0</td>\n",
       "    </tr>\n",
       "    <tr>\n",
       "      <th>1770</th>\n",
       "      <td>0.0</td>\n",
       "    </tr>\n",
       "    <tr>\n",
       "      <th>1465</th>\n",
       "      <td>0.0</td>\n",
       "    </tr>\n",
       "    <tr>\n",
       "      <th>1470</th>\n",
       "      <td>0.0</td>\n",
       "    </tr>\n",
       "    <tr>\n",
       "      <th>1478</th>\n",
       "      <td>0.0</td>\n",
       "    </tr>\n",
       "  </tbody>\n",
       "</table>\n",
       "</div>"
      ],
      "text/plain": [
       "      RESPONSE\n",
       "LNR           \n",
       "1754       0.0\n",
       "1770       0.0\n",
       "1465       0.0\n",
       "1470       0.0\n",
       "1478       0.0"
      ]
     },
     "execution_count": 94,
     "metadata": {},
     "output_type": "execute_result"
    }
   ],
   "source": [
    "kaggle_knn.head()"
   ]
  },
  {
   "cell_type": "code",
   "execution_count": 96,
   "metadata": {},
   "outputs": [
    {
     "data": {
      "text/plain": [
       "(42833, 1)"
      ]
     },
     "execution_count": 96,
     "metadata": {},
     "output_type": "execute_result"
    }
   ],
   "source": [
    "kaggle_knn.shape"
   ]
  },
  {
   "cell_type": "markdown",
   "metadata": {},
   "source": [
    "Data is the correct shape"
   ]
  },
  {
   "cell_type": "code",
   "execution_count": 95,
   "metadata": {},
   "outputs": [],
   "source": [
    "kaggle_knn.to_csv('arvato_submission.csv')"
   ]
  },
  {
   "cell_type": "markdown",
   "metadata": {},
   "source": [
    "# References\n",
    "\n",
    "* https://www.scikit-yb.org/en/latest/api/cluster/elbow.html: fOR PLOTTING THE CURVE FOR KMEANS\n",
    "* https://machinelearningmastery.com/random-oversampling-and-undersampling-for-imbalanced-classification/: For random oversampling\n",
    "* https://machinelearningmastery.com/calculate-feature-importance-with-python/: For feature importance"
   ]
  }
 ],
 "metadata": {
  "kernelspec": {
   "display_name": "Python 3",
   "language": "python",
   "name": "python3"
  },
  "language_info": {
   "codemirror_mode": {
    "name": "ipython",
    "version": 3
   },
   "file_extension": ".py",
   "mimetype": "text/x-python",
   "name": "python",
   "nbconvert_exporter": "python",
   "pygments_lexer": "ipython3",
   "version": "3.9.5"
  }
 },
 "nbformat": 4,
 "nbformat_minor": 2
}
